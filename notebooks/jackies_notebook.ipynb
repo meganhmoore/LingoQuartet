{
 "cells": [
  {
   "cell_type": "markdown",
   "id": "7a63af5a",
   "metadata": {},
   "source": [
    "### Read In Data"
   ]
  },
  {
   "cell_type": "code",
   "execution_count": 25,
   "id": "a5f5a787",
   "metadata": {},
   "outputs": [
    {
     "name": "stderr",
     "output_type": "stream",
     "text": [
      "[nltk_data] Downloading package stopwords to\n",
      "[nltk_data]     /Users/jackieglasheen/nltk_data...\n",
      "[nltk_data]   Package stopwords is already up-to-date!\n",
      "[nltk_data] Downloading package punkt to\n",
      "[nltk_data]     /Users/jackieglasheen/nltk_data...\n",
      "[nltk_data]   Package punkt is already up-to-date!\n",
      "[nltk_data] Downloading package wordnet to\n",
      "[nltk_data]     /Users/jackieglasheen/nltk_data...\n",
      "[nltk_data]   Package wordnet is already up-to-date!\n"
     ]
    },
    {
     "data": {
      "text/plain": [
       "True"
      ]
     },
     "execution_count": 25,
     "metadata": {},
     "output_type": "execute_result"
    }
   ],
   "source": [
    "import json\n",
    "import pandas as pd\n",
    "import re\n",
    "\n",
    "import nltk\n",
    "from nltk.corpus import stopwords\n",
    "from nltk.tokenize import word_tokenize\n",
    "from nltk.stem import WordNetLemmatizer\n",
    "\n",
    "#from transformers import AutoTokenizer #kills my kernal\n",
    "\n",
    "nltk.download('stopwords')\n",
    "nltk.download('punkt')\n",
    "nltk.download('wordnet')\n"
   ]
  },
  {
   "cell_type": "markdown",
   "id": "8f07085d",
   "metadata": {},
   "source": [
    "punctuation\n",
    "stop word\n",
    "limit to first X words\n",
    "append tilile\n",
    "lematize"
   ]
  },
  {
   "cell_type": "code",
   "execution_count": 4,
   "id": "421c37e5",
   "metadata": {},
   "outputs": [],
   "source": [
    "path = '../data/articles.json'\n",
    "\n",
    "# Read the JSON file\n",
    "with open(path, 'r') as file:\n",
    "    data = json.load(file)\n",
    "\n"
   ]
  },
  {
   "cell_type": "code",
   "execution_count": 5,
   "id": "a1e70a03",
   "metadata": {},
   "outputs": [
    {
     "name": "stdout",
     "output_type": "stream",
     "text": [
      "{'title': '\\n\\t\\tTrump DC hotel falls millions short of projected revenue in first months\\t', 'article_text': 'President Trump’s Washington, D.C., hotel made at least $2 million less than projected in its first two months of operation, according to House Democrats citing documents obtained from the General Services Administration (GSA).Democrats on the House Oversight and Transportation committees revealed the information in a letter sent Monday to GSA Administrator Timothy Horne, in which they asked how the agency planned to handle the alleged breach of the lease on the hotel housed in the Old Post Office, just east of the White House on Pennsylvania Avenue.A provision in the lease, signed years before Trump began his presidential campaign, prevents any federal elected official from being included on or benefiting from the lease. The Democrats claim in their letter that Trump’s ascendance to the presidency on Friday is a breach of the lease.The documents Democrats obtained from the GSA and released Monday show that Trump has a 76.7 percent stake in the hotel.\\xa0The hotel has been a constant source of criticism from Democrats and ethics officials who warn it could be used by foreign governments and businesses to curry favor with the president. Adding to the focus Monday was a lawsuit filed by the left-leaning watchdog group Citizens for Responsibility and Ethics in Washington “to stop President Trump from violating the Constitution by illegally receiving payments from foreign governments.”{mosads}“Our hope has always been that President Trump would resolve these breach-of-lease and conflict of interest issues prior to being sworn in as President on January 20,” the Democrats wrote in their Monday letter.“Unfortunately, President Trump has refused to address these concerns, and taxpayer dollars may now be squandered as career public servants are forced to take remedial action to cure this breach.”The letter also includes the Trump hotel’s revenue versus estimates from September and October 2016, its first two months of operation.The Trump hotel made $1,301,000 in revenue in September, though it was projected to make $2,087,000 — meaning it faced a roughly $700,000 shortfall. The hotel made $2,771,000 in revenue in October, compared to a projected $4,276,000. That’s nearly $2.3 million less than projected in total.The hotel’s net loss for September was $334,000 and $825,000 in October. It was estimated to lose $84,000 in September and gain $481,000 in profit in October.“The possibility that President Trump will profit from large increases in hotel revenues because he was elected President highlights the grave concerns we have raised for months about his conflicts of interest and potential violations of the Emoluments Clause of the Constitution,” wrote the Democrats, citing a clause in the Constitution barring elected officials from receiving gifts or payments from foreign governments.The Democrats asked Horne if the agency would be notifying Trump that he violated his lease, and questioned how the GSA plans to deal with the alleged breach and how it would handle claims that the Trump Organization failed to pay contractors who worked on the hotel.The Democrats also asked for copies of correspondence between the GSA and the Trump Organization and transition team.', 'images': [{'url': 'https://i0.wp.com/thehill.com/wp-content/uploads/sites/2/2017/01/trumphotel618289268.jpg?w=2000&ssl=1', 'image_type': 'main', 'caption': '', 'alt_text': ''}, {'url': 'https://thehill.com/wp-content/uploads/sites/2/2017/01/trumphotel618289268.jpg?w=1280', 'image_type': 'social', 'caption': '', 'alt_text': ''}], 'uuid': '73ff4208-406e-11ee-a96e-33dec8f414a2', 'parent': '73ff4208-406e-11ee-a96e-33dec8f414a2'}\n",
      "{'title': '\\n\\t\\tOvernight Tech: Microsoft wants end to feds’ secret hacking tools | Latest on ransomware attack | John Oliver calls for ‘civil’ tone in net neutrality fight | House to vote on cyber bills\\t', 'article_text': 'MICROSOFT CALLS OUT GOVERNMENT HACKING PRACTICES:\\xa0On the heels of a widespread “ransomware” attack that may have used leaked National Security Agency hacking methods, Microsoft is calling for governments to cease stockpiling secret means of bypassing software security. \\xa0\\xa0“Repeatedly, exploits in the hands of governments have leaked into the public domain and caused widespread damage. An equivalent scenario with conventional weapons would be the U.S. military having some of its Tomahawk missiles stolen,” wrote Brad Smith, president and chief legal officer at Microsoft, on a company blog Sunday evening.Ransomware is a type of cyberattack that encrypts a target’s files, with the attacker providing the decryption key only after a ransom is paid, usually in bitcoin.{mosads}WanaDecrypt0r, alternately known by names like Wanna Cry, has struck hundreds of thousands of computers in more than 100 nations since the attack began Friday morning. Victims range from hospitals in the United Kingdom, a telecom company in Spain, U.S.-based FedEx, and the Russian Ministry of the Interior.WanaDecrypt0r was so virulent in part because it used a Windows hacking tool that appears to have been stolen from the NSA and leaked by a hacking group known as the Shadow Brokers. Though Microsoft had patched the security hole in Windows, businesses often lag in installing updates for reasons including industry-specific software being incompatible with the most current version of operating systems.“In February [we called] for a new ‘Digital Geneva Convention’ to govern these issues, including a new requirement for governments to report vulnerabilities to vendors, rather than stockpile, sell, or exploit them,” wrote Smith.By reporting bugs instead of using them to conduct cyber espionage, manufacturers would be able to increase cybersecurity for all of its users — but that would come at the cost of intelligence and sabotage operations.Read more\\xa0here, from our cybersecurity colleague Joe Uchill.\\xa0MORE ON WANNA CRY: Edward Snowden called the continuing “ransomware” scourge “a perfect storm of all the problems everyone has been warning about” at a privacy issues conference Monday.Russian President Vladimir Putin used the ransomware attack to deliver a jab at the U.S.Monday was the most lucrative day yet for the Wanna Cry ransomware.President Trump reportedly ordered an emergency meeting over the weekend to address the threat.\\xa0Please send your tips, comments and constructive criticism to Ali Breland (abreland@thehill.com) and Harper Neidig (hneidig@thehill.com) and follow us on Twitter:\\xa0@alibreland,\\xa0@hneidig\\xa0and\\xa0@HilliconValley. We’re also on Signal. Email or DM us for our numbers.\\xa0UBER ORDERED TO HAND OVER DOCS IN GOOGLE SUIT:\\xa0A federal judge on Monday ordered Uber to turn over thousands of files that were allegedly stolen from Google’s self-driving car subsidiary, Waymo.Waymo alleges that a former employee, Anthony Levandowski, stole about 14,000 documents — including trade secrets — before leaving to start a self-driving truck company called Otto. Uber later acquired Otto, gaining access to the files.Uber has until May 31 to return the files to Waymo, U.S. District Judge William Alsup ordered. The documents allegedly detail advancements Waymo had made with lidar — a radar system that most self-driving car companies to employ help their cars pilot themselves.Read more\\xa0here.\\xa0MODERNIZING GOVERNMENT TECH:\\xa0Rep. Will Hurd’s (R-Texas) bipartisan bill, the Modernizing Government Technology Act (MGT Act) is finally getting some movement. Its Congressional Budget Office score came in on Friday, with the CBO estimating the plan to update government technology and IT systems would cost around $500 million over the next five years. The bill is set to hit the House floor on Wednesday. After President Donald Trump’s Cybersecurity executive order last week, technology and cyber interests praised the order, but said that a plan for updating the federal government’s technology is\\xa0necessary\\xa0to protect the U.S. from cyber threats. Many see Hurd’s bill as the answer.For more on the CBO score, click here.For more on the upcoming votes on Hurd’s legislation and another bill to help combat cyber crime, click here.\\xa0SPICER TALKS APPLE:\\xa0White House press secretary Sean Spicer praised Apple during Monday’s White House Press Briefing, citing it as an example of a company that is investing in the U.S. “The president is also very glad to see businesses once again making significant investments in America, from Intel to General Motors to Walmart toApple, who specifically just announced earlier this month that they’ll start a $1 billion fund to promote manufacturing jobs here in the United States,” Spicer said. He called the hiring push an example of “the president’s domestic economic policies that are generating optimism.” Unlike many other companies who have announced hiring pushes recently, Apple did not tie its\\xa0announcement\\xa0to Trump or his policies.\\xa0JOHN OLIVER ADDRESS FCC COMMENTERS:\\xa0HBO comedian John Oliver on Sunday again rallied his viewers to submit pro-net neutrality comments to the Federal Communications Commission, but took a shot at those who had been using the site to launch personal attacks against the FCC’s GOP chairman.Supporters of Ajit Pai, who has kicked off proceedings to roll back Obama-era net neutrality protections, have been quick to seize on inflammatory comments filed in the past week, after Oliver urged his audience to show support for the regulations.And on Sunday, Oliver acknowledged in a YouTube video that there were racist comments filed in support of net neutrality and had a simple message for any of his viewers who may have written them: “Stop it. Do not f—ing do that.”“Writing racist things on the internet is not how you win the net neutrality debate,” Oliver said. “It’s how you win the presidency.”Read more\\xa0here.\\xa0FTC LAUNCHES CAMPAIGN TO CRACK DOWN ON TECH SUPPORT SCAMS:\\xa0The Federal Trade Commission (FTC) is taking tougher steps to try and stop fraudulent tech support schemes, which are scamming consumers out of millions of dollars.The agency has launched a new effort, dubbed Operation Tech Trap, to end online scams where customers are tricked into believing their computers are infected with a virus and that they must pay a third party to solve the issue.The fraud involves scammers running deceptive pop-up ads that look like security alerts from Apple or Microsoft. The alerts falsely warn users that their computers are infected with a virus and that if they close the warning, the contents of their hard drive will be deleted. The ads provide a phone number to call, which promises to fix the nonexistent virus.Read more\\xa0here.\\xa0GOOGLE, LYFT TEAM UP ON SELF-DRIVING CARS:\\xa0Google’s self-driving car company has reached a deal to work with Lyft on autonomous vehicle technology, the companies said Monday.The partnership, which was first reported by The New York Times, comes as the race heats up to get driverless cars on the road.“We’re looking forward to working with Lyft to explore new self-driving products that will make our roads safer and transportation more accessible,” said a spokesman for Waymo, Google’s driverless car company. “Lyft’s vision and commitment to improving the way cities move will help Waymo’s self-driving technology reach more people, in more places.”Read more\\xa0here.\\xa0ON TAP:NIST will\\xa0hold\\xa0a cybersecurity framework workshop at 7:30 a.m. on Tuesday\\xa0IN CASE YOU MISSED IT:Hopes\\xa0rise\\xa0Trump will modernize feds’ technologyJudge asks federal prosecutor to\\xa0investigate UberExec to Trump:\\xa0Replace press briefings with TwitterDaily Caller:\\xa0Net neutrality activists protest outside FCC chair’s houseAdvocacy groups\\xa0ask\\xa0federal court to block FCC media ownership ruleTrump\\xa0signs\\xa0cybersecurity executive order', 'images': [{'url': 'https://i0.wp.com/thehill.com/wp-content/uploads/sites/2/2017/04/cybersecurity_getty.jpg?w=2000&ssl=1', 'image_type': 'main', 'caption': '', 'alt_text': ''}, {'url': 'https://thehill.com/wp-content/uploads/sites/2/2017/04/cybersecurity_getty.jpg?w=1280', 'image_type': 'social', 'caption': '', 'alt_text': ''}], 'uuid': '77a0c19b-406e-11ee-a96e-33dec8f414a2', 'parent': '77a0c19b-406e-11ee-a96e-33dec8f414a2'}\n"
     ]
    }
   ],
   "source": [
    "# Print a sample of data\n",
    "num_rows= 2  \n",
    "for i in range(num_rows):\n",
    "    print(data[i])\n",
    "\n"
   ]
  },
  {
   "cell_type": "code",
   "execution_count": 26,
   "id": "9c75bb32",
   "metadata": {},
   "outputs": [],
   "source": [
    "#development sample\n",
    "data_sample = data[0:30]\n",
    "\n",
    "with open(\"../data/30_sample_articles.json\", \"w\") as fp:\n",
    "    json.dump(data_sample , fp) "
   ]
  },
  {
   "cell_type": "code",
   "execution_count": 27,
   "id": "8c25769f",
   "metadata": {},
   "outputs": [
    {
     "name": "stdout",
     "output_type": "stream",
     "text": [
      "title\n",
      "article_text\n",
      "images\n",
      "uuid\n",
      "parent\n"
     ]
    }
   ],
   "source": [
    "for article in data_sample:\n",
    "    for key in article:\n",
    "        print(key)\n",
    "    break"
   ]
  },
  {
   "cell_type": "code",
   "execution_count": 28,
   "id": "15bd4170",
   "metadata": {},
   "outputs": [
    {
     "data": {
      "text/plain": [
       "dict_keys(['title', 'article_text', 'images', 'uuid', 'parent'])"
      ]
     },
     "execution_count": 28,
     "metadata": {},
     "output_type": "execute_result"
    }
   ],
   "source": [
    "data[300].keys()"
   ]
  },
  {
   "cell_type": "markdown",
   "id": "a4ae22a7",
   "metadata": {},
   "source": [
    "Looks like we could either grab sourse from image url main or imag url social"
   ]
  },
  {
   "cell_type": "code",
   "execution_count": 29,
   "id": "34e6d79d",
   "metadata": {},
   "outputs": [
    {
     "name": "stdout",
     "output_type": "stream",
     "text": [
      "main https://i0.wp.com/thehill.com/wp-content/uploads/sites/2/2017/01/trumphotel618289268.jpg?w=2000&ssl=1\n",
      "social https://thehill.com/wp-content/uploads/sites/2/2017/01/trumphotel618289268.jpg?w=1280\n"
     ]
    }
   ],
   "source": [
    "for sample in data_sample:\n",
    "    #print(sample[\"images\"])\n",
    "    for url_item in sample[\"images\"]:\n",
    "        print(url_item[\"image_type\"], url_item[\"url\"])\n",
    "    break\n",
    "\n"
   ]
  },
  {
   "cell_type": "markdown",
   "id": "0d448b88",
   "metadata": {},
   "source": [
    "# Experimenting with preprocessing"
   ]
  },
  {
   "cell_type": "code",
   "execution_count": 30,
   "id": "b517cba9",
   "metadata": {},
   "outputs": [],
   "source": [
    "# isolate the article text \n",
    "#text_only = []\n",
    "#for article in data_sample:\n",
    "#    text_only.append(article[\"article_text\"])\n"
   ]
  },
  {
   "cell_type": "code",
   "execution_count": 31,
   "id": "9427b76e",
   "metadata": {},
   "outputs": [
    {
     "name": "stderr",
     "output_type": "stream",
     "text": [
      "/var/folders/z3/7313_vxj6t1cpgcl_20j69cm0000gn/T/ipykernel_52964/3507971266.py:2: FutureWarning: Passing literal json to 'read_json' is deprecated and will be removed in a future version. To read from a literal string, wrap it in a 'StringIO' object.\n",
      "  df = pd.read_json(json_string)\n"
     ]
    },
    {
     "data": {
      "text/html": [
       "<div>\n",
       "<style scoped>\n",
       "    .dataframe tbody tr th:only-of-type {\n",
       "        vertical-align: middle;\n",
       "    }\n",
       "\n",
       "    .dataframe tbody tr th {\n",
       "        vertical-align: top;\n",
       "    }\n",
       "\n",
       "    .dataframe thead th {\n",
       "        text-align: right;\n",
       "    }\n",
       "</style>\n",
       "<table border=\"1\" class=\"dataframe\">\n",
       "  <thead>\n",
       "    <tr style=\"text-align: right;\">\n",
       "      <th></th>\n",
       "      <th>title</th>\n",
       "      <th>article_text</th>\n",
       "      <th>images</th>\n",
       "      <th>uuid</th>\n",
       "      <th>parent</th>\n",
       "    </tr>\n",
       "  </thead>\n",
       "  <tbody>\n",
       "    <tr>\n",
       "      <th>0</th>\n",
       "      <td>\\n\\t\\tTrump DC hotel falls millions short of p...</td>\n",
       "      <td>President Trump’s Washington, D.C., hotel made...</td>\n",
       "      <td>[{'url': 'https://i0.wp.com/thehill.com/wp-con...</td>\n",
       "      <td>73ff4208-406e-11ee-a96e-33dec8f414a2</td>\n",
       "      <td>73ff4208-406e-11ee-a96e-33dec8f414a2</td>\n",
       "    </tr>\n",
       "    <tr>\n",
       "      <th>1</th>\n",
       "      <td>\\n\\t\\tOvernight Tech: Microsoft wants end to f...</td>\n",
       "      <td>MICROSOFT CALLS OUT GOVERNMENT HACKING PRACTIC...</td>\n",
       "      <td>[{'url': 'https://i0.wp.com/thehill.com/wp-con...</td>\n",
       "      <td>77a0c19b-406e-11ee-a96e-33dec8f414a2</td>\n",
       "      <td>77a0c19b-406e-11ee-a96e-33dec8f414a2</td>\n",
       "    </tr>\n",
       "    <tr>\n",
       "      <th>2</th>\n",
       "      <td>\\n\\t\\tAnother US motorcycle company considerin...</td>\n",
       "      <td>Minnesota-based Polaris acknowledged on Friday...</td>\n",
       "      <td>[{'url': 'https://thehill.com/wp-content/uploa...</td>\n",
       "      <td>8cfe90c9-406e-11ee-a96e-33dec8f414a2</td>\n",
       "      <td>8cfe90c9-406e-11ee-a96e-33dec8f414a2</td>\n",
       "    </tr>\n",
       "    <tr>\n",
       "      <th>3</th>\n",
       "      <td>\\n\\t\\tTrump: ‘I don’t need a summit’ with Mexi...</td>\n",
       "      <td>President Trump said he does not need to hold ...</td>\n",
       "      <td>[{'url': 'https://i0.wp.com/thehill.com/wp-con...</td>\n",
       "      <td>9cdbdae6-406e-11ee-a96e-33dec8f414a2</td>\n",
       "      <td>9cdbdae6-406e-11ee-a96e-33dec8f414a2</td>\n",
       "    </tr>\n",
       "    <tr>\n",
       "      <th>4</th>\n",
       "      <td>\\n\\t\\tUS calls emergency meeting of UN nuclear...</td>\n",
       "      <td>The United States called an emergency meeting ...</td>\n",
       "      <td>[{'url': 'https://thehill.com/wp-content/uploa...</td>\n",
       "      <td>a3a5f190-406e-11ee-a96e-33dec8f414a2</td>\n",
       "      <td>a3a5f190-406e-11ee-a96e-33dec8f414a2</td>\n",
       "    </tr>\n",
       "  </tbody>\n",
       "</table>\n",
       "</div>"
      ],
      "text/plain": [
       "                                               title  \\\n",
       "0  \\n\\t\\tTrump DC hotel falls millions short of p...   \n",
       "1  \\n\\t\\tOvernight Tech: Microsoft wants end to f...   \n",
       "2  \\n\\t\\tAnother US motorcycle company considerin...   \n",
       "3  \\n\\t\\tTrump: ‘I don’t need a summit’ with Mexi...   \n",
       "4  \\n\\t\\tUS calls emergency meeting of UN nuclear...   \n",
       "\n",
       "                                        article_text  \\\n",
       "0  President Trump’s Washington, D.C., hotel made...   \n",
       "1  MICROSOFT CALLS OUT GOVERNMENT HACKING PRACTIC...   \n",
       "2  Minnesota-based Polaris acknowledged on Friday...   \n",
       "3  President Trump said he does not need to hold ...   \n",
       "4  The United States called an emergency meeting ...   \n",
       "\n",
       "                                              images  \\\n",
       "0  [{'url': 'https://i0.wp.com/thehill.com/wp-con...   \n",
       "1  [{'url': 'https://i0.wp.com/thehill.com/wp-con...   \n",
       "2  [{'url': 'https://thehill.com/wp-content/uploa...   \n",
       "3  [{'url': 'https://i0.wp.com/thehill.com/wp-con...   \n",
       "4  [{'url': 'https://thehill.com/wp-content/uploa...   \n",
       "\n",
       "                                   uuid                                parent  \n",
       "0  73ff4208-406e-11ee-a96e-33dec8f414a2  73ff4208-406e-11ee-a96e-33dec8f414a2  \n",
       "1  77a0c19b-406e-11ee-a96e-33dec8f414a2  77a0c19b-406e-11ee-a96e-33dec8f414a2  \n",
       "2  8cfe90c9-406e-11ee-a96e-33dec8f414a2  8cfe90c9-406e-11ee-a96e-33dec8f414a2  \n",
       "3  9cdbdae6-406e-11ee-a96e-33dec8f414a2  9cdbdae6-406e-11ee-a96e-33dec8f414a2  \n",
       "4  a3a5f190-406e-11ee-a96e-33dec8f414a2  a3a5f190-406e-11ee-a96e-33dec8f414a2  "
      ]
     },
     "execution_count": 31,
     "metadata": {},
     "output_type": "execute_result"
    }
   ],
   "source": [
    "json_string = json.dumps(data_sample)\n",
    "df = pd.read_json(json_string)\n",
    "df.head()"
   ]
  },
  {
   "cell_type": "markdown",
   "id": "3afc15e4",
   "metadata": {},
   "source": [
    "# Preprocessing"
   ]
  },
  {
   "cell_type": "code",
   "execution_count": 38,
   "id": "dd36da91",
   "metadata": {},
   "outputs": [],
   "source": [
    "#concate text and title\n",
    "df[\"title_text\"] = df[\"title\"] + \" \" +  df[\"article_text\"]"
   ]
  },
  {
   "cell_type": "code",
   "execution_count": 39,
   "id": "256bd6d1",
   "metadata": {},
   "outputs": [],
   "source": [
    "\n",
    "#lowercase text\n",
    "df['title_text'] = df['title_text'].str.lower()\n",
    "\n",
    "# remove some unicode, for tabs and newline and return. \n",
    "# are there others?\n",
    "df['title_text'] = df['title_text'].apply(lambda x: re.sub(r'[\\n\\t\\r]', '', x))\n",
    "\n",
    "# remove punctuation, replace with space\n",
    "df['title_text'] = df['title_text'].apply(lambda x: re.sub(r'[^\\w\\s]', ' ', x))"
   ]
  },
  {
   "cell_type": "code",
   "execution_count": 40,
   "id": "2486227b",
   "metadata": {},
   "outputs": [
    {
     "name": "stdout",
     "output_type": "stream",
     "text": [
      "{\"it's\", \"shouldn't\", 'after', 'few', 'having', \"she's\", 'did', 'just', 'are', 't', 'weren', \"you'll\", 'under', 'myself', 'but', 'out', \"you'd\", 'him', 'm', 'haven', 'wouldn', 'with', 'in', 'y', 'other', 'should', 'most', 'from', 'about', 'a', 'very', 'own', 'o', 'hers', 'mustn', 'their', \"haven't\", 'where', 'himself', 'why', 'd', 'so', 'any', \"wouldn't\", 'she', 'needn', 'through', 'll', 'while', 'what', 'at', 'no', \"doesn't\", 'as', 'nor', 'whom', 'couldn', 'is', 'more', 'being', 'into', 'was', 'hadn', 'or', \"hasn't\", 've', 'ain', 'here', 'not', 'theirs', 'above', 'isn', 'it', 'mightn', 'do', 'aren', \"shan't\", 'because', \"isn't\", 'for', 'off', 'then', 'again', \"couldn't\", 'both', 'has', 'were', 'such', 'me', 'all', 'there', \"aren't\", 'only', 'on', 'you', 'these', 's', 'yours', 'during', 'against', 'don', \"didn't\", 'he', \"that'll\", \"hadn't\", 'down', 'the', 'if', 'doing', 'how', 'until', 'each', 'doesn', \"you're\", 'shan', 'too', 'shouldn', 'i', \"mightn't\", 'her', 'this', 'by', 'them', \"mustn't\", 'wasn', 'that', 'ma', 'won', 'than', 'to', 're', 'your', 'yourself', 'and', 'over', 'can', \"wasn't\", 'an', 'further', 'does', 'ours', \"weren't\", 'up', 'been', 'our', 'had', 'some', 'they', \"don't\", 'will', 'those', \"needn't\", 'have', 'didn', 'now', 'we', 'his', 'themselves', 'between', \"should've\", 'itself', 'be', 'hasn', 'of', 'am', 'herself', 'once', \"you've\", 'its', 'before', 'below', 'which', 'same', 'my', 'who', 'when', 'yourselves', \"won't\", 'ourselves'}\n"
     ]
    }
   ],
   "source": [
    "stop_words = set(stopwords.words('english'))\n",
    "print(stop_words)"
   ]
  },
  {
   "cell_type": "code",
   "execution_count": 41,
   "id": "80ff0164",
   "metadata": {},
   "outputs": [
    {
     "data": {
      "text/plain": [
       "179"
      ]
     },
     "execution_count": 41,
     "metadata": {},
     "output_type": "execute_result"
    }
   ],
   "source": [
    "len(stop_words)"
   ]
  },
  {
   "cell_type": "code",
   "execution_count": 42,
   "id": "2b6efc0a",
   "metadata": {},
   "outputs": [],
   "source": [
    "\n",
    "def remove_stopwords_and_lemmatize(text):\n",
    " \n",
    "    word_tokens = word_tokenize(text)  \n",
    "    removed_stopword = [word for word in word_tokens if word not in stop_words]  \n",
    "\n",
    "    lemmatizer = WordNetLemmatizer()\n",
    "    lemmatized_text = [lemmatizer.lemmatize(token) for token in removed_stopword]\n",
    "    \n",
    "    return ' '.join(lemmatized_text[:50])\n",
    "\n",
    "df['title_text'] = df['title_text'].apply(remove_stopwords_and_lemmatize)\n"
   ]
  },
  {
   "cell_type": "code",
   "execution_count": 43,
   "id": "7acf8d0a",
   "metadata": {},
   "outputs": [],
   "source": [
    "# remove extra spaces\n",
    "df['title_text_clean'] = df['title_text'].str.replace(r'\\s+', ' ', regex=True)"
   ]
  },
  {
   "cell_type": "code",
   "execution_count": 44,
   "id": "8f0b0ec3",
   "metadata": {},
   "outputs": [
    {
     "data": {
      "text/plain": [
       "0    trump dc hotel fall million short projected re...\n",
       "1    overnight tech microsoft want end fed secret h...\n",
       "2    another u motorcycle company considering movin...\n",
       "3    trump need summit mexico el salvador guatemala...\n",
       "4    u call emergency meeting un nuclear watchdog g...\n",
       "Name: title_text_clean, dtype: object"
      ]
     },
     "execution_count": 44,
     "metadata": {},
     "output_type": "execute_result"
    }
   ],
   "source": [
    "df['title_text_clean'].head()\n",
    "# US--> U?"
   ]
  },
  {
   "cell_type": "code",
   "execution_count": 51,
   "id": "dc18a02c",
   "metadata": {},
   "outputs": [],
   "source": [
    "#cleaned sample\n",
    "\n",
    "#selected_columns = df[['title', 'text', 'title_text_clean']]\n",
    "df[['title', 'article_text', 'title_text_clean']].to_csv(\"../data/30_sample_articles_cleaned.csv\", index=False)"
   ]
  },
  {
   "cell_type": "code",
   "execution_count": null,
   "id": "a53609b5",
   "metadata": {},
   "outputs": [],
   "source": [
    "# Create Embedded tokens \n",
    "# This code needs to be tested\n",
    "\n",
    "tokenizer = AutoTokenizer.from_pretrained(\"bert-base-uncased\")\n",
    "tokenized_texts = df['title_text_token'].apply(lambda x: tokenizer.tokenize(x))\n"
   ]
  }
 ],
 "metadata": {
  "kernelspec": {
   "display_name": "Python 3.10.13 ('capp30255')",
   "language": "python",
   "name": "python3"
  },
  "language_info": {
   "codemirror_mode": {
    "name": "ipython",
    "version": 3
   },
   "file_extension": ".py",
   "mimetype": "text/x-python",
   "name": "python",
   "nbconvert_exporter": "python",
   "pygments_lexer": "ipython3",
   "version": "3.10.13"
  },
  "vscode": {
   "interpreter": {
    "hash": "0f8cb61b81dc3ce2670cbaa0dd80498fa1179fcecf7966dc7a316b7b0ee2d652"
   }
  }
 },
 "nbformat": 4,
 "nbformat_minor": 5
}
