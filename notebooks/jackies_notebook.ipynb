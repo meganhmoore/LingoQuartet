{
 "cells": [
  {
   "cell_type": "markdown",
   "id": "f8c01100",
   "metadata": {},
   "source": [
    "## Data Exploration and preprocessing for clustering\n",
    "Top part of the file is initial read in and exploration of data.   \n",
    "Then, the code preprocesses the data for clustering. (code was coppied from this file into megans notebook for final running).  \n"
   ]
  },
  {
   "cell_type": "markdown",
   "id": "1861f3a4",
   "metadata": {},
   "source": [
    "We initially did more preprocessing than was necessary for our clustering task.  \n",
    "The final, trimmed down version of preprocessing starts at the \"final version of preprocessing\" heading  \n",
    "we decided not to use the lemmatized data in the end.    "
   ]
  },
  {
   "cell_type": "markdown",
   "id": "7a63af5a",
   "metadata": {},
   "source": [
    "### Read In Data"
   ]
  },
  {
   "cell_type": "code",
   "execution_count": 1,
   "id": "a5f5a787",
   "metadata": {},
   "outputs": [
    {
     "name": "stderr",
     "output_type": "stream",
     "text": [
      "/var/folders/z3/7313_vxj6t1cpgcl_20j69cm0000gn/T/ipykernel_9890/3376704910.py:2: DeprecationWarning: \n",
      "Pyarrow will become a required dependency of pandas in the next major release of pandas (pandas 3.0),\n",
      "(to allow more performant data types, such as the Arrow string type, and better interoperability with other libraries)\n",
      "but was not found to be installed on your system.\n",
      "If this would cause problems for you,\n",
      "please provide us feedback at https://github.com/pandas-dev/pandas/issues/54466\n",
      "        \n",
      "  import pandas as pd\n",
      "[nltk_data] Downloading package stopwords to\n",
      "[nltk_data]     /Users/jackieglasheen/nltk_data...\n",
      "[nltk_data]   Package stopwords is already up-to-date!\n",
      "[nltk_data] Downloading package punkt to\n",
      "[nltk_data]     /Users/jackieglasheen/nltk_data...\n",
      "[nltk_data]   Package punkt is already up-to-date!\n",
      "[nltk_data] Downloading package wordnet to\n",
      "[nltk_data]     /Users/jackieglasheen/nltk_data...\n",
      "[nltk_data]   Package wordnet is already up-to-date!\n"
     ]
    },
    {
     "data": {
      "text/plain": [
       "True"
      ]
     },
     "execution_count": 1,
     "metadata": {},
     "output_type": "execute_result"
    }
   ],
   "source": [
    "import json\n",
    "import pandas as pd\n",
    "import re\n",
    "import matplotlib.pyplot as plt\n",
    "\n",
    "import nltk\n",
    "from nltk.corpus import stopwords\n",
    "from nltk.tokenize import word_tokenize\n",
    "from nltk.stem import WordNetLemmatizer\n",
    "\n",
    "#from transformers import AutoTokenizer #kills my kernal\n",
    "\n",
    "nltk.download('stopwords')\n",
    "nltk.download('punkt')\n",
    "nltk.download('wordnet')\n"
   ]
  },
  {
   "cell_type": "markdown",
   "id": "8f07085d",
   "metadata": {},
   "source": [
    "punctuation\n",
    "stop word\n",
    "limit to first X words\n",
    "append tilile\n",
    "lematize"
   ]
  },
  {
   "cell_type": "code",
   "execution_count": 20,
   "id": "421c37e5",
   "metadata": {},
   "outputs": [],
   "source": [
    "path = '../data/articles.json'\n",
    "\n",
    "# Read the JSON file\n",
    "with open(path, 'r') as file:\n",
    "    data = json.load(file)\n",
    "\n"
   ]
  },
  {
   "cell_type": "code",
   "execution_count": 21,
   "id": "a1e70a03",
   "metadata": {},
   "outputs": [
    {
     "name": "stdout",
     "output_type": "stream",
     "text": [
      "{'title': '\\n\\t\\tTrump DC hotel falls millions short of projected revenue in first months\\t', 'article_text': 'President Trump’s Washington, D.C., hotel made at least $2 million less than projected in its first two months of operation, according to House Democrats citing documents obtained from the General Services Administration (GSA).Democrats on the House Oversight and Transportation committees revealed the information in a letter sent Monday to GSA Administrator Timothy Horne, in which they asked how the agency planned to handle the alleged breach of the lease on the hotel housed in the Old Post Office, just east of the White House on Pennsylvania Avenue.A provision in the lease, signed years before Trump began his presidential campaign, prevents any federal elected official from being included on or benefiting from the lease. The Democrats claim in their letter that Trump’s ascendance to the presidency on Friday is a breach of the lease.The documents Democrats obtained from the GSA and released Monday show that Trump has a 76.7 percent stake in the hotel.\\xa0The hotel has been a constant source of criticism from Democrats and ethics officials who warn it could be used by foreign governments and businesses to curry favor with the president. Adding to the focus Monday was a lawsuit filed by the left-leaning watchdog group Citizens for Responsibility and Ethics in Washington “to stop President Trump from violating the Constitution by illegally receiving payments from foreign governments.”{mosads}“Our hope has always been that President Trump would resolve these breach-of-lease and conflict of interest issues prior to being sworn in as President on January 20,” the Democrats wrote in their Monday letter.“Unfortunately, President Trump has refused to address these concerns, and taxpayer dollars may now be squandered as career public servants are forced to take remedial action to cure this breach.”The letter also includes the Trump hotel’s revenue versus estimates from September and October 2016, its first two months of operation.The Trump hotel made $1,301,000 in revenue in September, though it was projected to make $2,087,000 — meaning it faced a roughly $700,000 shortfall. The hotel made $2,771,000 in revenue in October, compared to a projected $4,276,000. That’s nearly $2.3 million less than projected in total.The hotel’s net loss for September was $334,000 and $825,000 in October. It was estimated to lose $84,000 in September and gain $481,000 in profit in October.“The possibility that President Trump will profit from large increases in hotel revenues because he was elected President highlights the grave concerns we have raised for months about his conflicts of interest and potential violations of the Emoluments Clause of the Constitution,” wrote the Democrats, citing a clause in the Constitution barring elected officials from receiving gifts or payments from foreign governments.The Democrats asked Horne if the agency would be notifying Trump that he violated his lease, and questioned how the GSA plans to deal with the alleged breach and how it would handle claims that the Trump Organization failed to pay contractors who worked on the hotel.The Democrats also asked for copies of correspondence between the GSA and the Trump Organization and transition team.', 'images': [{'url': 'https://i0.wp.com/thehill.com/wp-content/uploads/sites/2/2017/01/trumphotel618289268.jpg?w=2000&ssl=1', 'image_type': 'main', 'caption': '', 'alt_text': ''}, {'url': 'https://thehill.com/wp-content/uploads/sites/2/2017/01/trumphotel618289268.jpg?w=1280', 'image_type': 'social', 'caption': '', 'alt_text': ''}], 'uuid': '73ff4208-406e-11ee-a96e-33dec8f414a2', 'parent': '73ff4208-406e-11ee-a96e-33dec8f414a2'}\n",
      "{'title': '\\n\\t\\tOvernight Tech: Microsoft wants end to feds’ secret hacking tools | Latest on ransomware attack | John Oliver calls for ‘civil’ tone in net neutrality fight | House to vote on cyber bills\\t', 'article_text': 'MICROSOFT CALLS OUT GOVERNMENT HACKING PRACTICES:\\xa0On the heels of a widespread “ransomware” attack that may have used leaked National Security Agency hacking methods, Microsoft is calling for governments to cease stockpiling secret means of bypassing software security. \\xa0\\xa0“Repeatedly, exploits in the hands of governments have leaked into the public domain and caused widespread damage. An equivalent scenario with conventional weapons would be the U.S. military having some of its Tomahawk missiles stolen,” wrote Brad Smith, president and chief legal officer at Microsoft, on a company blog Sunday evening.Ransomware is a type of cyberattack that encrypts a target’s files, with the attacker providing the decryption key only after a ransom is paid, usually in bitcoin.{mosads}WanaDecrypt0r, alternately known by names like Wanna Cry, has struck hundreds of thousands of computers in more than 100 nations since the attack began Friday morning. Victims range from hospitals in the United Kingdom, a telecom company in Spain, U.S.-based FedEx, and the Russian Ministry of the Interior.WanaDecrypt0r was so virulent in part because it used a Windows hacking tool that appears to have been stolen from the NSA and leaked by a hacking group known as the Shadow Brokers. Though Microsoft had patched the security hole in Windows, businesses often lag in installing updates for reasons including industry-specific software being incompatible with the most current version of operating systems.“In February [we called] for a new ‘Digital Geneva Convention’ to govern these issues, including a new requirement for governments to report vulnerabilities to vendors, rather than stockpile, sell, or exploit them,” wrote Smith.By reporting bugs instead of using them to conduct cyber espionage, manufacturers would be able to increase cybersecurity for all of its users — but that would come at the cost of intelligence and sabotage operations.Read more\\xa0here, from our cybersecurity colleague Joe Uchill.\\xa0MORE ON WANNA CRY: Edward Snowden called the continuing “ransomware” scourge “a perfect storm of all the problems everyone has been warning about” at a privacy issues conference Monday.Russian President Vladimir Putin used the ransomware attack to deliver a jab at the U.S.Monday was the most lucrative day yet for the Wanna Cry ransomware.President Trump reportedly ordered an emergency meeting over the weekend to address the threat.\\xa0Please send your tips, comments and constructive criticism to Ali Breland (abreland@thehill.com) and Harper Neidig (hneidig@thehill.com) and follow us on Twitter:\\xa0@alibreland,\\xa0@hneidig\\xa0and\\xa0@HilliconValley. We’re also on Signal. Email or DM us for our numbers.\\xa0UBER ORDERED TO HAND OVER DOCS IN GOOGLE SUIT:\\xa0A federal judge on Monday ordered Uber to turn over thousands of files that were allegedly stolen from Google’s self-driving car subsidiary, Waymo.Waymo alleges that a former employee, Anthony Levandowski, stole about 14,000 documents — including trade secrets — before leaving to start a self-driving truck company called Otto. Uber later acquired Otto, gaining access to the files.Uber has until May 31 to return the files to Waymo, U.S. District Judge William Alsup ordered. The documents allegedly detail advancements Waymo had made with lidar — a radar system that most self-driving car companies to employ help their cars pilot themselves.Read more\\xa0here.\\xa0MODERNIZING GOVERNMENT TECH:\\xa0Rep. Will Hurd’s (R-Texas) bipartisan bill, the Modernizing Government Technology Act (MGT Act) is finally getting some movement. Its Congressional Budget Office score came in on Friday, with the CBO estimating the plan to update government technology and IT systems would cost around $500 million over the next five years. The bill is set to hit the House floor on Wednesday. After President Donald Trump’s Cybersecurity executive order last week, technology and cyber interests praised the order, but said that a plan for updating the federal government’s technology is\\xa0necessary\\xa0to protect the U.S. from cyber threats. Many see Hurd’s bill as the answer.For more on the CBO score, click here.For more on the upcoming votes on Hurd’s legislation and another bill to help combat cyber crime, click here.\\xa0SPICER TALKS APPLE:\\xa0White House press secretary Sean Spicer praised Apple during Monday’s White House Press Briefing, citing it as an example of a company that is investing in the U.S. “The president is also very glad to see businesses once again making significant investments in America, from Intel to General Motors to Walmart toApple, who specifically just announced earlier this month that they’ll start a $1 billion fund to promote manufacturing jobs here in the United States,” Spicer said. He called the hiring push an example of “the president’s domestic economic policies that are generating optimism.” Unlike many other companies who have announced hiring pushes recently, Apple did not tie its\\xa0announcement\\xa0to Trump or his policies.\\xa0JOHN OLIVER ADDRESS FCC COMMENTERS:\\xa0HBO comedian John Oliver on Sunday again rallied his viewers to submit pro-net neutrality comments to the Federal Communications Commission, but took a shot at those who had been using the site to launch personal attacks against the FCC’s GOP chairman.Supporters of Ajit Pai, who has kicked off proceedings to roll back Obama-era net neutrality protections, have been quick to seize on inflammatory comments filed in the past week, after Oliver urged his audience to show support for the regulations.And on Sunday, Oliver acknowledged in a YouTube video that there were racist comments filed in support of net neutrality and had a simple message for any of his viewers who may have written them: “Stop it. Do not f—ing do that.”“Writing racist things on the internet is not how you win the net neutrality debate,” Oliver said. “It’s how you win the presidency.”Read more\\xa0here.\\xa0FTC LAUNCHES CAMPAIGN TO CRACK DOWN ON TECH SUPPORT SCAMS:\\xa0The Federal Trade Commission (FTC) is taking tougher steps to try and stop fraudulent tech support schemes, which are scamming consumers out of millions of dollars.The agency has launched a new effort, dubbed Operation Tech Trap, to end online scams where customers are tricked into believing their computers are infected with a virus and that they must pay a third party to solve the issue.The fraud involves scammers running deceptive pop-up ads that look like security alerts from Apple or Microsoft. The alerts falsely warn users that their computers are infected with a virus and that if they close the warning, the contents of their hard drive will be deleted. The ads provide a phone number to call, which promises to fix the nonexistent virus.Read more\\xa0here.\\xa0GOOGLE, LYFT TEAM UP ON SELF-DRIVING CARS:\\xa0Google’s self-driving car company has reached a deal to work with Lyft on autonomous vehicle technology, the companies said Monday.The partnership, which was first reported by The New York Times, comes as the race heats up to get driverless cars on the road.“We’re looking forward to working with Lyft to explore new self-driving products that will make our roads safer and transportation more accessible,” said a spokesman for Waymo, Google’s driverless car company. “Lyft’s vision and commitment to improving the way cities move will help Waymo’s self-driving technology reach more people, in more places.”Read more\\xa0here.\\xa0ON TAP:NIST will\\xa0hold\\xa0a cybersecurity framework workshop at 7:30 a.m. on Tuesday\\xa0IN CASE YOU MISSED IT:Hopes\\xa0rise\\xa0Trump will modernize feds’ technologyJudge asks federal prosecutor to\\xa0investigate UberExec to Trump:\\xa0Replace press briefings with TwitterDaily Caller:\\xa0Net neutrality activists protest outside FCC chair’s houseAdvocacy groups\\xa0ask\\xa0federal court to block FCC media ownership ruleTrump\\xa0signs\\xa0cybersecurity executive order', 'images': [{'url': 'https://i0.wp.com/thehill.com/wp-content/uploads/sites/2/2017/04/cybersecurity_getty.jpg?w=2000&ssl=1', 'image_type': 'main', 'caption': '', 'alt_text': ''}, {'url': 'https://thehill.com/wp-content/uploads/sites/2/2017/04/cybersecurity_getty.jpg?w=1280', 'image_type': 'social', 'caption': '', 'alt_text': ''}], 'uuid': '77a0c19b-406e-11ee-a96e-33dec8f414a2', 'parent': '77a0c19b-406e-11ee-a96e-33dec8f414a2'}\n"
     ]
    }
   ],
   "source": [
    "# Print a sample of data\n",
    "num_rows= 2  \n",
    "for i in range(num_rows):\n",
    "    print(data[i])\n",
    "\n"
   ]
  },
  {
   "cell_type": "code",
   "execution_count": 22,
   "id": "9c75bb32",
   "metadata": {},
   "outputs": [],
   "source": [
    "#development sample\n",
    "data_sample = data[0:300]\n",
    "\n",
    "with open(\"../data/300_sample_articles.json\", \"w\") as fp:\n",
    "    json.dump(data_sample , fp) "
   ]
  },
  {
   "cell_type": "markdown",
   "id": "51ddb2e7",
   "metadata": {},
   "source": [
    "# Reading data sample"
   ]
  },
  {
   "cell_type": "code",
   "execution_count": 23,
   "id": "90c1785d",
   "metadata": {},
   "outputs": [],
   "source": [
    "with open(\"../data/300_sample_articles.json\", \"r\") as fp:\n",
    "    data_sample = json.load(fp)"
   ]
  },
  {
   "cell_type": "code",
   "execution_count": 24,
   "id": "8c25769f",
   "metadata": {},
   "outputs": [
    {
     "name": "stdout",
     "output_type": "stream",
     "text": [
      "title\n",
      "article_text\n",
      "images\n",
      "uuid\n",
      "parent\n"
     ]
    }
   ],
   "source": [
    "for article in data_sample:\n",
    "    for key in article:\n",
    "        print(key)\n",
    "    break"
   ]
  },
  {
   "cell_type": "code",
   "execution_count": 25,
   "id": "15bd4170",
   "metadata": {},
   "outputs": [
    {
     "data": {
      "text/plain": [
       "dict_keys(['title', 'article_text', 'images', 'uuid', 'parent'])"
      ]
     },
     "execution_count": 25,
     "metadata": {},
     "output_type": "execute_result"
    }
   ],
   "source": [
    "data_sample[20].keys()"
   ]
  },
  {
   "cell_type": "markdown",
   "id": "a4ae22a7",
   "metadata": {},
   "source": [
    "Looks like we could either grab sourse from image url main or imag url social"
   ]
  },
  {
   "cell_type": "code",
   "execution_count": 26,
   "id": "34e6d79d",
   "metadata": {},
   "outputs": [
    {
     "name": "stdout",
     "output_type": "stream",
     "text": [
      "main https://i0.wp.com/thehill.com/wp-content/uploads/sites/2/2017/01/trumphotel618289268.jpg?w=2000&ssl=1\n",
      "social https://thehill.com/wp-content/uploads/sites/2/2017/01/trumphotel618289268.jpg?w=1280\n"
     ]
    }
   ],
   "source": [
    "for sample in data_sample:\n",
    "    #print(sample[\"images\"])\n",
    "    for url_item in sample[\"images\"]:\n",
    "        print(url_item[\"image_type\"], url_item[\"url\"])\n",
    "    break\n",
    "\n"
   ]
  },
  {
   "cell_type": "markdown",
   "id": "0d448b88",
   "metadata": {},
   "source": [
    "# Experimenting with preprocessing"
   ]
  },
  {
   "cell_type": "code",
   "execution_count": 27,
   "id": "b517cba9",
   "metadata": {},
   "outputs": [],
   "source": [
    "# isolate the article text \n",
    "#text_only = []\n",
    "#for article in data_sample:\n",
    "#    text_only.append(article[\"article_text\"])\n"
   ]
  },
  {
   "cell_type": "code",
   "execution_count": 28,
   "id": "9427b76e",
   "metadata": {},
   "outputs": [
    {
     "name": "stderr",
     "output_type": "stream",
     "text": [
      "/var/folders/z3/7313_vxj6t1cpgcl_20j69cm0000gn/T/ipykernel_9890/3507971266.py:2: FutureWarning: Passing literal json to 'read_json' is deprecated and will be removed in a future version. To read from a literal string, wrap it in a 'StringIO' object.\n",
      "  df = pd.read_json(json_string)\n"
     ]
    },
    {
     "data": {
      "text/html": [
       "<div>\n",
       "<style scoped>\n",
       "    .dataframe tbody tr th:only-of-type {\n",
       "        vertical-align: middle;\n",
       "    }\n",
       "\n",
       "    .dataframe tbody tr th {\n",
       "        vertical-align: top;\n",
       "    }\n",
       "\n",
       "    .dataframe thead th {\n",
       "        text-align: right;\n",
       "    }\n",
       "</style>\n",
       "<table border=\"1\" class=\"dataframe\">\n",
       "  <thead>\n",
       "    <tr style=\"text-align: right;\">\n",
       "      <th></th>\n",
       "      <th>title</th>\n",
       "      <th>article_text</th>\n",
       "      <th>images</th>\n",
       "      <th>uuid</th>\n",
       "      <th>parent</th>\n",
       "    </tr>\n",
       "  </thead>\n",
       "  <tbody>\n",
       "    <tr>\n",
       "      <th>0</th>\n",
       "      <td>\\n\\t\\tTrump DC hotel falls millions short of p...</td>\n",
       "      <td>President Trump’s Washington, D.C., hotel made...</td>\n",
       "      <td>[{'url': 'https://i0.wp.com/thehill.com/wp-con...</td>\n",
       "      <td>73ff4208-406e-11ee-a96e-33dec8f414a2</td>\n",
       "      <td>73ff4208-406e-11ee-a96e-33dec8f414a2</td>\n",
       "    </tr>\n",
       "    <tr>\n",
       "      <th>1</th>\n",
       "      <td>\\n\\t\\tOvernight Tech: Microsoft wants end to f...</td>\n",
       "      <td>MICROSOFT CALLS OUT GOVERNMENT HACKING PRACTIC...</td>\n",
       "      <td>[{'url': 'https://i0.wp.com/thehill.com/wp-con...</td>\n",
       "      <td>77a0c19b-406e-11ee-a96e-33dec8f414a2</td>\n",
       "      <td>77a0c19b-406e-11ee-a96e-33dec8f414a2</td>\n",
       "    </tr>\n",
       "    <tr>\n",
       "      <th>2</th>\n",
       "      <td>\\n\\t\\tAnother US motorcycle company considerin...</td>\n",
       "      <td>Minnesota-based Polaris acknowledged on Friday...</td>\n",
       "      <td>[{'url': 'https://thehill.com/wp-content/uploa...</td>\n",
       "      <td>8cfe90c9-406e-11ee-a96e-33dec8f414a2</td>\n",
       "      <td>8cfe90c9-406e-11ee-a96e-33dec8f414a2</td>\n",
       "    </tr>\n",
       "    <tr>\n",
       "      <th>3</th>\n",
       "      <td>\\n\\t\\tTrump: ‘I don’t need a summit’ with Mexi...</td>\n",
       "      <td>President Trump said he does not need to hold ...</td>\n",
       "      <td>[{'url': 'https://i0.wp.com/thehill.com/wp-con...</td>\n",
       "      <td>9cdbdae6-406e-11ee-a96e-33dec8f414a2</td>\n",
       "      <td>9cdbdae6-406e-11ee-a96e-33dec8f414a2</td>\n",
       "    </tr>\n",
       "    <tr>\n",
       "      <th>4</th>\n",
       "      <td>\\n\\t\\tUS calls emergency meeting of UN nuclear...</td>\n",
       "      <td>The United States called an emergency meeting ...</td>\n",
       "      <td>[{'url': 'https://thehill.com/wp-content/uploa...</td>\n",
       "      <td>a3a5f190-406e-11ee-a96e-33dec8f414a2</td>\n",
       "      <td>a3a5f190-406e-11ee-a96e-33dec8f414a2</td>\n",
       "    </tr>\n",
       "  </tbody>\n",
       "</table>\n",
       "</div>"
      ],
      "text/plain": [
       "                                               title  \\\n",
       "0  \\n\\t\\tTrump DC hotel falls millions short of p...   \n",
       "1  \\n\\t\\tOvernight Tech: Microsoft wants end to f...   \n",
       "2  \\n\\t\\tAnother US motorcycle company considerin...   \n",
       "3  \\n\\t\\tTrump: ‘I don’t need a summit’ with Mexi...   \n",
       "4  \\n\\t\\tUS calls emergency meeting of UN nuclear...   \n",
       "\n",
       "                                        article_text  \\\n",
       "0  President Trump’s Washington, D.C., hotel made...   \n",
       "1  MICROSOFT CALLS OUT GOVERNMENT HACKING PRACTIC...   \n",
       "2  Minnesota-based Polaris acknowledged on Friday...   \n",
       "3  President Trump said he does not need to hold ...   \n",
       "4  The United States called an emergency meeting ...   \n",
       "\n",
       "                                              images  \\\n",
       "0  [{'url': 'https://i0.wp.com/thehill.com/wp-con...   \n",
       "1  [{'url': 'https://i0.wp.com/thehill.com/wp-con...   \n",
       "2  [{'url': 'https://thehill.com/wp-content/uploa...   \n",
       "3  [{'url': 'https://i0.wp.com/thehill.com/wp-con...   \n",
       "4  [{'url': 'https://thehill.com/wp-content/uploa...   \n",
       "\n",
       "                                   uuid                                parent  \n",
       "0  73ff4208-406e-11ee-a96e-33dec8f414a2  73ff4208-406e-11ee-a96e-33dec8f414a2  \n",
       "1  77a0c19b-406e-11ee-a96e-33dec8f414a2  77a0c19b-406e-11ee-a96e-33dec8f414a2  \n",
       "2  8cfe90c9-406e-11ee-a96e-33dec8f414a2  8cfe90c9-406e-11ee-a96e-33dec8f414a2  \n",
       "3  9cdbdae6-406e-11ee-a96e-33dec8f414a2  9cdbdae6-406e-11ee-a96e-33dec8f414a2  \n",
       "4  a3a5f190-406e-11ee-a96e-33dec8f414a2  a3a5f190-406e-11ee-a96e-33dec8f414a2  "
      ]
     },
     "execution_count": 28,
     "metadata": {},
     "output_type": "execute_result"
    }
   ],
   "source": [
    "json_string = json.dumps(data_sample)\n",
    "df = pd.read_json(json_string)\n",
    "df.head()"
   ]
  },
  {
   "cell_type": "markdown",
   "id": "3afc15e4",
   "metadata": {},
   "source": [
    "# Preprocessing"
   ]
  },
  {
   "cell_type": "code",
   "execution_count": 29,
   "id": "dd36da91",
   "metadata": {},
   "outputs": [],
   "source": [
    "#concate text and title\n",
    "df[\"title_text\"] = df[\"title\"] + \" \" +  df[\"article_text\"]"
   ]
  },
  {
   "cell_type": "code",
   "execution_count": 30,
   "id": "256bd6d1",
   "metadata": {},
   "outputs": [],
   "source": [
    "\n",
    "#lowercase text\n",
    "df['title_text'] = df['title_text'].str.lower()\n",
    "\n",
    "# remove some unicode, for tabs and newline and return. \n",
    "# are there others?\n",
    "df['title_text'] = df['title_text'].apply(lambda x: re.sub(r'[\\n\\t\\r]', '', x))\n",
    "\n",
    "# remove punctuation, replace with space\n",
    "df['title_text'] = df['title_text'].apply(lambda x: re.sub(r'[^\\w\\s]', ' ', x))"
   ]
  },
  {
   "cell_type": "code",
   "execution_count": 31,
   "id": "2486227b",
   "metadata": {},
   "outputs": [
    {
     "name": "stdout",
     "output_type": "stream",
     "text": [
      "{'it', 'itself', 'here', 'this', 'shan', \"couldn't\", 'themselves', 'and', \"won't\", 'when', 'more', 'in', 'nor', 'at', 'yourself', 'my', 'against', 'that', 'those', 'mustn', 'up', 'o', 'their', 'wasn', 'than', 'him', \"you're\", \"aren't\", 'were', 'shouldn', 'whom', 'ain', \"doesn't\", 'once', \"weren't\", 'such', 's', \"shan't\", \"shouldn't\", 'just', 'ma', 'our', \"mightn't\", 'ourselves', 'same', 'through', 'haven', 'hadn', 'while', 'from', 'm', 'i', 'before', 'off', 'now', 'of', 'its', 'are', 'being', 'with', 'but', 'what', \"mustn't\", 'too', \"hadn't\", 'don', 'to', 'we', 'd', 'very', 'over', 'into', 'be', 'how', 'have', 'you', 'as', \"don't\", \"wasn't\", 'was', 'she', 'because', 'where', 'couldn', \"you'd\", 'theirs', \"it's\", 'has', 'why', 'a', \"should've\", 'ours', 'been', 'll', \"hasn't\", 'wouldn', 'had', 'yours', 're', 'can', 'will', 'didn', 'they', 'needn', 'again', 'himself', 'herself', 'which', 'any', 've', 'if', 'weren', \"wouldn't\", 'both', 'yourselves', 'hers', 'the', 'between', 'her', 'during', 'down', 'so', 'until', 'your', 'aren', 'other', 'after', 'above', 'under', 'there', \"you'll\", 'isn', \"needn't\", \"isn't\", \"that'll\", 'y', 'who', 'some', 'out', 'hasn', 'all', 'is', 'few', 'only', \"she's\", 'am', \"haven't\", 'on', 'further', 'me', 'about', 'mightn', 'doing', 'then', 'an', 'for', 'not', 'own', 'below', 'most', 'he', 'each', 'won', 'do', 't', 'myself', 'does', 'his', 'or', 'by', \"didn't\", 'having', 'these', 'no', 'them', 'doesn', 'should', 'did', \"you've\"}\n"
     ]
    }
   ],
   "source": [
    "stop_words = set(stopwords.words('english'))\n",
    "print(stop_words)"
   ]
  },
  {
   "cell_type": "code",
   "execution_count": 32,
   "id": "80ff0164",
   "metadata": {},
   "outputs": [
    {
     "data": {
      "text/plain": [
       "179"
      ]
     },
     "execution_count": 32,
     "metadata": {},
     "output_type": "execute_result"
    }
   ],
   "source": [
    "len(stop_words)"
   ]
  },
  {
   "cell_type": "code",
   "execution_count": 33,
   "id": "2b6efc0a",
   "metadata": {},
   "outputs": [],
   "source": [
    "\n",
    "def remove_stopwords_and_lemmatize(text):\n",
    "    \"\"\"\n",
    "    removes stopwords and lemmatizes data\n",
    "    \"\"\"\n",
    "    \n",
    "    word_tokens = word_tokenize(text)  \n",
    "    removed_stopword = [word for word in word_tokens if word not in stop_words]  \n",
    "\n",
    "    lemmatizer = WordNetLemmatizer()\n",
    "    lemmatized_text = [lemmatizer.lemmatize(token) for token in removed_stopword]\n",
    "    \n",
    "    return ' '.join(lemmatized_text[:50])\n",
    "\n",
    "df['title_text'] = df['title_text'].apply(remove_stopwords_and_lemmatize)\n"
   ]
  },
  {
   "cell_type": "code",
   "execution_count": 34,
   "id": "7acf8d0a",
   "metadata": {},
   "outputs": [],
   "source": [
    "# remove extra spaces\n",
    "df['title_text_clean'] = df['title_text'].str.replace(r'\\s+', ' ', regex=True)"
   ]
  },
  {
   "cell_type": "code",
   "execution_count": 35,
   "id": "8f0b0ec3",
   "metadata": {},
   "outputs": [
    {
     "data": {
      "text/plain": [
       "0    trump dc hotel fall million short projected re...\n",
       "1    overnight tech microsoft want end fed secret h...\n",
       "2    another u motorcycle company considering movin...\n",
       "3    trump need summit mexico el salvador guatemala...\n",
       "4    u call emergency meeting un nuclear watchdog g...\n",
       "Name: title_text_clean, dtype: object"
      ]
     },
     "execution_count": 35,
     "metadata": {},
     "output_type": "execute_result"
    }
   ],
   "source": [
    "df['title_text_clean'].head()\n",
    "# US--> U?"
   ]
  },
  {
   "cell_type": "code",
   "execution_count": 36,
   "id": "dc18a02c",
   "metadata": {},
   "outputs": [],
   "source": [
    "#cleaned sample\n",
    "\n",
    "#selected_columns = df[['title', 'text', 'title_text_clean']]\n",
    "df[['title', 'article_text', 'title_text_clean']].to_csv(\"../data/30_sample_articles_cleaned.csv\", index=False)"
   ]
  },
  {
   "cell_type": "code",
   "execution_count": null,
   "id": "a53609b5",
   "metadata": {},
   "outputs": [],
   "source": [
    "# Create Embedded tokens \n",
    "\n",
    "#tokenizer = AutoTokenizer.from_pretrained(\"bert-base-uncased\")\n",
    "#tokenized_texts = df['title_text_token'].apply(lambda x: tokenizer.tokenize(x))\n"
   ]
  },
  {
   "cell_type": "code",
   "execution_count": 41,
   "id": "59f15f3b",
   "metadata": {},
   "outputs": [
    {
     "data": {
      "image/png": "[encoded data removed]",
      "text/plain": [
       "<Figure size 640x480 with 1 Axes>"
      ]
     },
     "metadata": {},
     "output_type": "display_data"
    }
   ],
   "source": [
    "#Draft code looking into paragraph lengths\n",
    "\n",
    "# make var with first paragraph only\n",
    "df['first_paragraph'] = df[\"article_text\"].str.split('\\n').str[0]\n",
    "\n",
    "df['paragraph_length'] = df['first_paragraph'].str.len()\n",
    "df['text_len'] = df['article_text'].str.len()\n",
    "\n",
    "#bin_break_points = [0, 100, 200, 300, 400, 500, 600, 700]\n",
    "\n",
    "plt.hist(df['paragraph_length'],  color='blue', edgecolor='black')  #bins = bin_break_points,\n",
    "plt.xlabel('Paragraph Length')\n",
    "plt.ylabel('Frequency')\n",
    "plt.title('Distribution of Paragraph Length')\n",
    "plt.show()"
   ]
  },
  {
   "cell_type": "code",
   "execution_count": 42,
   "id": "3d41730e",
   "metadata": {},
   "outputs": [
    {
     "data": {
      "image/png": "[encoded data removed]",
      "text/plain": [
       "<Figure size 640x480 with 1 Axes>"
      ]
     },
     "metadata": {},
     "output_type": "display_data"
    }
   ],
   "source": [
    "##compare to full length\n",
    "plt.hist(df['text_len'],  color='blue', edgecolor='black')  #bins = bin_break_points,\n",
    "plt.xlabel('Text Length')\n",
    "plt.ylabel('Frequency')\n",
    "plt.title('Distribution of Paragraph Length')\n",
    "plt.show()"
   ]
  },
  {
   "cell_type": "markdown",
   "id": "dde47eae",
   "metadata": {},
   "source": [
    "in comparing real articles found online to our jsons, it looks like whatever was used to make new lines is not in our json — there are paragraphs in the real article, but nothing indicates new line in the json (there is no space either where there should be a paragraph indicator — maybe some cleaning of the raw scrapes removed the unicode characters?"
   ]
  },
  {
   "cell_type": "code",
   "execution_count": null,
   "id": "7dc4ce18",
   "metadata": {},
   "outputs": [],
   "source": [
    "#draft code for fixing unicode encodings-\n",
    "\n",
    "# # removing unicode characters (and replaceing with corresponding punctuation)\n",
    "# def decode_unicode(text):\n",
    "#     return text.encode().decode('unicode_escape')\n",
    "\n",
    "\n",
    "\n",
    "df['test'] = df['article_text'].apply(lambda x: decode_unicode(x))"
   ]
  },
  {
   "cell_type": "markdown",
   "id": "84f46cc5",
   "metadata": {},
   "source": [
    "# Final Version of Preprocessing\n",
    "\n",
    "Per Guidance from Amitabh and TAs, text preprocessing will only involve appenfing title to text, keeping certain number of words, and creating embeddings.\n",
    "\n",
    "Ran megans cleaning notebook to use the cleaned data as the starting point for the analysis"
   ]
  },
  {
   "cell_type": "code",
   "execution_count": 81,
   "id": "22a2232c",
   "metadata": {},
   "outputs": [
    {
     "name": "stdout",
     "output_type": "stream",
     "text": [
      "{'encoding': 'ascii', 'confidence': 1.0, 'language': ''}\n"
     ]
    }
   ],
   "source": [
    "import chardet\n",
    "\n",
    "with open(\"../data/300_sample_articles.json\", 'rb') as f:\n",
    "    result = chardet.detect(f.read())\n",
    "    print(result)"
   ]
  },
  {
   "cell_type": "code",
   "execution_count": 87,
   "id": "e6659cab",
   "metadata": {},
   "outputs": [
    {
     "data": {
      "text/plain": [
       "'[{\"title\": \"\\\\n\\\\t\\\\tTrump DC hotel falls millions short of projected revenue in first months\\\\t\", \"article_text\": \"President Trump\\\\u2019s Washington, D.C., hotel made at least $2 million less than projected in its first two months of operation, according to House Democrats citing documents obtained from the General Services Administration (GSA).Democrats on the House Oversight and Transportation committees revealed the information in a letter sent Monday to GSA Administrator Timothy Horne, in which they asked '"
      ]
     },
     "execution_count": 87,
     "metadata": {},
     "output_type": "execute_result"
    }
   ],
   "source": [
    "with open(\"../data/300_sample_articles.json\", \"r\") as fp:\n",
    "    data_sample = json.load(fp)\n",
    "\n",
    "json_string = json.dumps(data_sample)\n",
    "json_string[:512]"
   ]
  },
  {
   "cell_type": "code",
   "execution_count": 95,
   "id": "f4bb85a7",
   "metadata": {},
   "outputs": [
    {
     "name": "stderr",
     "output_type": "stream",
     "text": [
      "/var/folders/z3/7313_vxj6t1cpgcl_20j69cm0000gn/T/ipykernel_9890/592623837.py:2: FutureWarning: Passing literal json to 'read_json' is deprecated and will be removed in a future version. To read from a literal string, wrap it in a 'StringIO' object.\n",
      "  df = pd.read_json(json_string, encoding=result['encoding'])\n"
     ]
    },
    {
     "data": {
      "text/html": [
       "<div>\n",
       "<style scoped>\n",
       "    .dataframe tbody tr th:only-of-type {\n",
       "        vertical-align: middle;\n",
       "    }\n",
       "\n",
       "    .dataframe tbody tr th {\n",
       "        vertical-align: top;\n",
       "    }\n",
       "\n",
       "    .dataframe thead th {\n",
       "        text-align: right;\n",
       "    }\n",
       "</style>\n",
       "<table border=\"1\" class=\"dataframe\">\n",
       "  <thead>\n",
       "    <tr style=\"text-align: right;\">\n",
       "      <th></th>\n",
       "      <th>title</th>\n",
       "      <th>article_text</th>\n",
       "      <th>images</th>\n",
       "      <th>uuid</th>\n",
       "      <th>parent</th>\n",
       "    </tr>\n",
       "  </thead>\n",
       "  <tbody>\n",
       "    <tr>\n",
       "      <th>0</th>\n",
       "      <td>\\n\\t\\tTrump DC hotel falls millions short of p...</td>\n",
       "      <td>President Trump’s Washington, D.C., hotel made...</td>\n",
       "      <td>[{'url': 'https://i0.wp.com/thehill.com/wp-con...</td>\n",
       "      <td>73ff4208-406e-11ee-a96e-33dec8f414a2</td>\n",
       "      <td>73ff4208-406e-11ee-a96e-33dec8f414a2</td>\n",
       "    </tr>\n",
       "    <tr>\n",
       "      <th>1</th>\n",
       "      <td>\\n\\t\\tOvernight Tech: Microsoft wants end to f...</td>\n",
       "      <td>MICROSOFT CALLS OUT GOVERNMENT HACKING PRACTIC...</td>\n",
       "      <td>[{'url': 'https://i0.wp.com/thehill.com/wp-con...</td>\n",
       "      <td>77a0c19b-406e-11ee-a96e-33dec8f414a2</td>\n",
       "      <td>77a0c19b-406e-11ee-a96e-33dec8f414a2</td>\n",
       "    </tr>\n",
       "    <tr>\n",
       "      <th>2</th>\n",
       "      <td>\\n\\t\\tAnother US motorcycle company considerin...</td>\n",
       "      <td>Minnesota-based Polaris acknowledged on Friday...</td>\n",
       "      <td>[{'url': 'https://thehill.com/wp-content/uploa...</td>\n",
       "      <td>8cfe90c9-406e-11ee-a96e-33dec8f414a2</td>\n",
       "      <td>8cfe90c9-406e-11ee-a96e-33dec8f414a2</td>\n",
       "    </tr>\n",
       "    <tr>\n",
       "      <th>3</th>\n",
       "      <td>\\n\\t\\tTrump: ‘I don’t need a summit’ with Mexi...</td>\n",
       "      <td>President Trump said he does not need to hold ...</td>\n",
       "      <td>[{'url': 'https://i0.wp.com/thehill.com/wp-con...</td>\n",
       "      <td>9cdbdae6-406e-11ee-a96e-33dec8f414a2</td>\n",
       "      <td>9cdbdae6-406e-11ee-a96e-33dec8f414a2</td>\n",
       "    </tr>\n",
       "    <tr>\n",
       "      <th>4</th>\n",
       "      <td>\\n\\t\\tUS calls emergency meeting of UN nuclear...</td>\n",
       "      <td>The United States called an emergency meeting ...</td>\n",
       "      <td>[{'url': 'https://thehill.com/wp-content/uploa...</td>\n",
       "      <td>a3a5f190-406e-11ee-a96e-33dec8f414a2</td>\n",
       "      <td>a3a5f190-406e-11ee-a96e-33dec8f414a2</td>\n",
       "    </tr>\n",
       "  </tbody>\n",
       "</table>\n",
       "</div>"
      ],
      "text/plain": [
       "                                               title  \\\n",
       "0  \\n\\t\\tTrump DC hotel falls millions short of p...   \n",
       "1  \\n\\t\\tOvernight Tech: Microsoft wants end to f...   \n",
       "2  \\n\\t\\tAnother US motorcycle company considerin...   \n",
       "3  \\n\\t\\tTrump: ‘I don’t need a summit’ with Mexi...   \n",
       "4  \\n\\t\\tUS calls emergency meeting of UN nuclear...   \n",
       "\n",
       "                                        article_text  \\\n",
       "0  President Trump’s Washington, D.C., hotel made...   \n",
       "1  MICROSOFT CALLS OUT GOVERNMENT HACKING PRACTIC...   \n",
       "2  Minnesota-based Polaris acknowledged on Friday...   \n",
       "3  President Trump said he does not need to hold ...   \n",
       "4  The United States called an emergency meeting ...   \n",
       "\n",
       "                                              images  \\\n",
       "0  [{'url': 'https://i0.wp.com/thehill.com/wp-con...   \n",
       "1  [{'url': 'https://i0.wp.com/thehill.com/wp-con...   \n",
       "2  [{'url': 'https://thehill.com/wp-content/uploa...   \n",
       "3  [{'url': 'https://i0.wp.com/thehill.com/wp-con...   \n",
       "4  [{'url': 'https://thehill.com/wp-content/uploa...   \n",
       "\n",
       "                                   uuid                                parent  \n",
       "0  73ff4208-406e-11ee-a96e-33dec8f414a2  73ff4208-406e-11ee-a96e-33dec8f414a2  \n",
       "1  77a0c19b-406e-11ee-a96e-33dec8f414a2  77a0c19b-406e-11ee-a96e-33dec8f414a2  \n",
       "2  8cfe90c9-406e-11ee-a96e-33dec8f414a2  8cfe90c9-406e-11ee-a96e-33dec8f414a2  \n",
       "3  9cdbdae6-406e-11ee-a96e-33dec8f414a2  9cdbdae6-406e-11ee-a96e-33dec8f414a2  \n",
       "4  a3a5f190-406e-11ee-a96e-33dec8f414a2  a3a5f190-406e-11ee-a96e-33dec8f414a2  "
      ]
     },
     "execution_count": 95,
     "metadata": {},
     "output_type": "execute_result"
    }
   ],
   "source": [
    "df = pd.read_json(json_string)\n",
    "#df = pd.read_json(json_string, encoding=result['encoding'])\n",
    "df.head()"
   ]
  },
  {
   "cell_type": "code",
   "execution_count": 96,
   "id": "51cb001b",
   "metadata": {},
   "outputs": [
    {
     "data": {
      "text/html": [
       "<div>\n",
       "<style scoped>\n",
       "    .dataframe tbody tr th:only-of-type {\n",
       "        vertical-align: middle;\n",
       "    }\n",
       "\n",
       "    .dataframe tbody tr th {\n",
       "        vertical-align: top;\n",
       "    }\n",
       "\n",
       "    .dataframe thead th {\n",
       "        text-align: right;\n",
       "    }\n",
       "</style>\n",
       "<table border=\"1\" class=\"dataframe\">\n",
       "  <thead>\n",
       "    <tr style=\"text-align: right;\">\n",
       "      <th></th>\n",
       "      <th>title</th>\n",
       "      <th>article_text</th>\n",
       "      <th>images</th>\n",
       "      <th>uuid</th>\n",
       "      <th>parent</th>\n",
       "    </tr>\n",
       "  </thead>\n",
       "  <tbody>\n",
       "    <tr>\n",
       "      <th>0</th>\n",
       "      <td>trump dc hotel falls millions short of project...</td>\n",
       "      <td>president trump’s washington, d.c., hotel made...</td>\n",
       "      <td>[{'url': 'https://i0.wp.com/thehill.com/wp-con...</td>\n",
       "      <td>73ff4208-406e-11ee-a96e-33dec8f414a2</td>\n",
       "      <td>73ff4208-406e-11ee-a96e-33dec8f414a2</td>\n",
       "    </tr>\n",
       "    <tr>\n",
       "      <th>1</th>\n",
       "      <td>overnight tech: microsoft wants end to feds’ s...</td>\n",
       "      <td>microsoft calls out government hacking practic...</td>\n",
       "      <td>[{'url': 'https://i0.wp.com/thehill.com/wp-con...</td>\n",
       "      <td>77a0c19b-406e-11ee-a96e-33dec8f414a2</td>\n",
       "      <td>77a0c19b-406e-11ee-a96e-33dec8f414a2</td>\n",
       "    </tr>\n",
       "    <tr>\n",
       "      <th>2</th>\n",
       "      <td>another us motorcycle company considering movi...</td>\n",
       "      <td>minnesota-based polaris acknowledged on friday...</td>\n",
       "      <td>[{'url': 'https://thehill.com/wp-content/uploa...</td>\n",
       "      <td>8cfe90c9-406e-11ee-a96e-33dec8f414a2</td>\n",
       "      <td>8cfe90c9-406e-11ee-a96e-33dec8f414a2</td>\n",
       "    </tr>\n",
       "    <tr>\n",
       "      <th>3</th>\n",
       "      <td>trump: ‘i don’t need a summit’ with mexico, el...</td>\n",
       "      <td>president trump said he does not need to hold ...</td>\n",
       "      <td>[{'url': 'https://i0.wp.com/thehill.com/wp-con...</td>\n",
       "      <td>9cdbdae6-406e-11ee-a96e-33dec8f414a2</td>\n",
       "      <td>9cdbdae6-406e-11ee-a96e-33dec8f414a2</td>\n",
       "    </tr>\n",
       "    <tr>\n",
       "      <th>4</th>\n",
       "      <td>us calls emergency meeting of un nuclear watch...</td>\n",
       "      <td>the united states called an emergency meeting ...</td>\n",
       "      <td>[{'url': 'https://thehill.com/wp-content/uploa...</td>\n",
       "      <td>a3a5f190-406e-11ee-a96e-33dec8f414a2</td>\n",
       "      <td>a3a5f190-406e-11ee-a96e-33dec8f414a2</td>\n",
       "    </tr>\n",
       "  </tbody>\n",
       "</table>\n",
       "</div>"
      ],
      "text/plain": [
       "                                               title  \\\n",
       "0  trump dc hotel falls millions short of project...   \n",
       "1  overnight tech: microsoft wants end to feds’ s...   \n",
       "2  another us motorcycle company considering movi...   \n",
       "3  trump: ‘i don’t need a summit’ with mexico, el...   \n",
       "4  us calls emergency meeting of un nuclear watch...   \n",
       "\n",
       "                                        article_text  \\\n",
       "0  president trump’s washington, d.c., hotel made...   \n",
       "1  microsoft calls out government hacking practic...   \n",
       "2  minnesota-based polaris acknowledged on friday...   \n",
       "3  president trump said he does not need to hold ...   \n",
       "4  the united states called an emergency meeting ...   \n",
       "\n",
       "                                              images  \\\n",
       "0  [{'url': 'https://i0.wp.com/thehill.com/wp-con...   \n",
       "1  [{'url': 'https://i0.wp.com/thehill.com/wp-con...   \n",
       "2  [{'url': 'https://thehill.com/wp-content/uploa...   \n",
       "3  [{'url': 'https://i0.wp.com/thehill.com/wp-con...   \n",
       "4  [{'url': 'https://thehill.com/wp-content/uploa...   \n",
       "\n",
       "                                   uuid                                parent  \n",
       "0  73ff4208-406e-11ee-a96e-33dec8f414a2  73ff4208-406e-11ee-a96e-33dec8f414a2  \n",
       "1  77a0c19b-406e-11ee-a96e-33dec8f414a2  77a0c19b-406e-11ee-a96e-33dec8f414a2  \n",
       "2  8cfe90c9-406e-11ee-a96e-33dec8f414a2  8cfe90c9-406e-11ee-a96e-33dec8f414a2  \n",
       "3  9cdbdae6-406e-11ee-a96e-33dec8f414a2  9cdbdae6-406e-11ee-a96e-33dec8f414a2  \n",
       "4  a3a5f190-406e-11ee-a96e-33dec8f414a2  a3a5f190-406e-11ee-a96e-33dec8f414a2  "
      ]
     },
     "execution_count": 96,
     "metadata": {},
     "output_type": "execute_result"
    }
   ],
   "source": [
    "\n",
    "#lowercase text\n",
    "df['title'] = df['title'].str.lower()\n",
    "df['article_text'] = df['article_text'].str.lower()\n",
    "\n",
    "#remove certain characters from title\n",
    "df['title'] = df['title'].apply(lambda x: re.sub(r'[\\n\\t\\r]', '', x))\n",
    "\n",
    "df.head()\n"
   ]
  },
  {
   "cell_type": "code",
   "execution_count": 97,
   "id": "26b63320",
   "metadata": {},
   "outputs": [
    {
     "name": "stdout",
     "output_type": "stream",
     "text": [
      "president trump’s washington, d.c., hotel made at least $2 million less than projected in its first two months of operation, according to house democrats citing documents obtained from the general services administration (gsa).democrats on the house oversight and transportation committees revealed the information in a letter sent monday to gsa administrator timothy horne, in which they asked how the agency planned to handle the alleged breach of the lease on the hotel housed in the old post office, just east of the white house on pennsylvania avenue.a provision in the lease, signed years before trump began his presidential campaign, prevents any federal elected official from being included on or benefiting from the lease. the democrats claim in their letter that trump’s ascendance to the presidency on friday is a breach of the lease.the documents democrats obtained from the gsa and released monday show that trump has a 76.7 percent stake in the hotel. the hotel has been a constant source of criticism from democrats and ethics officials who warn it could be used by foreign governments and businesses to curry favor with the president. adding to the focus monday was a lawsuit filed by the left-leaning watchdog group citizens for responsibility and ethics in washington “to stop president trump from violating the constitution by illegally receiving payments from foreign governments.”{mosads}“our hope has always been that president trump would resolve these breach-of-lease and conflict of interest issues prior to being sworn in as president on january 20,” the democrats wrote in their monday letter.“unfortunately, president trump has refused to address these concerns, and taxpayer dollars may now be squandered as career public servants are forced to take remedial action to cure this breach.”the letter also includes the trump hotel’s revenue versus estimates from september and october 2016, its first two months of operation.the trump hotel made $1,301,000 in revenue in september, though it was projected to make $2,087,000 — meaning it faced a roughly $700,000 shortfall. the hotel made $2,771,000 in revenue in october, compared to a projected $4,276,000. that’s nearly $2.3 million less than projected in total.the hotel’s net loss for september was $334,000 and $825,000 in october. it was estimated to lose $84,000 in september and gain $481,000 in profit in october.“the possibility that president trump will profit from large increases in hotel revenues because he was elected president highlights the grave concerns we have raised for months about his conflicts of interest and potential violations of the emoluments clause of the constitution,” wrote the democrats, citing a clause in the constitution barring elected officials from receiving gifts or payments from foreign governments.the democrats asked horne if the agency would be notifying trump that he violated his lease, and questioned how the gsa plans to deal with the alleged breach and how it would handle claims that the trump organization failed to pay contractors who worked on the hotel.the democrats also asked for copies of correspondence between the gsa and the trump organization and transition team.\n"
     ]
    },
    {
     "data": {
      "text/plain": [
       "'trump dc hotel falls millions short of projected revenue in first months'"
      ]
     },
     "execution_count": 97,
     "metadata": {},
     "output_type": "execute_result"
    }
   ],
   "source": [
    "print(df['article_text'][0])\n",
    "df['title'][0]"
   ]
  },
  {
   "cell_type": "code",
   "execution_count": 98,
   "id": "2fd725b8",
   "metadata": {},
   "outputs": [],
   "source": [
    "# Combining and/or Subsetting the data for training\n",
    "\n",
    "# concate text and title\n",
    "df[\"title_text\"] = df[\"title\"] + \" \" +  df[\"article_text\"]\n",
    "df[\"title_text_limited\"] = df[\"title_text\"][:512]\n",
    "\n",
    "df[\"text_limited\"] = df['article_text'][:512]\n",
    "\n"
   ]
  },
  {
   "cell_type": "code",
   "execution_count": 99,
   "id": "10ebe5dc",
   "metadata": {},
   "outputs": [],
   "source": [
    "\n",
    "def lemmatize(text):\n",
    "    \"\"\"\n",
    "    lmmatizes the data, then rejoins it to a single string\n",
    "    \"\"\"\n",
    "    \n",
    "    lemmatizer = WordNetLemmatizer()\n",
    "    word_tokens = word_tokenize(text)  \n",
    "    lemmatized_text = [lemmatizer.lemmatize(token) for token in word_tokens]\n",
    "    \n",
    "    return ' '.join(lemmatized_text)\n",
    "\n",
    "    # Efficiency concern? we tokenize to lemmatize, and then re-join into a string. \n",
    "    # Embeddings should be created in the loop?\n",
    "\n",
    "df['title_text_limited'] = df['title_text_limited'].apply(lemmatize)\n",
    "df['text_limited'] = df['text_limited'].apply(lemmatize)\n",
    "df['title'] = df['title'].apply(lemmatize)\n",
    "\n"
   ]
  },
  {
   "cell_type": "code",
   "execution_count": 103,
   "id": "24b798c8",
   "metadata": {},
   "outputs": [
    {
     "data": {
      "text/html": [
       "<div>\n",
       "<style scoped>\n",
       "    .dataframe tbody tr th:only-of-type {\n",
       "        vertical-align: middle;\n",
       "    }\n",
       "\n",
       "    .dataframe tbody tr th {\n",
       "        vertical-align: top;\n",
       "    }\n",
       "\n",
       "    .dataframe thead th {\n",
       "        text-align: right;\n",
       "    }\n",
       "</style>\n",
       "<table border=\"1\" class=\"dataframe\">\n",
       "  <thead>\n",
       "    <tr style=\"text-align: right;\">\n",
       "      <th></th>\n",
       "      <th>title</th>\n",
       "      <th>title_text_limited</th>\n",
       "      <th>text_limited</th>\n",
       "      <th>article_text</th>\n",
       "    </tr>\n",
       "  </thead>\n",
       "  <tbody>\n",
       "    <tr>\n",
       "      <th>0</th>\n",
       "      <td>trump dc hotel fall million short of projected revenue in first month</td>\n",
       "      <td>trump dc hotel fall million short of projected revenue in first month president trump ’ s washington , d.c. , hotel made at least $ 2 million le than projected in it first two month of operation , according to house democrat citing document obtained from the general service administration ( gsa ) .democrats on the house oversight and transportation committee revealed the information in a letter sent monday to gsa administrator timothy horne , in which they asked how the agency planned to handle the alleged breach of the lease on the hotel housed in the old post office , just east of the white house on pennsylvania avenue.a provision in the lease , signed year before trump began his presidential campaign , prevents any federal elected official from being included on or benefiting from the lease . the democrat claim in their letter that trump ’ s ascendance to the presidency on friday is a breach of the lease.the document democrat obtained from the gsa and released monday show that trump ha a 76.7 percent stake in the hotel . the hotel ha been a constant source of criticism from democrat and ethic official who warn it could be used by foreign government and business to curry favor with the president . adding to the focus monday wa a lawsuit filed by the left-leaning watchdog group citizen for responsibility and ethic in washington “ to stop president trump from violating the constitution by illegally receiving payment from foreign governments. ” { mosads } “ our hope ha always been that president trump would resolve these breach-of-lease and conflict of interest issue prior to being sworn in a president on january 20 , ” the democrat wrote in their monday letter. “ unfortunately , president trump ha refused to address these concern , and taxpayer dollar may now be squandered a career public servant are forced to take remedial action to cure this breach. ” the letter also includes the trump hotel ’ s revenue versus estimate from september and october 2016 , it first two month of operation.the trump hotel made $ 1,301,000 in revenue in september , though it wa projected to make $ 2,087,000 — meaning it faced a roughly $ 700,000 shortfall . the hotel made $ 2,771,000 in revenue in october , compared to a projected $ 4,276,000 . that ’ s nearly $ 2.3 million le than projected in total.the hotel ’ s net loss for september wa $ 334,000 and $ 825,000 in october . it wa estimated to lose $ 84,000 in september and gain $ 481,000 in profit in october. “ the possibility that president trump will profit from large increase in hotel revenue because he wa elected president highlight the grave concern we have raised for month about his conflict of interest and potential violation of the emolument clause of the constitution , ” wrote the democrat , citing a clause in the constitution barring elected official from receiving gift or payment from foreign governments.the democrat asked horne if the agency would be notifying trump that he violated his lease , and questioned how the gsa plan to deal with the alleged breach and how it would handle claim that the trump organization failed to pay contractor who worked on the hotel.the democrat also asked for copy of correspondence between the gsa and the trump organization and transition team .</td>\n",
       "      <td>president trump ’ s washington , d.c. , hotel made at least $ 2 million le than projected in it first two month of operation , according to house democrat citing document obtained from the general service administration ( gsa ) .democrats on the house oversight and transportation committee revealed the information in a letter sent monday to gsa administrator timothy horne , in which they asked how the agency planned to handle the alleged breach of the lease on the hotel housed in the old post office , just east of the white house on pennsylvania avenue.a provision in the lease , signed year before trump began his presidential campaign , prevents any federal elected official from being included on or benefiting from the lease . the democrat claim in their letter that trump ’ s ascendance to the presidency on friday is a breach of the lease.the document democrat obtained from the gsa and released monday show that trump ha a 76.7 percent stake in the hotel . the hotel ha been a constant source of criticism from democrat and ethic official who warn it could be used by foreign government and business to curry favor with the president . adding to the focus monday wa a lawsuit filed by the left-leaning watchdog group citizen for responsibility and ethic in washington “ to stop president trump from violating the constitution by illegally receiving payment from foreign governments. ” { mosads } “ our hope ha always been that president trump would resolve these breach-of-lease and conflict of interest issue prior to being sworn in a president on january 20 , ” the democrat wrote in their monday letter. “ unfortunately , president trump ha refused to address these concern , and taxpayer dollar may now be squandered a career public servant are forced to take remedial action to cure this breach. ” the letter also includes the trump hotel ’ s revenue versus estimate from september and october 2016 , it first two month of operation.the trump hotel made $ 1,301,000 in revenue in september , though it wa projected to make $ 2,087,000 — meaning it faced a roughly $ 700,000 shortfall . the hotel made $ 2,771,000 in revenue in october , compared to a projected $ 4,276,000 . that ’ s nearly $ 2.3 million le than projected in total.the hotel ’ s net loss for september wa $ 334,000 and $ 825,000 in october . it wa estimated to lose $ 84,000 in september and gain $ 481,000 in profit in october. “ the possibility that president trump will profit from large increase in hotel revenue because he wa elected president highlight the grave concern we have raised for month about his conflict of interest and potential violation of the emolument clause of the constitution , ” wrote the democrat , citing a clause in the constitution barring elected official from receiving gift or payment from foreign governments.the democrat asked horne if the agency would be notifying trump that he violated his lease , and questioned how the gsa plan to deal with the alleged breach and how it would handle claim that the trump organization failed to pay contractor who worked on the hotel.the democrat also asked for copy of correspondence between the gsa and the trump organization and transition team .</td>\n",
       "      <td>president trump’s washington, d.c., hotel made at least $2 million less than projected in its first two months of operation, according to house democrats citing documents obtained from the general services administration (gsa).democrats on the house oversight and transportation committees revealed the information in a letter sent monday to gsa administrator timothy horne, in which they asked how the agency planned to handle the alleged breach of the lease on the hotel housed in the old post office, just east of the white house on pennsylvania avenue.a provision in the lease, signed years before trump began his presidential campaign, prevents any federal elected official from being included on or benefiting from the lease. the democrats claim in their letter that trump’s ascendance to the presidency on friday is a breach of the lease.the documents democrats obtained from the gsa and released monday show that trump has a 76.7 percent stake in the hotel. the hotel has been a constant source of criticism from democrats and ethics officials who warn it could be used by foreign governments and businesses to curry favor with the president. adding to the focus monday was a lawsuit filed by the left-leaning watchdog group citizens for responsibility and ethics in washington “to stop president trump from violating the constitution by illegally receiving payments from foreign governments.”{mosads}“our hope has always been that president trump would resolve these breach-of-lease and conflict of interest issues prior to being sworn in as president on january 20,” the democrats wrote in their monday letter.“unfortunately, president trump has refused to address these concerns, and taxpayer dollars may now be squandered as career public servants are forced to take remedial action to cure this breach.”the letter also includes the trump hotel’s revenue versus estimates from september and october 2016, its first two months of operation.the trump hotel made $1,301,000 in revenue in september, though it was projected to make $2,087,000 — meaning it faced a roughly $700,000 shortfall. the hotel made $2,771,000 in revenue in october, compared to a projected $4,276,000. that’s nearly $2.3 million less than projected in total.the hotel’s net loss for september was $334,000 and $825,000 in october. it was estimated to lose $84,000 in september and gain $481,000 in profit in october.“the possibility that president trump will profit from large increases in hotel revenues because he was elected president highlights the grave concerns we have raised for months about his conflicts of interest and potential violations of the emoluments clause of the constitution,” wrote the democrats, citing a clause in the constitution barring elected officials from receiving gifts or payments from foreign governments.the democrats asked horne if the agency would be notifying trump that he violated his lease, and questioned how the gsa plans to deal with the alleged breach and how it would handle claims that the trump organization failed to pay contractors who worked on the hotel.the democrats also asked for copies of correspondence between the gsa and the trump organization and transition team.</td>\n",
       "    </tr>\n",
       "  </tbody>\n",
       "</table>\n",
       "</div>"
      ],
      "text/plain": [
       "                                                                   title  \\\n",
       "0  trump dc hotel fall million short of projected revenue in first month   \n",
       "\n",
       "                                                                                                                                                                                                                                                                                                                                                                                                                                                                                                                                                                                                                                                                                                                                                                                                                                                                                                                                                                                                                                                                                                                                                                                                                                                                                                                                                                                                                                                                                                                                                                                                                                                                                                                                                                                                                                                                                                                                                                                                                                                                                                                                                                                                                                                                                                                                                                                                                                                                                                                                                                                                                                                                                                                                                                                                                                                                                                                                                                                                                                                                                                                                                                                                                                                                                                                                                                                              title_text_limited  \\\n",
       "0  trump dc hotel fall million short of projected revenue in first month president trump ’ s washington , d.c. , hotel made at least $ 2 million le than projected in it first two month of operation , according to house democrat citing document obtained from the general service administration ( gsa ) .democrats on the house oversight and transportation committee revealed the information in a letter sent monday to gsa administrator timothy horne , in which they asked how the agency planned to handle the alleged breach of the lease on the hotel housed in the old post office , just east of the white house on pennsylvania avenue.a provision in the lease , signed year before trump began his presidential campaign , prevents any federal elected official from being included on or benefiting from the lease . the democrat claim in their letter that trump ’ s ascendance to the presidency on friday is a breach of the lease.the document democrat obtained from the gsa and released monday show that trump ha a 76.7 percent stake in the hotel . the hotel ha been a constant source of criticism from democrat and ethic official who warn it could be used by foreign government and business to curry favor with the president . adding to the focus monday wa a lawsuit filed by the left-leaning watchdog group citizen for responsibility and ethic in washington “ to stop president trump from violating the constitution by illegally receiving payment from foreign governments. ” { mosads } “ our hope ha always been that president trump would resolve these breach-of-lease and conflict of interest issue prior to being sworn in a president on january 20 , ” the democrat wrote in their monday letter. “ unfortunately , president trump ha refused to address these concern , and taxpayer dollar may now be squandered a career public servant are forced to take remedial action to cure this breach. ” the letter also includes the trump hotel ’ s revenue versus estimate from september and october 2016 , it first two month of operation.the trump hotel made $ 1,301,000 in revenue in september , though it wa projected to make $ 2,087,000 — meaning it faced a roughly $ 700,000 shortfall . the hotel made $ 2,771,000 in revenue in october , compared to a projected $ 4,276,000 . that ’ s nearly $ 2.3 million le than projected in total.the hotel ’ s net loss for september wa $ 334,000 and $ 825,000 in october . it wa estimated to lose $ 84,000 in september and gain $ 481,000 in profit in october. “ the possibility that president trump will profit from large increase in hotel revenue because he wa elected president highlight the grave concern we have raised for month about his conflict of interest and potential violation of the emolument clause of the constitution , ” wrote the democrat , citing a clause in the constitution barring elected official from receiving gift or payment from foreign governments.the democrat asked horne if the agency would be notifying trump that he violated his lease , and questioned how the gsa plan to deal with the alleged breach and how it would handle claim that the trump organization failed to pay contractor who worked on the hotel.the democrat also asked for copy of correspondence between the gsa and the trump organization and transition team .   \n",
       "\n",
       "                                                                                                                                                                                                                                                                                                                                                                                                                                                                                                                                                                                                                                                                                                                                                                                                                                                                                                                                                                                                                                                                                                                                                                                                                                                                                                                                                                                                                                                                                                                                                                                                                                                                                                                                                                                                                                                                                                                                                                                                                                                                                                                                                                                                                                                                                                                                                                                                                                                                                                                                                                                                                                                                                                                                                                                                                                                                                                                                                                                                                                                                                                                                                                                                                                                                                                                              text_limited  \\\n",
       "0  president trump ’ s washington , d.c. , hotel made at least $ 2 million le than projected in it first two month of operation , according to house democrat citing document obtained from the general service administration ( gsa ) .democrats on the house oversight and transportation committee revealed the information in a letter sent monday to gsa administrator timothy horne , in which they asked how the agency planned to handle the alleged breach of the lease on the hotel housed in the old post office , just east of the white house on pennsylvania avenue.a provision in the lease , signed year before trump began his presidential campaign , prevents any federal elected official from being included on or benefiting from the lease . the democrat claim in their letter that trump ’ s ascendance to the presidency on friday is a breach of the lease.the document democrat obtained from the gsa and released monday show that trump ha a 76.7 percent stake in the hotel . the hotel ha been a constant source of criticism from democrat and ethic official who warn it could be used by foreign government and business to curry favor with the president . adding to the focus monday wa a lawsuit filed by the left-leaning watchdog group citizen for responsibility and ethic in washington “ to stop president trump from violating the constitution by illegally receiving payment from foreign governments. ” { mosads } “ our hope ha always been that president trump would resolve these breach-of-lease and conflict of interest issue prior to being sworn in a president on january 20 , ” the democrat wrote in their monday letter. “ unfortunately , president trump ha refused to address these concern , and taxpayer dollar may now be squandered a career public servant are forced to take remedial action to cure this breach. ” the letter also includes the trump hotel ’ s revenue versus estimate from september and october 2016 , it first two month of operation.the trump hotel made $ 1,301,000 in revenue in september , though it wa projected to make $ 2,087,000 — meaning it faced a roughly $ 700,000 shortfall . the hotel made $ 2,771,000 in revenue in october , compared to a projected $ 4,276,000 . that ’ s nearly $ 2.3 million le than projected in total.the hotel ’ s net loss for september wa $ 334,000 and $ 825,000 in october . it wa estimated to lose $ 84,000 in september and gain $ 481,000 in profit in october. “ the possibility that president trump will profit from large increase in hotel revenue because he wa elected president highlight the grave concern we have raised for month about his conflict of interest and potential violation of the emolument clause of the constitution , ” wrote the democrat , citing a clause in the constitution barring elected official from receiving gift or payment from foreign governments.the democrat asked horne if the agency would be notifying trump that he violated his lease , and questioned how the gsa plan to deal with the alleged breach and how it would handle claim that the trump organization failed to pay contractor who worked on the hotel.the democrat also asked for copy of correspondence between the gsa and the trump organization and transition team .   \n",
       "\n",
       "                                                                                                                                                                                                                                                                                                                                                                                                                                                                                                                                                                                                                                                                                                                                                                                                                                                                                                                                                                                                                                                                                                                                                                                                                                                                                                                                                                                                                                                                                                                                                                                                                                                                                                                                                                                                                                                                                                                                                                                                                                                                                                                                                                                                                                                                                                                                                                                                                                                                                                                                                                                                                                                                                                                                                                                                                                                                                                                                                                                                                                                                                                                                                                                                                                                                                                                             article_text  \n",
       "0  president trump’s washington, d.c., hotel made at least $2 million less than projected in its first two months of operation, according to house democrats citing documents obtained from the general services administration (gsa).democrats on the house oversight and transportation committees revealed the information in a letter sent monday to gsa administrator timothy horne, in which they asked how the agency planned to handle the alleged breach of the lease on the hotel housed in the old post office, just east of the white house on pennsylvania avenue.a provision in the lease, signed years before trump began his presidential campaign, prevents any federal elected official from being included on or benefiting from the lease. the democrats claim in their letter that trump’s ascendance to the presidency on friday is a breach of the lease.the documents democrats obtained from the gsa and released monday show that trump has a 76.7 percent stake in the hotel. the hotel has been a constant source of criticism from democrats and ethics officials who warn it could be used by foreign governments and businesses to curry favor with the president. adding to the focus monday was a lawsuit filed by the left-leaning watchdog group citizens for responsibility and ethics in washington “to stop president trump from violating the constitution by illegally receiving payments from foreign governments.”{mosads}“our hope has always been that president trump would resolve these breach-of-lease and conflict of interest issues prior to being sworn in as president on january 20,” the democrats wrote in their monday letter.“unfortunately, president trump has refused to address these concerns, and taxpayer dollars may now be squandered as career public servants are forced to take remedial action to cure this breach.”the letter also includes the trump hotel’s revenue versus estimates from september and october 2016, its first two months of operation.the trump hotel made $1,301,000 in revenue in september, though it was projected to make $2,087,000 — meaning it faced a roughly $700,000 shortfall. the hotel made $2,771,000 in revenue in october, compared to a projected $4,276,000. that’s nearly $2.3 million less than projected in total.the hotel’s net loss for september was $334,000 and $825,000 in october. it was estimated to lose $84,000 in september and gain $481,000 in profit in october.“the possibility that president trump will profit from large increases in hotel revenues because he was elected president highlights the grave concerns we have raised for months about his conflicts of interest and potential violations of the emoluments clause of the constitution,” wrote the democrats, citing a clause in the constitution barring elected officials from receiving gifts or payments from foreign governments.the democrats asked horne if the agency would be notifying trump that he violated his lease, and questioned how the gsa plans to deal with the alleged breach and how it would handle claims that the trump organization failed to pay contractors who worked on the hotel.the democrats also asked for copies of correspondence between the gsa and the trump organization and transition team.  "
      ]
     },
     "execution_count": 103,
     "metadata": {},
     "output_type": "execute_result"
    }
   ],
   "source": [
    "pd.set_option('display.max_colwidth', None)\n",
    "df[['title', 'title_text_limited', 'text_limited','article_text']].head(1)\n",
    "\n",
    "# note -- the lematization and re-joining adds spaces around certian punctuation -- treated they as separate tokens?\n"
   ]
  },
  {
   "cell_type": "code",
   "execution_count": 105,
   "id": "f579787d",
   "metadata": {},
   "outputs": [],
   "source": [
    "#Clean sample\n",
    "df[['title', 'title_text_limited', 'text_limited']].to_csv(\"../data/300_sample_articles_cleaned.csv\", index=False)"
   ]
  }
 ],
 "metadata": {
  "kernelspec": {
   "display_name": "Python 3.10.13 ('capp30255')",
   "language": "python",
   "name": "python3"
  },
  "language_info": {
   "codemirror_mode": {
    "name": "ipython",
    "version": 3
   },
   "file_extension": ".py",
   "mimetype": "text/x-python",
   "name": "python",
   "nbconvert_exporter": "python",
   "pygments_lexer": "ipython3",
   "version": "3.10.13"
  },
  "vscode": {
   "interpreter": {
    "hash": "0f8cb61b81dc3ce2670cbaa0dd80498fa1179fcecf7966dc7a316b7b0ee2d652"
   }
  }
 },
 "nbformat": 4,
 "nbformat_minor": 5
}
