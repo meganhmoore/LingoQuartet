{
 "cells": [
  {
   "cell_type": "code",
   "execution_count": 2,
   "id": "68d4ba95-26b2-4af2-a27b-b40acd7450af",
   "metadata": {},
   "outputs": [],
   "source": [
    "import pandas as pd"
   ]
  },
  {
   "cell_type": "code",
   "execution_count": 3,
   "id": "b0f430fd-f900-4c29-a8c2-43df2da68af8",
   "metadata": {},
   "outputs": [],
   "source": [
    "df = pd.read_json('../data/articles.json')"
   ]
  },
  {
   "cell_type": "code",
   "execution_count": 4,
   "id": "9a193545-c9e6-4e07-933b-e7dc13cb366d",
   "metadata": {},
   "outputs": [
    {
     "data": {
      "text/plain": [
       "<bound method NDFrame.head of                                                     title  \\\n",
       "0       \\n\\t\\tTrump DC hotel falls millions short of p...   \n",
       "1       \\n\\t\\tOvernight Tech: Microsoft wants end to f...   \n",
       "2       \\n\\t\\tAnother US motorcycle company considerin...   \n",
       "3       \\n\\t\\tTrump: ‘I don’t need a summit’ with Mexi...   \n",
       "4       \\n\\t\\tUS calls emergency meeting of UN nuclear...   \n",
       "...                                                   ...   \n",
       "512973  Tussling Dems tumble toward deal on Biden’s ec...   \n",
       "512974  Workers at federal prisons are committing some...   \n",
       "512975  Middle man: Petersen poised to play key role i...   \n",
       "512976  Dems edge toward pared-down spending plan to b...   \n",
       "512977  Book: Trump said of virus, ‘I wanted to always...   \n",
       "\n",
       "                                             article_text  \\\n",
       "0       President Trump’s Washington, D.C., hotel made...   \n",
       "1       MICROSOFT CALLS OUT GOVERNMENT HACKING PRACTIC...   \n",
       "2       Minnesota-based Polaris acknowledged on Friday...   \n",
       "3       President Trump said he does not need to hold ...   \n",
       "4       The United States called an emergency meeting ...   \n",
       "...                                                   ...   \n",
       "512973  FILE - President Biden walks with House Speake...   \n",
       "512974  FILE - The Federal Correctional Institution is...   \n",
       "512975  FILE - Members of the Virginia Senate are sepa...   \n",
       "512976  President Joe Biden tours the International Un...   \n",
       "512977  Democratic presidential candidate former Vice ...   \n",
       "\n",
       "                                                   images  \\\n",
       "0       [{'url': 'https://i0.wp.com/thehill.com/wp-con...   \n",
       "1       [{'url': 'https://i0.wp.com/thehill.com/wp-con...   \n",
       "2       [{'url': 'https://thehill.com/wp-content/uploa...   \n",
       "3       [{'url': 'https://i0.wp.com/thehill.com/wp-con...   \n",
       "4       [{'url': 'https://thehill.com/wp-content/uploa...   \n",
       "...                                                   ...   \n",
       "512973  [{'url': 'https://dims.apnews.com/dims4/defaul...   \n",
       "512974  [{'url': 'https://dims.apnews.com/dims4/defaul...   \n",
       "512975  [{'url': 'https://dims.apnews.com/dims4/defaul...   \n",
       "512976  [{'url': 'https://dims.apnews.com/dims4/defaul...   \n",
       "512977  [{'url': 'https://dims.apnews.com/dims4/defaul...   \n",
       "\n",
       "                                        uuid  \\\n",
       "0       73ff4208-406e-11ee-a96e-33dec8f414a2   \n",
       "1       77a0c19b-406e-11ee-a96e-33dec8f414a2   \n",
       "2       8cfe90c9-406e-11ee-a96e-33dec8f414a2   \n",
       "3       9cdbdae6-406e-11ee-a96e-33dec8f414a2   \n",
       "4       a3a5f190-406e-11ee-a96e-33dec8f414a2   \n",
       "...                                      ...   \n",
       "512973  0d7def5e-4d3c-11ee-a96e-33dec8f414a2   \n",
       "512974  0ea2a918-4d3c-11ee-a96e-33dec8f414a2   \n",
       "512975  0ea2a919-4d3c-11ee-a96e-33dec8f414a2   \n",
       "512976  10e06076-4d3c-11ee-a96e-33dec8f414a2   \n",
       "512977  163aef5a-4d3c-11ee-a96e-33dec8f414a2   \n",
       "\n",
       "                                      parent  \n",
       "0       73ff4208-406e-11ee-a96e-33dec8f414a2  \n",
       "1       77a0c19b-406e-11ee-a96e-33dec8f414a2  \n",
       "2       8cfe90c9-406e-11ee-a96e-33dec8f414a2  \n",
       "3       9cdbdae6-406e-11ee-a96e-33dec8f414a2  \n",
       "4       a3a5f190-406e-11ee-a96e-33dec8f414a2  \n",
       "...                                      ...  \n",
       "512973  0d7def5e-4d3c-11ee-a96e-33dec8f414a2  \n",
       "512974  0ea2a918-4d3c-11ee-a96e-33dec8f414a2  \n",
       "512975  0ea2a919-4d3c-11ee-a96e-33dec8f414a2  \n",
       "512976  10e06076-4d3c-11ee-a96e-33dec8f414a2  \n",
       "512977  163aef5a-4d3c-11ee-a96e-33dec8f414a2  \n",
       "\n",
       "[512978 rows x 5 columns]>"
      ]
     },
     "execution_count": 4,
     "metadata": {},
     "output_type": "execute_result"
    }
   ],
   "source": [
    "df.head"
   ]
  },
  {
   "cell_type": "code",
   "execution_count": 2,
   "id": "703d599c-4d64-45ac-98e3-5b55f91c5179",
   "metadata": {},
   "outputs": [],
   "source": [
    "import json "
   ]
  },
  {
   "cell_type": "code",
   "execution_count": 3,
   "id": "6bc2bf2a-58fd-494e-aef8-7ad5288e3156",
   "metadata": {},
   "outputs": [],
   "source": [
    "with open('../data/articles.json') as json_file:\n",
    "    data = json.load(json_file)"
   ]
  },
  {
   "cell_type": "code",
   "execution_count": 4,
   "id": "2f046569-4b25-423a-9756-a1eada141902",
   "metadata": {},
   "outputs": [
    {
     "data": {
      "text/plain": [
       "dict_keys(['title', 'article_text', 'images', 'uuid', 'parent'])"
      ]
     },
     "execution_count": 4,
     "metadata": {},
     "output_type": "execute_result"
    }
   ],
   "source": [
    "data[0].keys()"
   ]
  },
  {
   "cell_type": "code",
   "execution_count": 5,
   "id": "6813c35d-b39c-4841-bd62-3064f72ab4c7",
   "metadata": {},
   "outputs": [
    {
     "data": {
      "text/plain": [
       "512978"
      ]
     },
     "execution_count": 5,
     "metadata": {},
     "output_type": "execute_result"
    }
   ],
   "source": [
    "# 512,000 articles\n",
    "len(data)"
   ]
  },
  {
   "cell_type": "code",
   "execution_count": 6,
   "id": "8b6970c5-8949-47a2-a02a-57e77bc81e68",
   "metadata": {},
   "outputs": [
    {
     "data": {
      "text/plain": [
       "{'title': '\\n\\t\\tTrump DC hotel falls millions short of projected revenue in first months\\t',\n",
       " 'article_text': 'President Trump’s Washington, D.C., hotel made at least $2 million less than projected in its first two months of operation, according to House Democrats citing documents obtained from the General Services Administration (GSA).Democrats on the House Oversight and Transportation committees revealed the information in a letter sent Monday to GSA Administrator Timothy Horne, in which they asked how the agency planned to handle the alleged breach of the lease on the hotel housed in the Old Post Office, just east of the White House on Pennsylvania Avenue.A provision in the lease, signed years before Trump began his presidential campaign, prevents any federal elected official from being included on or benefiting from the lease. The Democrats claim in their letter that Trump’s ascendance to the presidency on Friday is a breach of the lease.The documents Democrats obtained from the GSA and released Monday show that Trump has a 76.7 percent stake in the hotel.\\xa0The hotel has been a constant source of criticism from Democrats and ethics officials who warn it could be used by foreign governments and businesses to curry favor with the president. Adding to the focus Monday was a lawsuit filed by the left-leaning watchdog group Citizens for Responsibility and Ethics in Washington “to stop President Trump from violating the Constitution by illegally receiving payments from foreign governments.”{mosads}“Our hope has always been that President Trump would resolve these breach-of-lease and conflict of interest issues prior to being sworn in as President on January 20,” the Democrats wrote in their Monday letter.“Unfortunately, President Trump has refused to address these concerns, and taxpayer dollars may now be squandered as career public servants are forced to take remedial action to cure this breach.”The letter also includes the Trump hotel’s revenue versus estimates from September and October 2016, its first two months of operation.The Trump hotel made $1,301,000 in revenue in September, though it was projected to make $2,087,000 — meaning it faced a roughly $700,000 shortfall. The hotel made $2,771,000 in revenue in October, compared to a projected $4,276,000. That’s nearly $2.3 million less than projected in total.The hotel’s net loss for September was $334,000 and $825,000 in October. It was estimated to lose $84,000 in September and gain $481,000 in profit in October.“The possibility that President Trump will profit from large increases in hotel revenues because he was elected President highlights the grave concerns we have raised for months about his conflicts of interest and potential violations of the Emoluments Clause of the Constitution,” wrote the Democrats, citing a clause in the Constitution barring elected officials from receiving gifts or payments from foreign governments.The Democrats asked Horne if the agency would be notifying Trump that he violated his lease, and questioned how the GSA plans to deal with the alleged breach and how it would handle claims that the Trump Organization failed to pay contractors who worked on the hotel.The Democrats also asked for copies of correspondence between the GSA and the Trump Organization and transition team.',\n",
       " 'images': [{'url': 'https://i0.wp.com/thehill.com/wp-content/uploads/sites/2/2017/01/trumphotel618289268.jpg?w=2000&ssl=1',\n",
       "   'image_type': 'main',\n",
       "   'caption': '',\n",
       "   'alt_text': ''},\n",
       "  {'url': 'https://thehill.com/wp-content/uploads/sites/2/2017/01/trumphotel618289268.jpg?w=1280',\n",
       "   'image_type': 'social',\n",
       "   'caption': '',\n",
       "   'alt_text': ''}],\n",
       " 'uuid': '73ff4208-406e-11ee-a96e-33dec8f414a2',\n",
       " 'parent': '73ff4208-406e-11ee-a96e-33dec8f414a2'}"
      ]
     },
     "execution_count": 6,
     "metadata": {},
     "output_type": "execute_result"
    }
   ],
   "source": [
    "data[0]"
   ]
  },
  {
   "cell_type": "code",
   "execution_count": 7,
   "id": "34628438-fb93-4141-8114-8c8df416097f",
   "metadata": {},
   "outputs": [],
   "source": [
    "# map article ids to the urls within them\n",
    "ids_to_urls = {}\n",
    "num_urls = []\n",
    "for article in data:\n",
    "    ids_to_urls[article['uuid']] = []\n",
    "    num_urls.append(len(article['images']))\n",
    "    for image in article['images']:\n",
    "        ids_to_urls[article['uuid']].append(image['url'])"
   ]
  },
  {
   "cell_type": "code",
   "execution_count": 8,
   "id": "3cfee579-71d4-489e-976a-966cb242da81",
   "metadata": {},
   "outputs": [
    {
     "data": {
      "text/plain": [
       "'cf701143-3d5e-11ee-a96e-33dec8f414a2'"
      ]
     },
     "execution_count": 8,
     "metadata": {},
     "output_type": "execute_result"
    }
   ],
   "source": [
    "uuids = list(ids_to_urls.keys())\n",
    "uuids[245009]"
   ]
  },
  {
   "cell_type": "code",
   "execution_count": 9,
   "id": "2bfe851c-e9dc-4ee2-bef7-938361da9fbe",
   "metadata": {},
   "outputs": [
    {
     "data": {
      "text/plain": [
       "['https://www.politico.com/dims4/default/15832a9/2147483647/resize/1160x%3E/quality/90/?url=https%3A%2F%2Fstatic.politico.com%2Fe8%2F77%2F6f352ff947bbb8339b57d576a6fb%2Fepshteyn-boris-ap.jpg',\n",
       " 'https://www.politico.com/dims4/default/ed2b57c/2147483647/resize/1160x%3E/quality/90/?url=https%3A%2F%2Fstatic.politico.com%2F4d%2Fe2%2Fd7ed5c1d4741899169d29661c45b%2Fbannon-gty.jpg',\n",
       " 'https://www.politico.com/dims4/default/36d94d7/2147483647/resize/1160x%3E/quality/90/?url=https%3A%2F%2Fstatic.politico.com%2Fae%2Ff9%2F8395df6e4c71ab69a9865dd3be3a%2Fmiller-stephen-gty.jpg',\n",
       " 'https://www.politico.com/dims4/default/edcb661/2147483647/resize/1160x%3E/quality/90/?url=https%3A%2F%2Fstatic.politico.com%2F46%2F80%2F0b873be248298e7edb50a0fbf234%2Ffarage-nigel-gty.jpg',\n",
       " 'https://www.politico.com/dims4/default/42075d3/2147483647/resize/1160x%3E/quality/90/?url=https%3A%2F%2Fstatic.politico.com%2F35%2Fdc%2Fc665995a481fba81bfd73d679343%2Fhicks-hope-ap.jpg',\n",
       " 'https://www.politico.com/dims4/default/fccff62/2147483647/resize/1160x%3E/quality/90/?url=https%3A%2F%2Fstatic.politico.com%2Fcd%2F02%2Fcc85457b42699472ddb6fbf2181a%2Fflynn-michael-gty.jpg',\n",
       " 'https://www.politico.com/dims4/default/f3b5fb2/2147483647/resize/1160x%3E/quality/90/?url=https%3A%2F%2Fstatic.politico.com%2F0a%2F8a%2F1c47332b4220bcb2ff1d3537507e%2Fbondi-pam-ap.jpg',\n",
       " 'https://www.politico.com/dims4/default/86ba48b/2147483647/resize/1160x%3E/quality/90/?url=https%3A%2F%2Fstatic.politico.com%2F3c%2F4a%2Fbd139e6847998ad1ccf977f21066%2Fsessions-jeff-gty.jpg',\n",
       " 'https://www.politico.com/dims4/default/bc85fac/2147483647/resize/1160x%3E/quality/90/?url=https%3A%2F%2Fstatic.politico.com%2F0d%2F59%2Fd929d2a6438c8765626d72f1aaa7%2Fparscale-brad-ap.jpg',\n",
       " 'https://www.politico.com/dims4/default/d43c326/2147483647/resize/1160x%3E/quality/90/?url=https%3A%2F%2Fstatic.politico.com%2F0a%2F94%2F4154ddd54baca7d74ff080e1e53b%2Fdewit-jeff-gty.jpg',\n",
       " 'https://www.politico.com/dims4/default/962ed96/2147483647/resize/1160x%3E/quality/90/?url=https%3A%2F%2Fstatic.politico.com%2Fe0%2F99%2F0166687f493ead93eefce065895a%2Fmcgahn-don-gty.jpg',\n",
       " 'https://www.politico.com/dims4/default/78fa31a/2147483647/resize/1160x%3E/quality/90/?url=https%3A%2F%2Fstatic.politico.com%2F3a%2Fed%2Ff74c207747338090a8d905551762%2Fspicer-sean-gty.jpg',\n",
       " 'https://www.politico.com/dims4/default/2774f77/2147483647/resize/1160x%3E/quality/90/?url=https%3A%2F%2Fstatic.politico.com%2Fe0%2F86%2Fd132e5ee492780c0eb4fe4ae89bf%2Fcruz-ted-ap.jpg',\n",
       " 'https://www.politico.com/dims4/default/e207f12/2147483647/resize/1160x%3E/quality/90/?url=https%3A%2F%2Fstatic.politico.com%2F78%2Fee%2Fca6012644155a3aef508f71b46d0%2Fmnuchin-steve-gty.jpg',\n",
       " 'https://www.politico.com/dims4/default/ea19223/2147483647/resize/1160x%3E/quality/90/?url=https%3A%2F%2Fstatic.politico.com%2Fdf%2F4b%2F4333e84d4268bfcafa549a3f5d12%2Fmaples-marla-ap.jpg',\n",
       " 'https://www.politico.com/dims4/default/7f0fdcd/2147483647/resize/1160x%3E/quality/90/?url=https%3A%2F%2Fstatic.politico.com%2Faa%2F3b%2Fab97cd9448efae52015dffd22244%2Fde-blasio-gty.jpg',\n",
       " 'https://www.politico.com/dims4/default/314cbc6/2147483647/resize/1160x%3E/quality/90/?url=https%3A%2F%2Fstatic.politico.com%2Fe6%2F9b%2F6619d5204500bf4a2ef359b7d8c1%2Fprice-tom-ap.jpg',\n",
       " 'https://www.politico.com/dims4/default/e25b38b/2147483647/resize/1160x%3E/quality/90/?url=https%3A%2F%2Fstatic.politico.com%2F0e%2F00%2Fa0fb2ce64be9b90e9a1dd54599d7%2Fwashburne-ray-gty.jpg',\n",
       " 'https://www.politico.com/dims4/default/7021d7f/2147483647/resize/1160x%3E/quality/90/?url=https%3A%2F%2Fstatic.politico.com%2Fba%2F78%2Fd9a8085d4776b0ea12ab71f1828e%2Fleo-leonard-ap.jpg',\n",
       " 'https://www.politico.com/dims4/default/a66393d/2147483647/resize/1160x%3E/quality/90/?url=https%3A%2F%2Fstatic.politico.com%2Fb7%2F21%2F52f7eb7a4565bbe7aa1e608f7057%2Fthiel-peter-gty.jpg',\n",
       " 'https://www.politico.com/dims4/default/4ae9864/2147483647/resize/1160x%3E/quality/90/?url=https%3A%2F%2Fstatic.politico.com%2F35%2Faf%2F5f34e2004503a1ede66244733b93%2Fkraft-robert-gty.jpg',\n",
       " 'https://www.politico.com/dims4/default/08ee0ac/2147483647/resize/1160x%3E/quality/90/?url=https%3A%2F%2Fstatic.politico.com%2F0f%2F91%2Fa90fc9a64de3b0ac1782dc26eb2a%2Fbolling-eric-gty.jpg',\n",
       " 'https://www.politico.com/dims4/default/92472cf/2147483647/resize/1160x%3E/quality/90/?url=https%3A%2F%2Fstatic.politico.com%2F9c%2Fc3%2F75eb9f9d4c9c926a6ddc5b980ca9%2Fblackwell-ken-gty.jpg',\n",
       " 'https://www.politico.com/dims4/default/ef4f1d9/2147483647/resize/1160x%3E/quality/90/?url=https%3A%2F%2Fstatic.politico.com%2Fed%2F18%2F9e55cf774f5ea4ea784baacc176f%2Fgigicos-george-ap.jpg',\n",
       " 'https://www.politico.com/dims4/default/44086fd/2147483647/resize/1160x%3E/quality/90/?url=https%3A%2F%2Fstatic.politico.com%2F1e%2F6d%2F56ed3603479f855248d0be8b428c%2Fsmith-frederick-wallace-gty-1160.jpg',\n",
       " 'https://www.politico.com/dims4/default/70ea9f0/2147483647/resize/1160x%3E/quality/90/?url=https%3A%2F%2Fstatic.politico.com%2F6b%2Fc6%2F12688f03497bacf136f22205184a%2Fmiller-eli-gty.jpg',\n",
       " 'https://www.politico.com/dims4/default/b4b6abd/2147483647/resize/1160x%3E/quality/90/?url=https%3A%2F%2Fstatic.politico.com%2F83%2F24%2Fb05bc0d14883893b16eca6df2804%2Fkeane-jack-gty.jpg',\n",
       " 'https://www.politico.com/dims4/default/c0c527c/2147483647/resize/1160x%3E/quality/90/?url=https%3A%2F%2Fstatic.politico.com%2F27%2Fac%2F712051624d3da7f78fb231ade928%2Fscaramucci-anthony-gty.jpg',\n",
       " 'https://www.politico.com/dims4/default/7dda84e/2147483647/resize/1160x%3E/quality/90/?url=https%3A%2F%2Fstatic.politico.com%2F49%2Fa3%2F9aa0d09441d7bcf493d68e554872%2Fhensarling-jeb-gty-1160.jpg',\n",
       " 'https://www.politico.com/dims4/default/bdb232b/2147483647/resize/1160x%3E/quality/90/?url=https%3A%2F%2Fstatic.politico.com%2F0b%2Fa5%2F6aab4a74428cbab6f0ac6031c2c8%2Fpirro-jeanine-gty.jpg',\n",
       " 'https://www.politico.com/dims4/default/10147b6/2147483647/resize/1160x%3E/quality/90/?url=https%3A%2F%2Fstatic.politico.com%2F9a%2Ff5%2Fb4c2733d4bc4a756c4f9bf509647%2Fdermer-ron-gty-1160.jpg',\n",
       " 'https://www.politico.com/dims4/default/d8de85e/2147483647/resize/1160x%3E/quality/90/?url=https%3A%2F%2Fstatic.politico.com%2F9e%2F0a%2F3eee82d74e1485be4a80ce3fb8ea%2Frutledge-leslie-gty.jpg',\n",
       " 'https://www.politico.com/dims4/default/8618ef5/2147483647/resize/1160x%3E/quality/90/?url=https%3A%2F%2Fstatic.politico.com%2F0e%2F7a%2Fee26401443769cfa3bf4434e5121%2Fmurdoch-rupert-gty.jpg',\n",
       " 'https://www.politico.com/dims4/default/ab4c057/2147483647/resize/1160x%3E/quality/90/?url=https%3A%2F%2Fstatic.politico.com%2F37%2F62%2Fb4107eff4f67bc6a24ee45deaf4a%2Fhuckabee-mike-gty.jpg',\n",
       " 'https://www.politico.com/dims4/default/92326d3/2147483647/resize/1160x%3E/quality/90/?url=https%3A%2F%2Fstatic.politico.com%2F5c%2F5e%2F63ade1b245dc86b41e6a785e497e%2Frhee-michelle-johnson-kevin-ap.jpg',\n",
       " 'https://www.politico.com/dims4/default/4a044a8/2147483647/resize/1160x%3E/quality/90/?url=https%3A%2F%2Fstatic.politico.com%2F40%2F6d%2Fe09c654a49d5b26d44e49befc6c8%2Fmattis-james-gty.jpg',\n",
       " 'https://www.politico.com/dims4/default/cbde0d3/2147483647/resize/1160x%3E/quality/90/?url=https%3A%2F%2Fstatic.politico.com%2Fc6%2F00%2Fdc5d1b5a46e7b7d3de43c2c7fd36%2Fricketts-todd-gty.jpg',\n",
       " 'https://www.politico.com/dims4/default/6944bd9/2147483647/resize/1160x%3E/quality/90/?url=https%3A%2F%2Fstatic.politico.com%2Fa1%2Fca%2F40fbd4074d7abfb50db8aa9cc0ee%2Fpuzder-andrew-gty.jpg',\n",
       " 'https://www.politico.com/dims4/default/2120f0e/2147483647/resize/1160x%3E/quality/90/?url=https%3A%2F%2Fstatic.politico.com%2F67%2F63%2Fcfa382c240028750bbfcd92d3c77%2Fpriebus-gty.jpg',\n",
       " 'https://www.politico.com/dims4/default/74107b3/2147483647/resize/1160x%3E/quality/90/?url=https%3A%2F%2Fstatic.politico.com%2Ff4%2Fd4%2F0a42136f479eba7002f3ff8eb019%2Fwoodson-bob-gty.jpg',\n",
       " 'https://www.politico.com/dims4/default/03227cf/2147483647/resize/1160x%3E/quality/90/?url=https%3A%2F%2Fstatic.politico.com%2F7f%2F15%2F285fdf884c0993ef30429fcc3af3%2Feisenberg-lew-gty.jpg',\n",
       " 'https://www.politico.com/dims4/default/a00108d/2147483647/resize/1160x%3E/quality/90/?url=https%3A%2F%2Fstatic.politico.com%2Fb9%2F97%2Fd81d680a41b38579ee8e11a7924d%2Fromney-mitt-ap-1160.jpg',\n",
       " 'https://www.politico.com/dims4/default/5723102/2147483647/resize/1160x%3E/quality/90/?url=https%3A%2F%2Fstatic.politico.com%2F3d%2F6a%2F07b4b98141628cc7660443972097%2Fdevos-betsy-gty-1160.jpg',\n",
       " 'https://www.politico.com/dims4/default/b35eef5/2147483647/resize/1160x%3E/quality/90/?url=https%3A%2F%2Fstatic.politico.com%2F9a%2F1f%2Fca914fed4e0e88e3ab06b77f91fc%2Fsoon-shiong-patrick-gty.jpg',\n",
       " 'https://www.politico.com/dims4/default/583329b/2147483647/resize/1160x%3E/quality/90/?url=https%3A%2F%2Fstatic.politico.com%2Fe4%2Fa8%2F277235784ac68ee2a77152edef02%2Fchristie-chris-2-gty.jpg',\n",
       " 'https://www.politico.com/dims4/default/8e9bd1d/2147483647/resize/1160x%3E/quality/90/?url=https%3A%2F%2Fstatic.politico.com%2F75%2F4c%2F5abc0f48433c9fbebbd77e4ce017%2Fguiliani-rudy-gty.jpg',\n",
       " 'https://www.politico.com/dims4/default/adc8f27/2147483647/resize/1160x%3E/quality/90/?url=https%3A%2F%2Fstatic.politico.com%2Ff8%2Fa4%2Fcab31f5a4a75b3f2c67c2723de31%2Fgray-jonathan-gty.jpg',\n",
       " 'https://www.politico.com/dims4/default/79f9f6c/2147483647/resize/1160x%3E/quality/90/?url=https%3A%2F%2Fstatic.politico.com%2Fed%2Fba%2F6aad5df04d4fa4908784479cb5ff%2Fjohnson-robert-gty.jpg',\n",
       " 'https://www.politico.com/dims4/default/b8609c0/2147483647/resize/1160x%3E/quality/90/?url=https%3A%2F%2Fstatic.politico.com%2F76%2F81%2Fecacb2df42fda5c7821fcaeebb08%2Fmccormick-david-gty.jpg',\n",
       " 'https://www.politico.com/dims4/default/c71b3d4/2147483647/resize/1160x%3E/quality/90/?url=https%3A%2F%2Fstatic.politico.com%2F5b%2Ff1%2F0d96f72f42508ae09e37b596fd5a%2Fmcmorris-rodgers-cathy-gty.jpg',\n",
       " 'https://www.politico.com/dims4/default/0b55ac4/2147483647/resize/1160x%3E/quality/90/?url=https%3A%2F%2Fstatic.politico.com%2Ff0%2F56%2F6f89e0f64fd1bf1634904d9ec230%2Fshannon-tw-gty.jpg',\n",
       " 'https://www.politico.com/dims4/default/52186fc/2147483647/resize/1160x%3E/quality/90/?url=https%3A%2F%2Fstatic.politico.com%2F3d%2Fa3%2F340b9cfa4772864f69733c2ff405%2Fross-wilbur-gty.jpg',\n",
       " 'https://www.politico.com/dims4/default/74d8bc0/2147483647/resize/1160x%3E/quality/90/?url=https%3A%2F%2Fstatic.politico.com%2F0b%2F67%2F9d6bf26149bf803159bffd997e5b%2Fkelly-john-gty.jpg',\n",
       " 'https://www.politico.com/dims4/default/b5b36dc/2147483647/resize/1160x%3E/quality/90/?url=https%3A%2F%2Fstatic.politico.com%2F00%2Ff2%2Fa4b50fef48878eaa06fcab39508e%2Fkobach-kris-ap-1160.jpg',\n",
       " 'https://www.politico.com/dims4/default/e7dc0f9/2147483647/resize/1160x%3E/quality/90/?url=https%3A%2F%2Fstatic.politico.com%2Fd4%2Fea%2F16bde215479fa98eeee1e08f0adb%2Fkirsanow-peter-gty.jpg',\n",
       " 'https://www.politico.com/dims4/default/343ae27/2147483647/resize/1160x%3E/quality/90/?url=https%3A%2F%2Fstatic.politico.com%2Fa2%2Fed%2Fcfd85646400caebb685d7bfbd82f%2Femanuel-ari-gty.jpg',\n",
       " 'https://www.politico.com/dims4/default/48b0203/2147483647/resize/1160x%3E/quality/90/?url=https%3A%2F%2Fstatic.politico.com%2Ff0%2F10%2Fc2f11dec47e1b4256d387531c050%2Fblitzer-wolf-gty.jpg',\n",
       " 'https://www.politico.com/dims4/default/5d056fe/2147483647/resize/1160x%3E/quality/90/?url=https%3A%2F%2Fstatic.politico.com%2Fce%2F4c%2F516b3e5d485896331fe91c68b4bd%2Fbrown-scott-gty.jpg',\n",
       " 'https://www.politico.com/dims4/default/e663065/2147483647/resize/1160x%3E/quality/90/?url=https%3A%2F%2Fstatic.politico.com%2Fca%2Fc1%2Fbcfb8c3048a686aa6e5b38117924%2Fburnett-erin-gty.jpg',\n",
       " 'https://www.politico.com/dims4/default/8729e26/2147483647/resize/1160x%3E/quality/90/?url=https%3A%2F%2Fstatic.politico.com%2F2b%2F1b%2Fda06e15c4770a2f7264d336cc69b%2Fchao-elaine-gty.jpg',\n",
       " 'https://www.politico.com/dims4/default/9f7891e/2147483647/resize/1160x%3E/quality/90/?url=https%3A%2F%2Fstatic.politico.com%2Fae%2F07%2F27ba3d36420dad4405cd95f44971%2Ffallin-mary-gty.jpg',\n",
       " 'https://www.politico.com/dims4/default/ea021e7/2147483647/resize/1160x%3E/quality/90/?url=https%3A%2F%2Fstatic.politico.com%2F49%2Fca%2Fb9bfe64a4db99229c17714fdb42b%2Fgingrich-newt-ap.jpg',\n",
       " 'https://www.politico.com/dims4/default/2b65889/2147483647/resize/1160x%3E/quality/90/?url=https%3A%2F%2Fstatic.politico.com%2F49%2Fbd%2F4139e6634e20a638123acc00209b%2Fking-gayle-gty.jpg',\n",
       " 'https://www.politico.com/dims4/default/c38a0c3/2147483647/resize/1160x%3E/quality/90/?url=https%3A%2F%2Fstatic.politico.com%2F34%2F8f%2Fe7e8440e4ec3995d8e1b40e6afb8%2Fperry-rick-gty.jpg',\n",
       " 'https://www.politico.com/dims4/default/d162ac3/2147483647/resize/1160x%3E/quality/90/?url=https%3A%2F%2Fstatic.politico.com%2F79%2F6b%2F7604201d497c86e3d14d483e7449%2Fstephanopoulos-george-gty.jpg',\n",
       " 'https://www.politico.com/dims4/default/516f76c/2147483647/resize/1160x%3E/quality/90/?url=https%3A%2F%2Fstatic.politico.com%2Fb9%2F6d%2Ff0126bd64a1c9510fca993a119a8%2Fcarson-ben-gty.jpg',\n",
       " 'https://www.politico.com/dims4/default/b81da8a/2147483647/resize/1160x%3E/quality/90/?url=https%3A%2F%2Fstatic.politico.com%2Fc2%2Fd5%2Fce0fa8e5459ca2116f7393a32f4c%2Fguiliani-rudy-2-gty.jpg',\n",
       " 'https://www.politico.com/dims4/default/d3c764a/2147483647/resize/1160x%3E/quality/90/?url=https%3A%2F%2Fstatic.politico.com%2F85%2Fbd%2F80d71a0c44e7983885027185ee33%2Flewandowski-gty.jpg',\n",
       " 'https://www.politico.com/dims4/default/d6df7c0/2147483647/resize/1160x%3E/quality/90/?url=https%3A%2F%2Fstatic.politico.com%2Fdc%2Ff4%2Fc5cf3bc24cbdbf64a1c9e2d3fda1%2Fverma-seema-gty.jpg',\n",
       " 'https://www.politico.com/dims4/default/021fd36/2147483647/resize/1160x%3E/quality/90/?url=https%3A%2F%2Fstatic.politico.com%2F30%2Fb1%2F4047d4ed4395aa05af5e8aad2610%2Fz-allison-john-ap.jpg',\n",
       " 'https://www.politico.com/dims4/default/700d846/2147483647/resize/1160x%3E/quality/90/?url=https%3A%2F%2Fstatic.politico.com%2F6b%2F1c%2F7bf29e4746cb8f2f14f4b9df2e42%2Fz-atkins-paul-gty.jpg',\n",
       " 'https://www.politico.com/dims4/default/2aba053/2147483647/resize/1160x%3E/quality/90/?url=https%3A%2F%2Fstatic.politico.com%2F97%2F1d%2F67ae84c5432a84786fd7cd0c8b16%2Fz-clarke-david-gty.jpg',\n",
       " 'https://www.politico.com/dims4/default/b78f71c/2147483647/resize/1160x%3E/quality/90/?url=https%3A%2F%2Fstatic.politico.com%2F9e%2Fd1%2F671735b7407587f01ddc45ed39d3%2Fz-gigicos-george-gty.jpg',\n",
       " 'https://www.politico.com/dims4/default/f76edc9/2147483647/resize/1160x%3E/quality/90/?url=https%3A%2F%2Fstatic.politico.com%2F3f%2Fe1%2Fdc3ef37548298b9850e2c2d138a7%2Fz-petraeus-david-ap.jpg',\n",
       " 'https://www.politico.com/dims4/default/3af3e38/2147483647/resize/1160x%3E/quality/90/?url=https%3A%2F%2Fstatic.politico.com%2F7f%2F38%2F255e6c8a423daa84bb692406c3c3%2Fz-pruitt-scott-gty.jpg',\n",
       " 'https://www.politico.com/dims4/default/f2ef7f3/2147483647/resize/1160x%3E/quality/90/?url=https%3A%2F%2Fstatic.politico.com%2Fcb%2F87%2F11ff429145329c7a6f8d0350bcbd%2Fz-steward-david-gty.jpg',\n",
       " 'https://www.politico.com/dims4/default/b8fa2ed/2147483647/resize/1160x%3E/quality/90/?url=https%3A%2F%2Fstatic.politico.com%2Ff6%2F59%2Fc05cdfea48e0adb3882811c6e560%2Fz-townsend-frances-gty.jpg',\n",
       " 'https://www.politico.com/dims4/default/2ed65eb/2147483647/resize/1160x%3E/quality/90/?url=https%3A%2F%2Fstatic.politico.com%2F5a%2F6d%2Fcd22e128460c8b87e39a23bfaf19%2Fz-white-kathleen-gty.jpg',\n",
       " 'https://www.politico.com/dims4/default/9486387/2147483647/resize/1160x%3E/quality/90/?url=https%3A%2F%2Fstatic.politico.com%2F1b%2F55%2F1578ac1e438699881eb4341a8d96%2Fx-corker-bob-2gty.jpg',\n",
       " 'https://www.politico.com/dims4/default/883f5d4/2147483647/resize/1160x%3E/quality/90/?url=https%3A%2F%2Fstatic.politico.com%2F27%2F4c%2F17c7891541b2bc71a1dc77e2fe99%2Fx-barletta-lou-2gty.jpg',\n",
       " 'https://www.politico.com/dims4/default/94e89ca/2147483647/resize/1160x%3E/quality/90/?url=https%3A%2F%2Fstatic.politico.com%2F9b%2F4d%2Ff4c14bff4425a380aee72d8e25bd%2Fx-blakey-marion-gty.jpg',\n",
       " 'https://www.politico.com/dims4/default/50ea021/2147483647/resize/1160x%3E/quality/90/?url=https%3A%2F%2Fstatic.politico.com%2Fc9%2Fe3%2F017b596c4ba1a9b5f6aaa9c45e2f%2Fx-cohn-gary-2gty.jpg',\n",
       " 'https://www.politico.com/dims4/default/d429c8c/2147483647/resize/1160x%3E/quality/90/?url=https%3A%2F%2Fstatic.politico.com%2Fbd%2F02%2F510cc1b5475b93c405401d036e4a%2Fx-hegseth-peter-gty.jpg',\n",
       " 'https://www.politico.com/dims4/default/fe3087c/2147483647/resize/1160x%3E/quality/90/?url=https%3A%2F%2Fstatic.politico.com%2F9b%2F2e%2Fe1c8e45b48daa722316ca6565733%2Fx-mccaul-michael-2gty.jpg',\n",
       " 'https://www.politico.com/dims4/default/8848035/2147483647/resize/1160x%3E/quality/90/?url=https%3A%2F%2Fstatic.politico.com%2F9a%2F0a%2F31d73cd74dcd8ccee41d63c659f4%2Fx-quayle-dan-gty.jpg',\n",
       " 'https://www.politico.com/dims4/default/709a93f/2147483647/resize/1160x%3E/quality/90/?url=https%3A%2F%2Fstatic.politico.com%2F8d%2F35%2Fbb642cac4e32bc20af7341681682%2Fx-romney-priebus-ap.jpg',\n",
       " 'https://www.politico.com/dims4/default/f99ad3f/2147483647/resize/1160x%3E/quality/90/?url=https%3A%2F%2Fstatic.politico.com%2F0a%2F9d%2F4d5ace0e41e7875d45fc8afcf976%2Fx-ross-wilbur-gty.jpg',\n",
       " 'https://www.politico.com/dims4/default/281d89b/2147483647/resize/1160x%3E/quality/90/?url=https%3A%2F%2Fstatic.politico.com%2Fdd%2F40%2Fc90c311a43bb93803f2585321888%2Fx-bharara-preet-gty.jpg',\n",
       " 'https://www.politico.com/dims4/default/d74d426/2147483647/resize/1160x%3E/quality/90/?url=https%3A%2F%2Fstatic.politico.com%2F80%2F1e%2F089a3fc9410bba42d9bca86a7e86%2Fx-coats-ben-ap.jpg',\n",
       " 'https://www.politico.com/dims4/default/d7913f0/2147483647/resize/1160x%3E/quality/90/?url=https%3A%2F%2Fstatic.politico.com%2F34%2F3e%2F3c9adc344cb5889dcbd4fc3f5cc0%2Fx-flynn-michael-gty.jpg',\n",
       " 'https://www.politico.com/dims4/default/c766288/2147483647/resize/1160x%3E/quality/90/?url=https%3A%2F%2Fstatic.politico.com%2F47%2F76%2F1ea7770948d3ba12ea52a6ccce94%2Fx-kelly-john-gty.jpg',\n",
       " 'https://www.politico.com/dims4/default/fd15ae3/2147483647/resize/1160x%3E/quality/90/?url=https%3A%2F%2Fstatic.politico.com%2Fa0%2F89%2Fd2bf89ee47739ebee86bb948c662%2Fx-mcmahon-linda-2gty.jpg',\n",
       " 'https://www.politico.com/dims4/default/1e18966/2147483647/resize/1160x%3E/quality/90/?url=https%3A%2F%2Fstatic.politico.com%2F43%2F05%2F26e9a4e84ec7a275bd51fafeb3d0%2Fx-mnuchin-ap.jpg',\n",
       " 'https://www.politico.com/dims4/default/33496c4/2147483647/resize/1160x%3E/quality/90/?url=https%3A%2F%2Fstatic.politico.com%2F15%2Fd4%2F317c40994b63ad859927d9027d27%2Fx-purdue-sonny-2gty.jpg',\n",
       " 'https://www.politico.com/dims4/default/705df18/2147483647/resize/1160x%3E/quality/90/?url=https%3A%2F%2Fstatic.politico.com%2F60%2F44%2Fc0e021694f9c804420a8440489ee%2Fx-washburne-ray-ap.jpg',\n",
       " 'https://www.politico.com/dims4/default/9551077/2147483647/resize/1160x%3E/quality/90/?url=https%3A%2F%2Fstatic.politico.com%2Fe5%2F0c%2Fd3a8cb554dd6ad0b195a8f1bf397%2Fz-king-larry-gty.jpg',\n",
       " 'https://www.politico.com/dims4/default/2e9d934/2147483647/resize/1160x%3E/quality/90/?url=https%3A%2F%2Fstatic.politico.com%2F2a%2F59%2F6d5637d546a690f233a6c2112668%2Fx-gates-robert-gty.jpg',\n",
       " 'https://www.politico.com/dims4/default/327c646/2147483647/resize/1160x%3E/quality/90/?url=https%3A%2F%2Fstatic.politico.com%2F9c%2F00%2Fad38db8d41b9a6a62ea0d79377aa%2Fx-cohen-jay-gty.jpg',\n",
       " 'https://www.politico.com/dims4/default/86ffe93/2147483647/resize/1160x%3E/quality/90/?url=https%3A%2F%2Fstatic.politico.com%2F87%2F7f%2F3832237a4f04ab85e500e78354a4%2Fx-purdue-david-gty.jpg',\n",
       " 'https://www.politico.com/dims4/default/164ee0c/2147483647/resize/1160x%3E/quality/90/?url=https%3A%2F%2Fstatic.politico.com%2Fb1%2Fa3%2Ffccf64834f629654e070e14e2ebb%2Fx-scaramucci-gty.jpg',\n",
       " 'https://www.politico.com/dims4/default/dea1a58/2147483647/resize/1160x%3E/quality/90/?url=https%3A%2F%2Fstatic.politico.com%2F2a%2F3d%2F49b726f846fb97464287a75ff603%2Fx-chris-christie-ap.jpg',\n",
       " 'https://www.politico.com/dims4/default/ff5ea7f/2147483647/resize/1160x%3E/quality/90/?url=https%3A%2F%2Fstatic.politico.com%2Fa9%2F57%2F1b154a294cb2a333243c394614cd%2Fx-heidi-heitkamp-gty.jpg',\n",
       " 'https://www.politico.com/dims4/default/a594227/2147483647/resize/1160x%3E/quality/90/?url=https%3A%2F%2Fstatic.politico.com%2F04%2Fb9%2F9ab3e6c346bfa9d954fb3bfbb759%2Fx-john-bolton-gty.jpg',\n",
       " 'https://www.politico.com/dims4/default/e4d4c2a/2147483647/resize/1160x%3E/quality/90/?url=https%3A%2F%2Fstatic.politico.com%2Fda%2F22%2F886bbc104a63bf8b246c1c2339f8%2Fx-pam-bondi-gty.jpg',\n",
       " 'https://www.politico.com/dims4/default/30c8158/2147483647/resize/1160x%3E/quality/90/?url=https%3A%2F%2Fstatic.politico.com%2F15%2Fb8%2F124b80db48cf88d728be62592e2c%2Fx-stephanie-winston-wolkoff-gty-1160.jpg',\n",
       " 'https://www.politico.com/dims4/default/2eff295/2147483647/resize/1160x%3E/quality/90/?url=https%3A%2F%2Fstatic.politico.com%2Fc3%2F3f%2Fdb723020463ab84b36cea15d3445%2Fz-al-gore-ap.jpg',\n",
       " 'https://www.politico.com/dims4/default/dab0e6a/2147483647/resize/1160x%3E/quality/90/?url=https%3A%2F%2Fstatic.politico.com%2Fef%2Fbe%2F4791a48e420ba152716ede8362f3%2Fz-bud-mcfarlane-gty.jpg',\n",
       " 'https://www.politico.com/dims4/default/b002585/2147483647/resize/1160x%3E/quality/90/?url=https%3A%2F%2Fstatic.politico.com%2F3b%2Ff9%2Ffb09e85f46e8a5669cd7b7e0129b%2Fz-mcfarland-flynn-ap.jpg',\n",
       " 'https://www.politico.com/dims4/default/b449b77/2147483647/resize/1160x%3E/quality/90/?url=https%3A%2F%2Fstatic.politico.com%2Fbc%2Fbe%2F17ab235e4678bbbe925c0e77edee%2Fz-flynn-allen-west-ap.jpg',\n",
       " 'https://www.politico.com/dims4/default/f7c249d/2147483647/resize/1160x%3E/quality/90/?url=https%3A%2F%2Fstatic.politico.com%2Fd2%2Fca%2F72411bfe433d83fd2f868ff5d39c%2Fz-muriel-bowser-ap.jpg',\n",
       " 'https://www.politico.com/dims4/default/9d08430/2147483647/resize/1160x%3E/quality/90/?url=https%3A%2F%2Fstatic.politico.com%2F03%2Fd7%2F1d9b6d2d44abbfe2e1497c669333%2Fz-terry-branstad-gty.jpg',\n",
       " 'https://www.politico.com/dims4/default/258f461/2147483647/resize/1160x%3E/quality/90/?url=https%3A%2F%2Fstatic.politico.com%2F13%2F85%2F93b1f8df446c919e83559010eed2%2Fz-roger-stone-gty.jpg',\n",
       " 'https://www.politico.com/dims4/default/37a4322/2147483647/resize/1160x%3E/quality/90/?url=https%3A%2F%2Fstatic.politico.com%2F9b%2F6c%2F962df49541c3866a3c0cce0b1720%2Fz-masayoshi-son-gty.jpg',\n",
       " 'https://www.politico.com/dims4/default/f5b891e/2147483647/resize/1160x%3E/quality/90/?url=https%3A%2F%2Fstatic.politico.com%2F47%2F99%2Fe84f3c4848f088a91df34f5dc8bd%2Fz-pat-mccrory-gty.jpg',\n",
       " 'https://www.politico.com/dims4/default/83678ab/2147483647/resize/1160x%3E/quality/90/?url=https%3A%2F%2Fstatic.politico.com%2F37%2F76%2F29a028fa4d52babe872023331cf9%2Fz-rahm-emmanuel-gty.jpg',\n",
       " 'https://www.politico.com/dims4/default/8b60f4e/2147483647/resize/1160x%3E/quality/90/?url=https%3A%2F%2Fstatic.politico.com%2F97%2Fb9%2F3d9e1f1a4d9a9daf5c42d675abaf%2Fz-scott-pruitt-gty.jpg',\n",
       " 'https://www.politico.com/dims4/default/4634fa4/2147483647/resize/1160x%3E/quality/90/?url=https%3A%2F%2Fstatic.politico.com%2F0d%2F40%2F898df700484fb385142fb843857c%2Fz-barry-switzer-gty.jpg',\n",
       " 'https://www.politico.com/dims4/default/c7f524d/2147483647/resize/1160x%3E/quality/90/?url=https%3A%2F%2Fstatic.politico.com%2Ff9%2Fce%2F73a151914104bfacf69ca57246e4%2Fz-alberto-gonzales-gty.jpg',\n",
       " 'https://www.politico.com/dims4/default/4143063/2147483647/resize/1160x%3E/quality/90/?url=https%3A%2F%2Fstatic.politico.com%2F21%2Fda%2Fe9afa6a54848b13a4282107463f3%2Fz-stavridis-gty.jpg',\n",
       " 'https://www.politico.com/dims4/default/9f68b88/2147483647/resize/1160x%3E/quality/90/?url=https%3A%2F%2Fstatic.politico.com%2F35%2Fcb%2F7f03cff54c8ba1c1ffbce3d83827%2Fz-paul-ryan-ap.jpg',\n",
       " 'https://www.politico.com/dims4/default/ab21479/2147483647/resize/1160x%3E/quality/90/?url=https%3A%2F%2Fstatic.politico.com%2F7a%2F89%2F9c45b20e407fb16becf604cb85d9%2Fz-shalli-kumar-gty.jpg',\n",
       " 'https://www.politico.com/dims4/default/df68f3c/2147483647/resize/1160x%3E/quality/90/?url=https%3A%2F%2Fstatic.politico.com%2F1d%2Fa4%2Fc7a4cd24464cacd44ef61563efea%2Fz-allen-west-gty.jpg',\n",
       " 'https://www.politico.com/dims4/default/8c532ef/2147483647/resize/1160x%3E/quality/90/?url=https%3A%2F%2Fstatic.politico.com%2F8c%2Ff3%2Fed60bbe7437e85191fbff3b9c860%2Fz-ben-carson-gty.jpg',\n",
       " 'https://www.politico.com/dims4/default/90042d3/2147483647/resize/1160x%3E/quality/90/?url=https%3A%2F%2Fstatic.politico.com%2F4e%2Fff%2F7b6c2a5d47b09955b39549d8b29d%2Fz-carly-fiorina-gty.jpg',\n",
       " 'https://www.politico.com/dims4/default/843981c/2147483647/resize/1160x%3E/quality/90/?url=https%3A%2F%2Fstatic.politico.com%2Fc3%2F4e%2Fbf1e49914c6a99ebc5a116200d02%2Fz-joe-manchin.jpg',\n",
       " 'https://www.politico.com/dims4/default/c31bbc0/2147483647/resize/1160x%3E/quality/90/?url=https%3A%2F%2Fstatic.politico.com%2Fe0%2F74%2F33e126924e2da8af5c93edcd8c50%2Fz-steve-scalise-gty.jpg',\n",
       " 'https://www.politico.com/dims4/default/7d9cf1f/2147483647/resize/1160x%3E/quality/90/?url=https%3A%2F%2Fstatic.politico.com%2F06%2F20%2Fe2725ffd4519a1380eae9070d7fd%2Fz-flynn-cohen-perry-gty.jpg',\n",
       " 'https://www.politico.com/dims4/default/b586937/2147483647/resize/1160x%3E/quality/90/?url=https%3A%2F%2Fstatic.politico.com%2F88%2F4d%2Fc3d48e254270b8252d7378357071%2Fz-hope-hicks-gty.jpg',\n",
       " 'https://www.politico.com/dims4/default/3f0464f/2147483647/resize/1160x%3E/quality/90/?url=https%3A%2F%2Fstatic.politico.com%2Fdb%2Fab%2F4320a407460d822a3079f198096d%2Fz-john-fleming-gty.jpg',\n",
       " 'https://www.politico.com/dims4/default/1a7871c/2147483647/resize/1160x%3E/quality/90/?url=https%3A%2F%2Fstatic.politico.com%2Fee%2Fd2%2F21485c5b4769a79a4e0dc356d673%2Fz-mcmorris-rodgers-gty.jpg',\n",
       " 'https://www.politico.com/dims4/default/06d0530/2147483647/resize/1160x%3E/quality/90/?url=https%3A%2F%2Fstatic.politico.com%2Fe0%2F73%2F268f91d34ad593fb8545008e32e6%2Fz-paul-labrador-gty.jpg',\n",
       " 'https://www.politico.com/dims4/default/2bb6fb2/2147483647/resize/1160x%3E/quality/90/?url=https%3A%2F%2Fstatic.politico.com%2Fa4%2F60%2F62f137e74c359a914cf163daab2a%2Fz-ray-washburne-gty.jpg',\n",
       " 'https://www.politico.com/dims4/default/8d2a805/2147483647/resize/1160x%3E/quality/90/?url=https%3A%2F%2Fstatic.politico.com%2F57%2F3e%2F120e49ee4395b27da598ff4dd8a3%2Fz-rick-santorum-gty.jpg',\n",
       " 'https://www.politico.com/dims4/default/c8cfca2/2147483647/resize/1160x%3E/quality/90/?url=https%3A%2F%2Fstatic.politico.com%2F5f%2Ffe%2Ff29536e742f88482a133b4d77515%2Fz-ryan-zinke-gty.jpg',\n",
       " 'https://www.politico.com/dims4/default/f56145c/2147483647/resize/1160x%3E/quality/90/?url=https%3A%2F%2Fstatic.politico.com%2Fd5%2Fcf%2F64a35f4f4495b538cba5b574fb47%2Fz-tim-scott-gty.jpg',\n",
       " 'https://www.politico.com/dims4/default/2775968/2147483647/resize/1160x%3E/quality/90/?url=https%3A%2F%2Fstatic.politico.com%2F3c%2F60%2F2908ecfe4b7c86f423e87d89eabb%2Fz-kanye-west-gty.jpg',\n",
       " 'https://www.politico.com/dims4/default/afd46cb/2147483647/resize/1160x%3E/quality/90/?url=https%3A%2F%2Fstatic.politico.com%2Fb5%2Fde%2F0154b5164eb1a7ea7f8c46cfe133%2Fz-gary-cohn-gty.jpg',\n",
       " 'https://www.politico.com/dims4/default/553276c/2147483647/resize/1160x%3E/quality/90/?url=https%3A%2F%2Fstatic.politico.com%2F35%2F8f%2F92bb1eca4a3199a782785c362ce0%2Fz-jim-brown-gty.jpg',\n",
       " 'https://www.politico.com/dims4/default/bfe0bab/2147483647/resize/1160x%3E/quality/90/?url=https%3A%2F%2Fstatic.politico.com%2Ffe%2F14%2F8440dd364a79a0e1e5f278d611b7%2Fz-klaus-schwab-gty.jpg',\n",
       " 'https://www.politico.com/dims4/default/665505c/2147483647/resize/1160x%3E/quality/90/?url=https%3A%2F%2Fstatic.politico.com%2F25%2F6a%2F695520cd49399235443f1ad48582%2Fz-ray-lewis-jim-brown-gty.jpg',\n",
       " 'https://www.politico.com/dims4/default/c8169df/2147483647/resize/1160x%3E/quality/90/?url=https%3A%2F%2Fstatic.politico.com%2F1e%2F52%2F2b8214aa4933a253c277f513cd8c%2Fz-bill-gates-gty.jpg',\n",
       " 'https://www.politico.com/dims4/default/2961582/2147483647/resize/1160x%3E/quality/90/?url=https%3A%2F%2Fstatic.politico.com%2F3a%2Fda%2Fdb93516d4ee4af7d5e4f19dec471%2Fz-bezos-gty-1160.jpg',\n",
       " 'https://www.politico.com/dims4/default/6cc017f/2147483647/resize/1160x%3E/quality/90/?url=https%3A%2F%2Fstatic.politico.com%2Fcf%2F7a%2Fa2ad03f644a8a8f67567e16c0d99%2Fz-darrell-issa-gty.jpg',\n",
       " 'https://www.politico.com/dims4/default/91ab13b/2147483647/resize/1160x%3E/quality/90/?url=https%3A%2F%2Fstatic.politico.com%2F24%2Fc9%2Fb735b8824cd58ea3ee03af6f36f6%2Fz-andrew-napoliatano-gty.jpg',\n",
       " 'https://www.politico.com/dims4/default/a733a72/2147483647/resize/1160x%3E/quality/90/?url=https%3A%2F%2Fstatic.politico.com%2F53%2Fb1%2Fb636c1cf4c9c8845f9517853f28e%2Fz-monica-crowley-gty.jpg',\n",
       " 'https://www.politico.com/dims4/default/6f65234/2147483647/resize/1160x%3E/quality/90/?url=https%3A%2F%2Fstatic.politico.com%2F12%2Fb5%2Fdd046ebb47b7bf73c96999aca1d3%2Fz-omarossa-gty.jpg',\n",
       " 'https://www.politico.com/dims4/default/97b609e/2147483647/resize/1160x%3E/quality/90/?url=https%3A%2F%2Fstatic.politico.com%2F34%2Fbd%2F8321589f420280aa650c0154bfa7%2Fz-peter-hegseth-gty.jpg',\n",
       " 'https://www.politico.com/dims4/default/cc90634/2147483647/resize/1160x%3E/quality/90/?url=https%3A%2F%2Fstatic.politico.com%2Fe2%2Fa0%2Fae0ce2a2491880ef74c41415ce10%2Fz-peter-king-gty.jpg',\n",
       " 'https://www.politico.com/dims4/default/3f4f275/2147483647/resize/1160x%3E/quality/90/?url=https%3A%2F%2Fstatic.politico.com%2Fa9%2Fdb%2F9ca3fe7046f8a3ec15696c2b4716%2Fz-heather-childers-gty.jpg',\n",
       " 'https://www.politico.com/dims4/default/d857544/2147483647/resize/1160x%3E/quality/90/?url=https%3A%2F%2Fstatic.politico.com%2F7a%2Fd4%2F6193855340268a890182f02263b0%2Fz-jeh-johnson-gty.jpg',\n",
       " 'https://www.politico.com/dims4/default/a23d7c0/2147483647/resize/1160x%3E/quality/90/?url=https%3A%2F%2Fstatic.politico.com%2Ff4%2F11%2F247d6e7c435688ae08f91a965009%2Fz-shirley-husur-gty-1160.jpg',\n",
       " 'https://www.politico.com/dims4/default/dccd8d7/2147483647/resize/1160x%3E/quality/90/?url=https%3A%2F%2Fstatic.politico.com%2Ff6%2Fab%2F283b53944077bdfa4ef5c13f9353%2Fz-stephanie-winston-wolkoff-gty.jpg',\n",
       " 'https://www.politico.com/dims4/default/b1d61d1/2147483647/resize/1160x%3E/quality/90/?url=https%3A%2F%2Fstatic.politico.com%2Ff6%2F5d%2F2a41852a43bb86732281437891f4%2Fz-toby-cosgrove-gty.jpg',\n",
       " 'https://www.politico.com/dims4/default/5c76b98/2147483647/resize/1160x%3E/quality/90/?url=https%3A%2F%2Fstatic.politico.com%2Fec%2Fb3%2Fe724a2d44dcf847716ac2bcf161d%2Fz-vincent-viola-gty.jpg',\n",
       " 'https://www.politico.com/dims4/default/5e2ad3c/2147483647/resize/1160x%3E/quality/90/?url=https%3A%2F%2Fstatic.politico.com%2Faa%2F1c%2F49fa98ab4811a9a3b8f1c8ac4a60%2Fz-marilyn-hewson-ap.jpg',\n",
       " 'https://www.politico.com/dims4/default/8393bc7/2147483647/resize/1160x%3E/quality/90/?url=https%3A%2F%2Fstatic.politico.com%2Fa0%2F87%2F2dcef37141888fbdb1aafa93d037%2Fz-dennis-muilenburg-gty.jpg',\n",
       " 'https://www.politico.com/dims4/default/99ee6bf/2147483647/resize/1160x%3E/quality/90/?url=https%3A%2F%2Fstatic.politico.com%2Fb6%2F18%2F5417877541d39920d2c9f547ce54%2Fz-carlton-everhart-ap.jpg',\n",
       " 'https://www.politico.com/dims4/default/9e2bbc7/2147483647/resize/1160x%3E/quality/90/?url=https%3A%2F%2Fstatic.politico.com%2F62%2F43%2Fa4f135844a67b07226d577712405%2Fz-abel-maldonado-gty.jpg',\n",
       " 'https://www.politico.com/dims4/default/a7e5ac7/2147483647/resize/1160x%3E/quality/90/?url=https%3A%2F%2Fstatic.politico.com%2Fd3%2Ffd%2Fdf2a1f564e2cadd19a0c03e56842%2Fz-brinkley-carson-gty.jpg',\n",
       " 'https://www.politico.com/dims4/default/d56ef5d/2147483647/resize/1160x%3E/quality/90/?url=https%3A%2F%2Fstatic.politico.com%2Fa8%2Ff7%2F868383624e189b52fb30465df03e%2Fz-don-king-gty.jpg',\n",
       " 'https://www.politico.com/dims4/default/89f8d36/2147483647/resize/1160x%3E/quality/90/?url=https%3A%2F%2Fstatic.politico.com%2F9d%2F7b%2Ff387f3f744cfb28215636d4e7eff%2Fz-david-rubenstein-gty.jpg',\n",
       " 'https://www.politico.com/dims4/default/bee2ccd/2147483647/resize/1160x%3E/quality/90/?url=https%3A%2F%2Fstatic.politico.com%2Fa0%2Fdd%2F4b7d64fc41e693e9ee6ddc731107%2Fz-elsa-morano-ap.jpg',\n",
       " 'https://www.politico.com/dims4/default/dda2354/2147483647/resize/1160x%3E/quality/90/?url=https%3A%2F%2Fstatic.politico.com%2F96%2Fcb%2F80de23b044e3bcf30f86e3fc2b9d%2Fz-howard-kessler-ap.jpg',\n",
       " 'https://www.politico.com/dims4/default/148f7fe/2147483647/resize/1160x%3E/quality/90/?url=https%3A%2F%2Fstatic.politico.com%2F24%2Fe9%2F076f802346f99d750fadb272f3e1%2Fz-ronald-lauder-ap.jpg',\n",
       " 'https://www.politico.com/dims4/default/5732553/2147483647/resize/1160x%3E/quality/90/?url=https%3A%2F%2Fstatic.politico.com%2F47%2Fb1%2F6471c8a44550bbf943d213f2e845%2Fz-rothman-noseworthy-gty.jpg',\n",
       " 'https://www.politico.com/dims4/default/253b4dd/2147483647/resize/1160x%3E/quality/90/?url=https%3A%2F%2Fstatic.politico.com%2F4e%2F39%2Fc21508e24b0e84e367b9ece0dea8%2Fz-tommy-thompson-ap.jpg',\n",
       " 'https://www.politico.com/dims4/default/4aac081/2147483647/resize/1160x%3E/quality/90/?url=https%3A%2F%2Fstatic.politico.com%2Fca%2Ff9%2F6dca442f47d083dea36cf9e5b387%2Fz-allen-hubbard-gty.jpg',\n",
       " 'https://www.politico.com/dims4/default/49b8495/2147483647/resize/1160x%3E/quality/90/?url=https%3A%2F%2Fstatic.politico.com%2F2d%2F7d%2Fa065766b4e16a6371325faee9bdc%2Fz-fabio-gty.jpg',\n",
       " 'https://www.politico.com/dims4/default/540ecb7/2147483647/resize/1160x%3E/quality/90/?url=https%3A%2F%2Fstatic.politico.com%2F13%2F87%2Fe85d616c447195c6cfa8095103d7%2Fz-harry-bonilla-gty.jpg',\n",
       " 'https://www.politico.com/dims4/default/de0e40b/2147483647/resize/1160x%3E/quality/90/?url=https%3A%2F%2Fstatic.politico.com%2F10%2F3c%2F109ab88e4d8b8c9a38f4ecdfd6a7%2Fz-howard-lober.jpg',\n",
       " 'https://www.politico.com/dims4/default/7826c2b/2147483647/resize/1160x%3E/quality/90/?url=https%3A%2F%2Fstatic.politico.com%2Fa0%2F9b%2F7ac86df4494795ed3ba3e7bf4aa8%2Fz-sid-miller-gty.jpg',\n",
       " 'https://www.politico.com/dims4/default/21bc258/2147483647/resize/1160x%3E/quality/90/?url=https%3A%2F%2Fstatic.politico.com%2F64%2F6d%2F651c00614b889b05cb19b7aef4e0%2Fz-susan-combs-ap.jpg',\n",
       " 'https://static.politico.com/e8/77/6f352ff947bbb8339b57d576a6fb/epshteyn-boris-ap.jpg']"
      ]
     },
     "execution_count": 9,
     "metadata": {},
     "output_type": "execute_result"
    }
   ],
   "source": [
    "# this article has 174 images/urls\n",
    "ids_to_urls['cf701143-3d5e-11ee-a96e-33dec8f414a2']"
   ]
  },
  {
   "cell_type": "code",
   "execution_count": 10,
   "id": "55b006fb-b6f6-41a9-8a5e-524b76ed9c40",
   "metadata": {},
   "outputs": [
    {
     "data": {
      "text/plain": [
       "0"
      ]
     },
     "execution_count": 10,
     "metadata": {},
     "output_type": "execute_result"
    }
   ],
   "source": [
    "min(num_urls)"
   ]
  },
  {
   "cell_type": "code",
   "execution_count": 11,
   "id": "6af0a729-a4db-4e6d-926b-396e888e9846",
   "metadata": {},
   "outputs": [],
   "source": [
    "imageless_articles = []\n",
    "for key in ids_to_urls:\n",
    "   if len(ids_to_urls[key]) == 0:\n",
    "       imageless_articles.append(key)\n",
    "       "
   ]
  },
  {
   "cell_type": "code",
   "execution_count": 12,
   "id": "94d51b3d-88bb-4b8d-91e8-acc7816808a8",
   "metadata": {},
   "outputs": [
    {
     "data": {
      "text/plain": [
       "10288"
      ]
     },
     "execution_count": 12,
     "metadata": {},
     "output_type": "execute_result"
    }
   ],
   "source": [
    "len(imageless_articles)"
   ]
  },
  {
   "cell_type": "code",
   "execution_count": 13,
   "id": "f5d67645-d21d-4765-ba66-a4999251a462",
   "metadata": {},
   "outputs": [
    {
     "data": {
      "text/plain": [
       "0.02005544097407686"
      ]
     },
     "execution_count": 13,
     "metadata": {},
     "output_type": "execute_result"
    }
   ],
   "source": [
    "10288/512978 # 2% of the articles don't have urls so I don't think we can identify the source "
   ]
  },
  {
   "cell_type": "code",
   "execution_count": 14,
   "id": "a1697df3-c18e-4837-942f-9240cd176b89",
   "metadata": {},
   "outputs": [],
   "source": [
    "# collect all of the articles that do have urls connected so that we can classify their sources\n",
    "ids_with_urls = {}\n",
    "for article in data:\n",
    "    if len(article['images']) > 0:\n",
    "        ids_with_urls[article['uuid']] = []\n",
    "        for image in article['images']:\n",
    "            ids_with_urls[article['uuid']].append(image['url'])"
   ]
  },
  {
   "cell_type": "code",
   "execution_count": 15,
   "id": "9e1a4b61-172a-4923-8541-41de1b426625",
   "metadata": {},
   "outputs": [
    {
     "data": {
      "text/plain": [
       "502690"
      ]
     },
     "execution_count": 15,
     "metadata": {},
     "output_type": "execute_result"
    }
   ],
   "source": [
    "len(list(ids_with_urls.keys()))"
   ]
  },
  {
   "cell_type": "code",
   "execution_count": 31,
   "id": "09886890-0893-4edf-a6db-933ee992e090",
   "metadata": {},
   "outputs": [
    {
     "name": "stdout",
     "output_type": "stream",
     "text": [
      "cdn.jns.org/uploads/2019/07/IMG_9524-e1563553070554.jpg\n",
      "images.jpost\n",
      "www.afp\n",
      "besttv232-ynet-images1-prod.cdn.it.best-tv\n",
      "d25d2506sfb94s.cloudfront.net/cumulus_uploads/inlineimage/27580/Capital%20punishment.jpg\n",
      "fred.stlouisfed.org/graph/fredgraph.png?g=wO0y\n",
      "besttv232-ynet-images1-prod.cdn.it.best-tv\n",
      "assets.publishing.service.gov.uk/government/uploads/system/uploads/image_data/file/136106/immigration-quarterly-sep21-24.png\n",
      "www.telegraph.co.uk/content/dam/politics/2022/06/30/TELEMMGLPICT000301379208_trans_NvBQzQNjv4BqGhFGD3OcMvc3EVqNhTDH_xfl2tm3vdajR31FVxnIwus.jpeg?imwidth=480\n",
      "ipn.gov.pl/dokumenty/zalaczniki/2/2-47836.jpg\n"
     ]
    }
   ],
   "source": [
    "from time import sleep\n",
    "# getting a sense of the url formats so we can clean them up\n",
    "count_articles = 0 \n",
    "ids_and_sources = {}\n",
    "count_bad_urls = 0\n",
    "source_options = {'breitbart': 0, 'wp': 0, 'thehill': 0, 'fox': 0, 'dailycaller': 0, \n",
    "                  'cnn': 0, 'bbc': 0, 'politico': 0, 'washtimes': 0, 'npr': 0, \n",
    "                  'us-east-1.prod.boltdns': 0, 'apnews': 0, 'timesofisrael': 0}\n",
    "for key in ids_with_urls:\n",
    "    first_source = ids_with_urls[key][0]\n",
    "    if \"://\" not in first_source:\n",
    "        count_bad_urls += 1\n",
    "    else:\n",
    "        count_articles += 1\n",
    "        source = first_source.split(\".com\")[0].split(\"://\")[1]\n",
    "        found = False\n",
    "        for opt in source_options.keys():\n",
    "            if opt in source:\n",
    "                ids_and_sources[key] = opt\n",
    "                source_options[opt] +=1\n",
    "                found = True\n",
    "                break\n",
    "        if not found:\n",
    "            print(source)\n",
    "        "
   ]
  },
  {
   "cell_type": "code",
   "execution_count": 52,
   "id": "107325fb-9a2d-4a7f-8874-21fe78ccf575",
   "metadata": {},
   "outputs": [
    {
     "data": {
      "text/plain": [
       "488016"
      ]
     },
     "execution_count": 52,
     "metadata": {},
     "output_type": "execute_result"
    }
   ],
   "source": [
    "# count of articles that we can deduce a source from\n",
    "count_articles"
   ]
  },
  {
   "cell_type": "code",
   "execution_count": 33,
   "id": "de23aa14-1fed-4178-8fcc-86963cc20079",
   "metadata": {},
   "outputs": [
    {
     "data": {
      "text/plain": [
       "14674"
      ]
     },
     "execution_count": 33,
     "metadata": {},
     "output_type": "execute_result"
    }
   ],
   "source": [
    "count_bad_urls # number of urls with unuseful format, cant use to deduce media source"
   ]
  },
  {
   "cell_type": "code",
   "execution_count": 34,
   "id": "e5377084-9a99-4516-9d34-c231052ab89e",
   "metadata": {},
   "outputs": [
    {
     "name": "stdout",
     "output_type": "stream",
     "text": [
      "{'breitbart': 73048, 'wp': 19, 'thehill': 9, 'fox': 32041, 'dailycaller': 65956, 'cnn': 47373, 'bbc': 332, 'politico': 149212, 'washtimes': 57591, 'npr': 52776, 'us-east-1.prod.boltdns': 8501, 'apnews': 1145, 'timesofisrael': 3}\n"
     ]
    }
   ],
   "source": [
    "print(source_options)"
   ]
  },
  {
   "cell_type": "code",
   "execution_count": 24,
   "id": "2ea773e7-fabb-4169-a358-e1e9761a90a8",
   "metadata": {},
   "outputs": [],
   "source": [
    "import matplotlib.pyplot as plt"
   ]
  },
  {
   "cell_type": "code",
   "execution_count": 28,
   "id": "e6c4b901-f2f8-45fc-aafe-6e70c4b4ef0e",
   "metadata": {},
   "outputs": [
    {
     "data": {
      "image/png": "[encoded data removed]",
      "text/plain": [
       "<Figure size 1000x600 with 1 Axes>"
      ]
     },
     "metadata": {},
     "output_type": "display_data"
    }
   ],
   "source": [
    "# Extract values and labels\n",
    "values = list(source_options.values())\n",
    "labels = list(source_options.keys())\n",
    "\n",
    "# Plotting\n",
    "plt.figure(figsize=(10, 6))\n",
    "plt.bar(labels, values, color='skyblue')\n",
    "plt.xlabel('News Sources')\n",
    "plt.ylabel('Number of Articles')\n",
    "plt.title('Number of Articles per News Source')\n",
    "plt.xticks(rotation=90)  # Rotate x-axis labels for better readability\n",
    "plt.tight_layout()  # Adjust layout to prevent clipping of labels\n",
    "plt.show()"
   ]
  },
  {
   "cell_type": "code",
   "execution_count": null,
   "id": "95e7ea57-7cbe-4d83-96bb-1893b0628bbd",
   "metadata": {},
   "outputs": [],
   "source": [
    "# next gete average length of text"
   ]
  }
 ],
 "metadata": {
  "kernelspec": {
   "display_name": "Python 3 (ipykernel)",
   "language": "python",
   "name": "python3"
  },
  "language_info": {
   "codemirror_mode": {
    "name": "ipython",
    "version": 3
   },
   "file_extension": ".py",
   "mimetype": "text/x-python",
   "name": "python",
   "nbconvert_exporter": "python",
   "pygments_lexer": "ipython3",
   "version": "3.10.13"
  }
 },
 "nbformat": 4,
 "nbformat_minor": 5
}
