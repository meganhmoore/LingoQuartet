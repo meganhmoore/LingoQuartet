{
 "cells": [
  {
   "cell_type": "markdown",
   "id": "cDSZxqrvMaj2",
   "metadata": {
    "id": "cDSZxqrvMaj2"
   },
   "source": [
    "### This was run on colab"
   ]
  },
  {
   "cell_type": "code",
   "execution_count": 1,
   "id": "e2ecee81-4f15-4ca3-a948-e03d33591176",
   "metadata": {
    "id": "e2ecee81-4f15-4ca3-a948-e03d33591176"
   },
   "outputs": [],
   "source": [
    "from google.colab import drive\n",
    "import pandas as pd\n",
    "import torch"
   ]
  },
  {
   "cell_type": "code",
   "execution_count": 2,
   "id": "cf1731e5-e06c-4acc-bb70-28ed13a63788",
   "metadata": {
    "id": "cf1731e5-e06c-4acc-bb70-28ed13a63788"
   },
   "outputs": [],
   "source": [
    "from transformers import BertTokenizer, BertModel #kills kernel if run with others"
   ]
  },
  {
   "cell_type": "code",
   "execution_count": 3,
   "id": "gg2nu9viGVwt",
   "metadata": {
    "colab": {
     "base_uri": "https://localhost:8080/"
    },
    "id": "gg2nu9viGVwt",
    "outputId": "071f02d6-1f16-49d2-c9cb-c0f0090f18ff"
   },
   "outputs": [
    {
     "name": "stdout",
     "output_type": "stream",
     "text": [
      "Mounted at /content/gdrive\n"
     ]
    }
   ],
   "source": [
    "# Mount Google Drive\n",
    "drive.mount('/content/gdrive')\n",
    "\n",
    "# Define the file path to the just cleaned df\n",
    "# (I also put them here: https://drive.google.com/drive/folders/1lXVVxWaR-fJ4htHx8J5C2HtoPSiTM_BX if you want to bind there)\n",
    "path = \"/content/gdrive/MyDrive/AdvancedML/final_project_data/metadata_w_2020articles_cleaned.csv\"\n",
    "\n",
    "df = pd.read_csv(path,  index_col=0)\n",
    "\n",
    "# TODO: also load the lemmatized data and see how that"
   ]
  },
  {
   "cell_type": "code",
   "execution_count": null,
   "id": "Ll-XOEyifG9z",
   "metadata": {
    "id": "Ll-XOEyifG9z"
   },
   "outputs": [],
   "source": [
    "device = torch.device('cuda') if torch.cuda.is_available() else torch.device('cpu')"
   ]
  },
  {
   "cell_type": "code",
   "execution_count": null,
   "id": "DeyzfUDTKHrU",
   "metadata": {
    "colab": {
     "base_uri": "https://localhost:8080/",
     "height": 89
    },
    "id": "DeyzfUDTKHrU",
    "outputId": "f728655c-50d9-4aa5-eb6d-2c9818478019"
   },
   "outputs": [
    {
     "data": {
      "application/vnd.google.colaboratory.intrinsic+json": {
       "type": "string"
      },
      "text/plain": [
       "'trump shifts tone, says he’s ‘proud’ of fed amid coronavirus turmoil president trump on monday said he was “proud” of federal reserve chairman jerome powell’s handling of the economic turmoil brought on by the coronavirus pandemic, backing down from more than a year of criticizing his hand-picked fed chief and threatening his job security.trump praised powell during a monday evening briefing at the white house after the fed that morning drastically expanded its efforts to protect the u.s. economy and financ'"
      ]
     },
     "execution_count": 21,
     "metadata": {},
     "output_type": "execute_result"
    }
   ],
   "source": [
    "test_article = df.loc[df.loc[:, 'uuid'] == 'bcbc6bb2-406e-11ee-a96e-33dec8f414a2', :]\n",
    "test_text = test_article['title_text'][0]\n",
    "test_text"
   ]
  },
  {
   "cell_type": "code",
   "execution_count": null,
   "id": "AHstG1BhI_ix",
   "metadata": {
    "id": "AHstG1BhI_ix"
   },
   "outputs": [],
   "source": [
    "# Load the pre-trained BERT tokenizer\n",
    "tokenizer = BertTokenizer.from_pretrained('bert-base-uncased')"
   ]
  },
  {
   "cell_type": "code",
   "execution_count": null,
   "id": "UIIUg4WAKFJI",
   "metadata": {
    "colab": {
     "base_uri": "https://localhost:8080/"
    },
    "id": "UIIUg4WAKFJI",
    "outputId": "b5b7a517-12b3-4b6d-a104-f93dc624ca2a"
   },
   "outputs": [
    {
     "name": "stdout",
     "output_type": "stream",
     "text": [
      "Original Text: trump shifts tone, says he’s ‘proud’ of fed amid coronavirus turmoil president trump on monday said he was “proud” of federal reserve chairman jerome powell’s handling of the economic turmoil brought on by the coronavirus pandemic, backing down from more than a year of criticizing his hand-picked fed chief and threatening his job security.trump praised powell during a monday evening briefing at the white house after the fed that morning drastically expanded its efforts to protect the u.s. economy and financ\n",
      "Tokenized Text: {'input_ids': tensor([[  101,  8398, 12363,  4309,  1010,  2758,  2002,  1521,  1055,  1520,\n",
      "          7098,  1521,  1997,  7349, 13463, 21887, 23350, 17930,  2343,  8398,\n",
      "          2006,  6928,  2056,  2002,  2001,  1523,  7098,  1524,  1997,  2976,\n",
      "          3914,  3472, 11120,  8997,  1521,  1055,  8304,  1997,  1996,  3171,\n",
      "         17930,  2716,  2006,  2011,  1996, 21887, 23350,  6090,  3207,  7712,\n",
      "          1010,  5150,  2091,  2013,  2062,  2084,  1037,  2095,  1997, 21289,\n",
      "          2010,  2192,  1011,  3856,  7349,  2708,  1998,  8701,  2010,  3105,\n",
      "          3036,  1012,  8398,  5868,  8997,  2076,  1037,  6928,  3944, 27918,\n",
      "          2012,  1996,  2317,  2160,  2044,  1996,  7349,  2008,  2851, 21040,\n",
      "          4423,  2049,  4073,  2000,  4047,  1996,  1057,  1012,  1055,  1012,\n",
      "          4610,  1998, 10346,  2319,  2278,   102]]), 'token_type_ids': tensor([[0, 0, 0, 0, 0, 0, 0, 0, 0, 0, 0, 0, 0, 0, 0, 0, 0, 0, 0, 0, 0, 0, 0, 0,\n",
      "         0, 0, 0, 0, 0, 0, 0, 0, 0, 0, 0, 0, 0, 0, 0, 0, 0, 0, 0, 0, 0, 0, 0, 0,\n",
      "         0, 0, 0, 0, 0, 0, 0, 0, 0, 0, 0, 0, 0, 0, 0, 0, 0, 0, 0, 0, 0, 0, 0, 0,\n",
      "         0, 0, 0, 0, 0, 0, 0, 0, 0, 0, 0, 0, 0, 0, 0, 0, 0, 0, 0, 0, 0, 0, 0, 0,\n",
      "         0, 0, 0, 0, 0, 0, 0, 0, 0, 0]]), 'attention_mask': tensor([[1, 1, 1, 1, 1, 1, 1, 1, 1, 1, 1, 1, 1, 1, 1, 1, 1, 1, 1, 1, 1, 1, 1, 1,\n",
      "         1, 1, 1, 1, 1, 1, 1, 1, 1, 1, 1, 1, 1, 1, 1, 1, 1, 1, 1, 1, 1, 1, 1, 1,\n",
      "         1, 1, 1, 1, 1, 1, 1, 1, 1, 1, 1, 1, 1, 1, 1, 1, 1, 1, 1, 1, 1, 1, 1, 1,\n",
      "         1, 1, 1, 1, 1, 1, 1, 1, 1, 1, 1, 1, 1, 1, 1, 1, 1, 1, 1, 1, 1, 1, 1, 1,\n",
      "         1, 1, 1, 1, 1, 1, 1, 1, 1, 1]])}\n"
     ]
    }
   ],
   "source": [
    "encoding = tokenizer.encode_plus(test_text, add_special_tokens = True,\n",
    "                                 truncation = True, return_tensors = \"pt\")\n",
    "\n",
    "# Print the tokens\n",
    "print(\"Original Text:\", test_text)\n",
    "print(\"Tokenized Text:\", encoding)"
   ]
  },
  {
   "cell_type": "code",
   "execution_count": null,
   "id": "5ZMuB5saM1ee",
   "metadata": {
    "id": "5ZMuB5saM1ee"
   },
   "outputs": [],
   "source": [
    "model = BertModel.from_pretrained('bert-base-uncased')\n",
    "model.to(device)\n",
    "\n",
    "def get_cls_sentence(sentence):\n",
    "    # Tokenize input sentence and convert to tensor\n",
    "    input_ids = torch.tensor([tokenizer.encode(sentence, add_special_tokens=True, max_length=512)]).to(device)\n",
    "\n",
    "    # Pass input through BERT model and extract embeddings for [CLS] token\n",
    "    with torch.no_grad():\n",
    "        outputs = model(input_ids)\n",
    "        cls_embedding = outputs[0][:, 0, :]\n",
    "\n",
    "    return cls_embedding.flatten()"
   ]
  },
  {
   "cell_type": "code",
   "execution_count": null,
   "id": "mdWi2tH-NPvd",
   "metadata": {
    "colab": {
     "base_uri": "https://localhost:8080/"
    },
    "id": "mdWi2tH-NPvd",
    "outputId": "d1695dd2-63dc-4847-85ef-3443536b2451"
   },
   "outputs": [
    {
     "name": "stderr",
     "output_type": "stream",
     "text": [
      "Truncation was not explicitly activated but `max_length` is provided a specific value, please use `truncation=True` to explicitly truncate examples to max length. Defaulting to 'longest_first' truncation strategy. If you encode pairs of sequences (GLUE-style) with the tokenizer you can select this strategy more precisely by providing a specific strategy to `truncation`.\n",
      "<ipython-input-25-8f1bea275e8b>:1: SettingWithCopyWarning: \n",
      "A value is trying to be set on a copy of a slice from a DataFrame.\n",
      "Try using .loc[row_indexer,col_indexer] = value instead\n",
      "\n",
      "See the caveats in the documentation: https://pandas.pydata.org/pandas-docs/stable/user_guide/indexing.html#returning-a-view-versus-a-copy\n",
      "  test_article['bert_sent_embedding'] = test_article['title_text'].apply(lambda sentence: get_cls_sentence(sentence))\n"
     ]
    }
   ],
   "source": [
    "test_article['bert_sent_embedding'] = test_article['title_text'].apply(lambda sentence: get_cls_sentence(sentence))"
   ]
  },
  {
   "cell_type": "code",
   "execution_count": null,
   "id": "MzbcgHfJNmUH",
   "metadata": {
    "id": "MzbcgHfJNmUH"
   },
   "outputs": [],
   "source": [
    "# starting with title only embeddings\n",
    "df['bert_sentence_embedding_title_only'] = df['title'].apply(lambda sentence: get_cls_sentence(sentence))"
   ]
  },
  {
   "cell_type": "code",
   "execution_count": null,
   "id": "Qjp-sFx2jTSi",
   "metadata": {
    "colab": {
     "base_uri": "https://localhost:8080/",
     "height": 182
    },
    "id": "Qjp-sFx2jTSi",
    "outputId": "d9d0304f-34a2-4885-9692-3ff7e9530b80"
   },
   "outputs": [
    {
     "data": {
      "application/vnd.google.colaboratory.intrinsic+json": {
       "summary": "{\n  \"name\": \"df\",\n  \"rows\": 37044,\n  \"fields\": [\n    {\n      \"column\": \"uuid\",\n      \"properties\": {\n        \"dtype\": \"string\",\n        \"num_unique_values\": 37044,\n        \"samples\": [\n          \"2d900fa8-406a-11ee-a96e-33dec8f414a2\",\n          \"b09ff9e1-411f-11ee-a96e-33dec8f414a2\",\n          \"7449c9e5-406d-11ee-a96e-33dec8f414a2\"\n        ],\n        \"semantic_type\": \"\",\n        \"description\": \"\"\n      }\n    },\n    {\n      \"column\": \"source\",\n      \"properties\": {\n        \"dtype\": \"category\",\n        \"num_unique_values\": 8,\n        \"samples\": [\n          \"thehill\",\n          \"washtimes\",\n          \"wp\"\n        ],\n        \"semantic_type\": \"\",\n        \"description\": \"\"\n      }\n    },\n    {\n      \"column\": \"year\",\n      \"properties\": {\n        \"dtype\": \"number\",\n        \"std\": 0,\n        \"min\": 2020,\n        \"max\": 2020,\n        \"num_unique_values\": 1,\n        \"samples\": [\n          2020\n        ],\n        \"semantic_type\": \"\",\n        \"description\": \"\"\n      }\n    },\n    {\n      \"column\": \"article_text\",\n      \"properties\": {\n        \"dtype\": \"string\",\n        \"num_unique_values\": 36379,\n        \"samples\": [\n          \"on monday\\u2019s \\u201cmsnbc live,\\u201d michigan gov. gretchen whitmer (d) stated that her state is reopening \\u201cincrementally\\u201d with the hope \\u201cthat people know that we still have to live with the coronavirus, that we need to wear our masks. we cannot just drop our guard.\\u201d she also defended her attendance at a recent protest by stating that she wore a mask and didn\\u2019t hug, high-five, or shake hands with anyone, and \\u201cour right to demonstrate, this first amendment right is something that, in this moment, i thought it was impor\"\n        ],\n        \"semantic_type\": \"\",\n        \"description\": \"\"\n      }\n    },\n    {\n      \"column\": \"title\",\n      \"properties\": {\n        \"dtype\": \"string\",\n        \"num_unique_values\": 36474,\n        \"samples\": [\n          \"2021 cpac to be held in person in florida\"\n        ],\n        \"semantic_type\": \"\",\n        \"description\": \"\"\n      }\n    },\n    {\n      \"column\": \"title_text\",\n      \"properties\": {\n        \"dtype\": \"string\",\n        \"num_unique_values\": 36519,\n        \"samples\": [\n          \"trump jr. calls out desantis-cuomo double standard \\u2014 \\u2018cuomo gets emmys for sending your grandmother to her nursing home to her death\\u2019 thursday on fnc\\u2019s \\u201channity,\\u201d donald trump, jr., son of former president donald trump, decried the double standard applied to govs. andrew cuomo (d-ny) and ron desantis (r-fl) regarding their respective states\\u2019 handling of covid-19.as the younger trump noted, desantis has taken criticism from the media for a more hands-off approach, while cuomo\\u2019s has been aggressive in using g\"\n        ],\n        \"semantic_type\": \"\",\n        \"description\": \"\"\n      }\n    },\n    {\n      \"column\": \"bert_sentence_embedding_title_only\",\n      \"properties\": {\n        \"dtype\": \"string\",\n        \"num_unique_values\": 37044,\n        \"samples\": [\n          \"tensor([-1.0832e+00, -1.0877e-01, -2.4009e-01, -5.2913e-02, -3.5097e-01,\\n         2.8311e-01,  3.1425e-01,  5.9984e-01, -3.3269e-01,  1.3150e-01,\\n         7.3805e-02, -2.9410e-01, -3.5716e-01,  1.0528e+00, -1.3574e-01,\\n        -3.5401e-01, -1.7427e-01,  6.0351e-01,  4.2222e-02, -9.2111e-03,\\n        -1.8397e-01, -5.5953e-01,  3.1500e-01, -1.6200e-01,  2.0704e-01,\\n        -4.7243e-01, -2.6934e-01, -2.9417e-01, -1.1412e-01, -2.2295e-02,\\n         2.8252e-02,  1.9400e-01, -4.7481e-01, -4.9847e-01,  8.4998e-01,\\n        -6.2450e-01,  4.9790e-01,  9.6247e-03, -1.3500e-01,  7.2320e-01,\\n        -5.5018e-01, -2.3215e-01,  4.0594e-01,  1.1943e-01,  1.3464e-01,\\n        -6.1651e-01, -2.7096e+00, -1.6201e-01, -5.8580e-01,  2.5677e-01,\\n         2.1711e-01, -9.5328e-02,  1.6842e-01,  3.2430e-01, -4.0092e-01,\\n         5.9961e-01,  2.5842e-01, -4.9447e-01,  2.4568e-01,  3.5587e-01,\\n         1.4694e-02, -1.9163e-01, -5.1562e-01, -5.4921e-01, -3.7182e-01,\\n        -7.8725e-02, -2.7191e-01,  1.1637e+00, -9.1632e-01, -1.9286e-01,\\n        -5.8724e-01,  6.6779e-03,  4.8540e-01, -7.1842e-02,  6.1706e-02,\\n         1.9008e-01, -1.6797e-01,  7.9680e-01, -4.4288e-01, -1.0787e+00,\\n        -2.9480e-01,  8.1606e-01,  9.9871e-02, -3.0064e-01,  9.1096e-02,\\n         4.2011e-01, -5.2185e-02, -7.3328e-01, -1.9899e-01,  5.1850e-01,\\n        -3.5531e-03,  4.7238e-01,  4.5784e-01,  4.3524e-01, -3.4716e-01,\\n        -1.0055e-01, -1.2735e-01, -4.2067e-01, -3.9631e-01,  4.6532e-01,\\n         5.9783e-01,  8.5945e-02,  5.7833e-01, -2.6647e-01,  6.7169e-01,\\n        -3.5353e-01, -3.7667e-02, -6.2837e-02, -1.0881e-01, -1.9041e+00,\\n         3.9520e-01, -8.3621e-02,  5.4065e-01, -3.6224e-01, -4.6760e-01,\\n         8.1006e-01,  2.0334e-01, -9.6742e-01,  4.3924e-03, -3.4680e-01,\\n         3.2331e-01, -7.0191e-02, -6.5816e-01,  6.8550e-01,  1.9171e-01,\\n        -2.0005e-01, -5.5339e-01,  2.9082e-01,  8.7948e-01,  4.4852e-01,\\n         6.7451e-04,  8.3133e-01, -1.6733e-01, -1.7028e+00, -6.5561e-01,\\n         8.2969e-01,  7.4209e-01,  1.1662e-01,  5.1195e-01, -8.3355e-03,\\n        -9.4002e-01, -7.9318e-01, -1.5899e+00, -7.3325e-02,  1.7325e+00,\\n         4.2293e-01, -1.8728e-01, -1.1897e-01,  6.8836e-01,  6.8479e-03,\\n        -5.8781e-01,  2.1805e-01, -2.7474e-01,  1.9579e-02,  7.1175e-02,\\n        -1.3068e-01,  3.2597e-02, -4.4231e-01,  9.2789e-01,  3.3982e-01,\\n         9.8569e-01, -7.6404e-02, -1.6019e-01, -1.1361e-01, -6.0988e-01,\\n         2.5985e-01, -5.0706e-02,  7.1567e-01,  2.2480e-01,  2.0551e-01,\\n         7.7652e-02,  1.0622e-01,  9.6860e-01, -4.1211e-01,  1.2221e+00,\\n        -1.6928e-01,  3.1332e-01,  2.0737e-01,  3.7318e-01,  4.3995e-01,\\n        -7.0858e-01, -1.3334e-01,  4.2066e-01,  6.9546e-01,  7.3009e-02,\\n        -6.9732e-01,  3.8633e-01, -5.5096e-01,  5.1337e-01, -3.6831e-02,\\n        -1.9432e-01, -5.1548e-01,  1.0999e-01,  6.9981e-01,  5.1994e-01,\\n        -1.2174e-01,  9.4827e-01, -9.0179e-01,  8.9577e-01,  3.1188e-01,\\n        -2.3558e-01,  1.6865e-01, -1.3905e-01,  7.4026e-01, -5.5142e-01,\\n         2.8392e+00, -1.8535e-01,  1.4226e-01, -3.8886e-01,  3.4512e-01,\\n         2.0629e-01,  2.9176e-01, -2.9035e-01, -7.1409e-01, -3.4515e-01,\\n        -1.0527e-01,  5.3469e-01, -3.9749e-01, -7.7840e-01, -1.6369e-01,\\n        -2.2696e-01,  7.9133e-01, -3.0076e-02,  3.5579e-01,  1.2304e-01,\\n         7.8602e-01, -8.3445e-01,  3.2800e-01, -5.5932e-01, -8.8820e-01,\\n         2.6978e-01, -3.2227e-01, -3.7806e-01, -2.6136e-01, -1.3556e+00,\\n         5.2099e-02, -7.1086e-01, -7.3339e-01,  3.6171e-01, -6.0337e-01,\\n        -5.8140e-01,  3.0497e-01,  5.9847e-01, -1.8068e-01, -1.5626e-01,\\n        -2.9098e-01,  6.3655e-01, -2.3034e-01,  4.2428e-01,  3.3229e-01,\\n         5.7570e-01, -5.4298e-01, -4.8380e-02, -7.2408e-01, -1.1821e-01,\\n        -3.2822e-01,  1.0217e+00,  3.2152e-01, -3.9618e-01, -4.4666e-01,\\n        -1.5963e-01,  1.6419e-01,  6.4529e-01,  2.6308e-01, -3.4069e-01,\\n        -6.4401e-01, -1.5692e-01, -5.1724e-01, -1.8300e-01, -3.0471e-01,\\n         1.1798e-01, -4.4979e-01, -2.7213e-01, -1.3725e+00,  2.0094e-01,\\n        -7.2322e-03,  8.1072e-01,  4.1657e-01, -8.1260e-01, -5.8468e-01,\\n         7.1109e-01,  5.0677e-01, -7.3865e-01,  4.5610e-01,  9.4164e-02,\\n         1.3879e-01, -4.6959e-01, -3.2481e-01,  6.1025e-04, -2.5294e-01,\\n        -8.6270e-01,  6.9589e-02,  6.1979e-01,  6.5974e-01, -5.3366e-01,\\n        -1.0279e-02,  5.2026e-01,  4.6136e-02,  1.4057e-01, -6.6303e-01,\\n        -5.1316e-01,  2.5372e-02, -5.6321e-01,  2.8584e-01, -7.1030e-01,\\n         1.8718e-01,  1.9557e-01, -6.4927e-01, -2.9288e+00,  6.6035e-01,\\n        -2.8033e-01, -6.8024e-01,  4.7042e-01, -8.5158e-02,  6.1892e-01,\\n        -1.3465e-01, -8.9132e-01, -1.1308e-01,  1.6384e-01, -2.9305e-01,\\n         7.0618e-01,  8.4418e-02,  1.1806e-01,  6.6542e-01,  3.6720e-01,\\n        -4.9921e-01,  1.0717e+00,  5.2745e-01, -2.8715e-01, -5.0773e-01,\\n        -2.8236e-02, -3.4292e-01,  6.6162e-01,  2.0104e-01, -9.6844e-01,\\n        -1.9922e-01, -2.4584e-01,  3.5350e-01,  2.9212e-01,  2.2703e-03,\\n         4.5334e-01,  1.1065e-01, -9.0628e-01, -4.2679e-01,  8.4551e-01,\\n         1.4157e-02,  5.0615e-01,  4.4628e-01, -5.0196e-02,  6.6644e-01,\\n        -1.6209e-01,  1.1538e+00,  1.5706e+00,  4.8452e-01, -1.1125e-01,\\n        -5.8926e-01,  1.0033e-01,  7.7712e-02,  3.3548e-02,  2.0598e-02,\\n         8.5381e-01,  5.5462e-01, -3.0444e-02, -9.2676e-02,  3.9852e-01,\\n        -1.1599e-01, -1.1418e+00, -5.8574e-01,  1.2042e+00, -4.5223e-01,\\n         1.1236e-01,  5.8661e-01,  6.3440e-01, -1.2570e+00,  4.5554e-01,\\n        -5.2903e-01,  2.8105e-01, -6.8970e-02, -1.7222e-01,  9.6718e-01,\\n        -5.4279e-01, -1.5633e+00,  3.3889e-01, -5.5044e-01, -3.9014e-01,\\n        -1.0284e-01,  7.0470e-01, -3.2466e-01, -5.2869e-01,  2.3727e-01,\\n        -1.3323e+00,  5.1193e-02,  3.4327e-01, -6.6991e-01,  4.5409e-01,\\n        -2.7976e-01, -9.1484e-01, -1.4669e-01, -3.7732e-01,  4.2366e-01,\\n         9.6382e-01,  2.0757e-01, -3.5991e-01,  1.3621e-01,  5.3268e-01,\\n        -1.2894e-01,  4.3324e-01,  3.7906e-01, -8.5188e-02, -8.4380e-01,\\n        -6.6085e-01, -6.7970e-01, -1.6409e-01, -7.2441e-01, -1.9024e-01,\\n         7.6219e-01, -3.4664e-01, -3.4183e-01, -4.7505e-01, -6.8002e-01,\\n         1.6715e-01,  5.0315e-01,  2.9783e-01,  1.0235e-01,  1.8828e-01,\\n         1.6326e+00,  5.7770e-01,  3.1259e-01,  4.1277e-01,  2.6024e-01,\\n         4.0946e-02, -4.5484e-01, -1.2135e-01,  9.2819e-02, -1.0540e-01,\\n         1.0243e-02, -4.9787e-01,  6.1015e-03, -1.3541e-01, -3.2992e-01,\\n        -1.4472e-01, -5.8286e-01,  3.8914e-01, -3.1768e-01,  4.5821e-01,\\n         4.1338e-01,  1.5490e-01, -1.3091e-01, -2.6159e-01, -5.6830e-01,\\n        -2.4683e-01,  4.0694e-01, -2.2496e-02,  1.3381e+00, -1.9732e-01,\\n         3.6665e-01, -4.7068e-01,  1.1150e+00, -5.4727e-01,  3.5588e-01,\\n        -2.4916e-01, -5.3162e-03,  1.3217e-01, -4.3897e-01, -2.2960e-01,\\n        -3.4521e-01, -2.4238e-01, -4.5639e-01, -1.0356e-01,  3.6059e-01,\\n        -1.9627e+00,  2.7266e-01,  1.7908e-01, -3.8786e-01,  5.1288e-01,\\n        -3.8107e-01, -1.1835e+00,  9.1626e-01, -1.7683e-01,  6.2332e-01,\\n         2.6788e-02, -3.4988e-01,  6.6892e-02, -2.0987e-01,  2.1051e-01,\\n        -1.4274e-01, -5.0381e-02,  2.5373e-01, -5.6055e-01,  1.4199e-01,\\n        -6.4389e-01,  3.0521e-01,  6.4498e-01, -1.7657e-01,  2.2954e-03,\\n         6.9279e-02,  2.1817e-01,  1.9784e-02, -3.0427e-02, -5.0729e-02,\\n        -4.7766e-01, -3.1700e-01, -8.0194e-01, -3.1783e-01,  4.4977e-01,\\n         1.0547e+00,  3.5736e-01,  1.8994e-01,  9.9683e-01,  3.9591e-01,\\n         2.4065e-02,  3.8305e-01,  2.0866e-01,  2.2846e-01,  2.5617e-01,\\n         3.6545e-01, -5.7853e-02,  4.8985e-01,  3.5545e-01, -2.6742e-01,\\n        -5.7252e-01, -3.3399e-01,  3.5102e-01,  3.3584e-01,  6.9205e-01,\\n        -9.4260e-01, -2.0235e-01,  6.5742e-01, -9.8962e-01, -2.2828e-01,\\n         2.3719e-01, -6.1974e-01, -3.7267e-01,  1.4855e-01, -8.9640e-01,\\n        -3.4662e-01,  1.5253e-01, -9.2184e-01, -3.6627e-01,  3.7935e-01,\\n         6.5275e-01,  1.6040e-01, -2.2460e-01,  1.2767e+00, -6.4984e-01,\\n         6.8785e-02,  2.4559e-01,  3.6352e-02,  1.8913e-01, -6.2585e-01,\\n        -8.5330e-02, -2.5340e-01, -8.5509e-02,  1.1880e+00,  7.9650e-02,\\n         1.0362e+00,  1.3861e-01,  2.1078e-02, -1.7764e-01,  4.4943e-01,\\n        -6.8446e-01, -2.8676e-01,  7.4409e-02,  9.0014e-02, -4.5004e-01,\\n        -1.1004e+00, -2.3907e-01, -6.4868e-01,  3.1708e-03,  5.2559e-01,\\n        -3.7436e-02,  5.5313e-01,  8.6429e-01, -2.8467e-01, -2.3559e-01,\\n         1.0568e+00,  6.4087e-01,  7.3446e-01, -4.7040e-01, -3.5010e-01,\\n        -4.2744e-01, -2.0041e-01, -7.3147e-01, -1.4469e-01,  2.3494e-01,\\n        -4.6764e-01, -2.3699e-01, -5.3513e-01,  9.5447e-01,  6.3902e-01,\\n         1.0724e-01, -6.3188e-01,  9.0600e-01, -3.3074e-01,  2.6094e-02,\\n         5.5720e-01, -4.7663e-01,  2.6756e-01,  2.1568e-01, -1.3140e-01,\\n         1.0737e-01,  9.3332e-01,  4.8835e-01,  9.3278e-01,  1.2547e-01,\\n        -4.8125e-01, -6.9360e-01,  3.8044e-01, -1.3270e+00,  7.5169e-01,\\n        -1.7653e-01, -2.9524e-01,  4.4483e-02,  8.7375e-01, -4.0810e-01,\\n         2.8853e-01, -5.6363e-01,  3.7239e-01, -6.7206e-01, -2.1735e-01,\\n         4.6869e-01,  1.7555e-01, -5.2846e-02,  2.3370e-01,  9.3045e-03,\\n        -1.2535e-01, -4.1194e-01, -4.5003e-02, -8.1897e-02, -9.8035e-01,\\n         5.0433e-01,  1.6545e-01,  8.7657e-01,  8.9250e-01, -5.1208e-01,\\n        -5.8011e-02,  2.3250e-01,  8.8780e-01,  6.7036e-02, -8.0736e-01,\\n        -8.2939e-01,  1.6797e-01, -4.6016e-01, -4.9108e-01,  8.3642e-02,\\n        -3.1927e-01, -1.4701e-01, -3.1088e-01,  3.8863e-01,  7.6417e-01,\\n         2.7995e-01, -1.1347e-01, -3.5417e-01, -6.0283e-01, -5.7113e-01,\\n         7.5251e-01,  3.5886e-01, -1.3014e-01,  7.9389e-02,  7.8814e-02,\\n         3.3312e-01, -8.9053e-01,  5.7899e-01, -8.4267e-02,  5.6206e-01,\\n         1.0119e+00, -3.9120e-01, -1.6299e+00, -3.0739e-01,  7.1863e-01,\\n         1.6879e-01,  1.2852e-01,  9.3962e-01,  3.3099e-03, -2.1318e-01,\\n        -1.1649e-01, -3.3219e-01, -1.9009e-01,  3.6943e-01,  4.0749e-01,\\n        -4.9827e-01,  5.4945e-02,  3.2334e-01,  2.9769e-01, -7.4774e-01,\\n        -8.4593e-01, -4.6284e-01,  9.5628e-01, -7.6282e-01, -3.5271e-01,\\n        -7.0886e-01, -7.1105e-01,  3.1529e-01,  5.0835e-01, -6.2606e-01,\\n         8.0782e-02,  1.0785e+00, -2.6513e-01,  4.8723e-01,  6.4340e-01,\\n         4.1910e-01,  3.1801e-01, -5.8790e-01, -3.7468e-01,  4.5325e-01,\\n         1.1634e-01, -2.7135e-01, -8.8437e-02,  9.6737e-01, -5.5371e-01,\\n        -1.1937e-01,  3.7513e-01, -4.5686e-01,  3.9256e-01,  4.8511e-03,\\n         4.1869e-01, -6.4524e-01,  1.5881e-01,  2.8531e-01,  4.9976e-01,\\n         1.1049e-01,  8.2778e-01,  2.5981e-01,  6.6044e-01,  1.5587e-01,\\n        -1.1386e-01, -1.0800e+00, -1.0251e-01,  5.1482e-01,  6.3038e-02,\\n        -3.1503e-02,  4.0678e-03, -9.8520e-02, -1.1762e-01, -3.5044e-01,\\n         4.4361e-01,  3.5639e-01, -1.4787e-01, -7.6061e-01,  1.3341e-01,\\n         5.7877e-01,  3.9856e-02,  2.6829e-01,  1.2381e-01,  2.9541e-01,\\n         1.1403e+00, -6.5366e-01, -3.4706e-01,  2.0632e-01, -5.0055e-01,\\n         3.1722e-01,  1.4809e-01, -3.4355e+00, -6.4271e-01, -9.9305e-01,\\n        -5.3325e-01,  3.6365e-01, -7.0417e-01, -1.4887e-02,  1.0930e-01,\\n         2.4025e-01, -1.6611e-01,  1.0006e-01,  1.0119e-01, -1.3130e-01,\\n        -3.6562e-01,  2.7510e-01,  2.8909e-01], device='cuda:0')\"\n        ],\n        \"semantic_type\": \"\",\n        \"description\": \"\"\n      }\n    }\n  ]\n}",
       "type": "dataframe",
       "variable_name": "df"
      },
      "text/html": [
       "\n",
       "  <div id=\"df-6189ea6d-d76c-43c5-8f59-07d51d75a76c\" class=\"colab-df-container\">\n",
       "    <div>\n",
       "<style scoped>\n",
       "    .dataframe tbody tr th:only-of-type {\n",
       "        vertical-align: middle;\n",
       "    }\n",
       "\n",
       "    .dataframe tbody tr th {\n",
       "        vertical-align: top;\n",
       "    }\n",
       "\n",
       "    .dataframe thead th {\n",
       "        text-align: right;\n",
       "    }\n",
       "</style>\n",
       "<table border=\"1\" class=\"dataframe\">\n",
       "  <thead>\n",
       "    <tr style=\"text-align: right;\">\n",
       "      <th></th>\n",
       "      <th>uuid</th>\n",
       "      <th>source</th>\n",
       "      <th>year</th>\n",
       "      <th>article_text</th>\n",
       "      <th>title</th>\n",
       "      <th>title_text</th>\n",
       "      <th>bert_sentence_embedding_title_only</th>\n",
       "    </tr>\n",
       "  </thead>\n",
       "  <tbody>\n",
       "    <tr>\n",
       "      <th>0</th>\n",
       "      <td>bcbc6bb2-406e-11ee-a96e-33dec8f414a2</td>\n",
       "      <td>wp</td>\n",
       "      <td>2020</td>\n",
       "      <td>president trump on monday said he was “proud” ...</td>\n",
       "      <td>trump shifts tone, says he’s ‘proud’ of fed am...</td>\n",
       "      <td>trump shifts tone, says he’s ‘proud’ of fed am...</td>\n",
       "      <td>[tensor(-0.0145, device='cuda:0'), tensor(0.29...</td>\n",
       "    </tr>\n",
       "    <tr>\n",
       "      <th>1</th>\n",
       "      <td>cfb4ce29-406e-11ee-a96e-33dec8f414a2</td>\n",
       "      <td>wp</td>\n",
       "      <td>2020</td>\n",
       "      <td>u.s. intelligence reportedly indicates iran’s ...</td>\n",
       "      <td>iran paid bounties for targeting us troops, in...</td>\n",
       "      <td>iran paid bounties for targeting us troops, in...</td>\n",
       "      <td>[tensor(-0.8398, device='cuda:0'), tensor(-0.0...</td>\n",
       "    </tr>\n",
       "  </tbody>\n",
       "</table>\n",
       "</div>\n",
       "    <div class=\"colab-df-buttons\">\n",
       "\n",
       "  <div class=\"colab-df-container\">\n",
       "    <button class=\"colab-df-convert\" onclick=\"convertToInteractive('df-6189ea6d-d76c-43c5-8f59-07d51d75a76c')\"\n",
       "            title=\"Convert this dataframe to an interactive table.\"\n",
       "            style=\"display:none;\">\n",
       "\n",
       "  <svg xmlns=\"http://www.w3.org/2000/svg\" height=\"24px\" viewBox=\"0 -960 960 960\">\n",
       "    <path d=\"M120-120v-720h720v720H120Zm60-500h600v-160H180v160Zm220 220h160v-160H400v160Zm0 220h160v-160H400v160ZM180-400h160v-160H180v160Zm440 0h160v-160H620v160ZM180-180h160v-160H180v160Zm440 0h160v-160H620v160Z\"/>\n",
       "  </svg>\n",
       "    </button>\n",
       "\n",
       "  <style>\n",
       "    .colab-df-container {\n",
       "      display:flex;\n",
       "      gap: 12px;\n",
       "    }\n",
       "\n",
       "    .colab-df-convert {\n",
       "      background-color: #E8F0FE;\n",
       "      border: none;\n",
       "      border-radius: 50%;\n",
       "      cursor: pointer;\n",
       "      display: none;\n",
       "      fill: #1967D2;\n",
       "      height: 32px;\n",
       "      padding: 0 0 0 0;\n",
       "      width: 32px;\n",
       "    }\n",
       "\n",
       "    .colab-df-convert:hover {\n",
       "      background-color: #E2EBFA;\n",
       "      box-shadow: 0px 1px 2px rgba(60, 64, 67, 0.3), 0px 1px 3px 1px rgba(60, 64, 67, 0.15);\n",
       "      fill: #174EA6;\n",
       "    }\n",
       "\n",
       "    .colab-df-buttons div {\n",
       "      margin-bottom: 4px;\n",
       "    }\n",
       "\n",
       "    [theme=dark] .colab-df-convert {\n",
       "      background-color: #3B4455;\n",
       "      fill: #D2E3FC;\n",
       "    }\n",
       "\n",
       "    [theme=dark] .colab-df-convert:hover {\n",
       "      background-color: #434B5C;\n",
       "      box-shadow: 0px 1px 3px 1px rgba(0, 0, 0, 0.15);\n",
       "      filter: drop-shadow(0px 1px 2px rgba(0, 0, 0, 0.3));\n",
       "      fill: #FFFFFF;\n",
       "    }\n",
       "  </style>\n",
       "\n",
       "    <script>\n",
       "      const buttonEl =\n",
       "        document.querySelector('#df-6189ea6d-d76c-43c5-8f59-07d51d75a76c button.colab-df-convert');\n",
       "      buttonEl.style.display =\n",
       "        google.colab.kernel.accessAllowed ? 'block' : 'none';\n",
       "\n",
       "      async function convertToInteractive(key) {\n",
       "        const element = document.querySelector('#df-6189ea6d-d76c-43c5-8f59-07d51d75a76c');\n",
       "        const dataTable =\n",
       "          await google.colab.kernel.invokeFunction('convertToInteractive',\n",
       "                                                    [key], {});\n",
       "        if (!dataTable) return;\n",
       "\n",
       "        const docLinkHtml = 'Like what you see? Visit the ' +\n",
       "          '<a target=\"_blank\" href=https://colab.research.google.com/notebooks/data_table.ipynb>data table notebook</a>'\n",
       "          + ' to learn more about interactive tables.';\n",
       "        element.innerHTML = '';\n",
       "        dataTable['output_type'] = 'display_data';\n",
       "        await google.colab.output.renderOutput(dataTable, element);\n",
       "        const docLink = document.createElement('div');\n",
       "        docLink.innerHTML = docLinkHtml;\n",
       "        element.appendChild(docLink);\n",
       "      }\n",
       "    </script>\n",
       "  </div>\n",
       "\n",
       "\n",
       "<div id=\"df-f3d49d0a-cfef-4ba2-9c0b-e70fa2d6f286\">\n",
       "  <button class=\"colab-df-quickchart\" onclick=\"quickchart('df-f3d49d0a-cfef-4ba2-9c0b-e70fa2d6f286')\"\n",
       "            title=\"Suggest charts\"\n",
       "            style=\"display:none;\">\n",
       "\n",
       "<svg xmlns=\"http://www.w3.org/2000/svg\" height=\"24px\"viewBox=\"0 0 24 24\"\n",
       "     width=\"24px\">\n",
       "    <g>\n",
       "        <path d=\"M19 3H5c-1.1 0-2 .9-2 2v14c0 1.1.9 2 2 2h14c1.1 0 2-.9 2-2V5c0-1.1-.9-2-2-2zM9 17H7v-7h2v7zm4 0h-2V7h2v10zm4 0h-2v-4h2v4z\"/>\n",
       "    </g>\n",
       "</svg>\n",
       "  </button>\n",
       "\n",
       "<style>\n",
       "  .colab-df-quickchart {\n",
       "      --bg-color: #E8F0FE;\n",
       "      --fill-color: #1967D2;\n",
       "      --hover-bg-color: #E2EBFA;\n",
       "      --hover-fill-color: #174EA6;\n",
       "      --disabled-fill-color: #AAA;\n",
       "      --disabled-bg-color: #DDD;\n",
       "  }\n",
       "\n",
       "  [theme=dark] .colab-df-quickchart {\n",
       "      --bg-color: #3B4455;\n",
       "      --fill-color: #D2E3FC;\n",
       "      --hover-bg-color: #434B5C;\n",
       "      --hover-fill-color: #FFFFFF;\n",
       "      --disabled-bg-color: #3B4455;\n",
       "      --disabled-fill-color: #666;\n",
       "  }\n",
       "\n",
       "  .colab-df-quickchart {\n",
       "    background-color: var(--bg-color);\n",
       "    border: none;\n",
       "    border-radius: 50%;\n",
       "    cursor: pointer;\n",
       "    display: none;\n",
       "    fill: var(--fill-color);\n",
       "    height: 32px;\n",
       "    padding: 0;\n",
       "    width: 32px;\n",
       "  }\n",
       "\n",
       "  .colab-df-quickchart:hover {\n",
       "    background-color: var(--hover-bg-color);\n",
       "    box-shadow: 0 1px 2px rgba(60, 64, 67, 0.3), 0 1px 3px 1px rgba(60, 64, 67, 0.15);\n",
       "    fill: var(--button-hover-fill-color);\n",
       "  }\n",
       "\n",
       "  .colab-df-quickchart-complete:disabled,\n",
       "  .colab-df-quickchart-complete:disabled:hover {\n",
       "    background-color: var(--disabled-bg-color);\n",
       "    fill: var(--disabled-fill-color);\n",
       "    box-shadow: none;\n",
       "  }\n",
       "\n",
       "  .colab-df-spinner {\n",
       "    border: 2px solid var(--fill-color);\n",
       "    border-color: transparent;\n",
       "    border-bottom-color: var(--fill-color);\n",
       "    animation:\n",
       "      spin 1s steps(1) infinite;\n",
       "  }\n",
       "\n",
       "  @keyframes spin {\n",
       "    0% {\n",
       "      border-color: transparent;\n",
       "      border-bottom-color: var(--fill-color);\n",
       "      border-left-color: var(--fill-color);\n",
       "    }\n",
       "    20% {\n",
       "      border-color: transparent;\n",
       "      border-left-color: var(--fill-color);\n",
       "      border-top-color: var(--fill-color);\n",
       "    }\n",
       "    30% {\n",
       "      border-color: transparent;\n",
       "      border-left-color: var(--fill-color);\n",
       "      border-top-color: var(--fill-color);\n",
       "      border-right-color: var(--fill-color);\n",
       "    }\n",
       "    40% {\n",
       "      border-color: transparent;\n",
       "      border-right-color: var(--fill-color);\n",
       "      border-top-color: var(--fill-color);\n",
       "    }\n",
       "    60% {\n",
       "      border-color: transparent;\n",
       "      border-right-color: var(--fill-color);\n",
       "    }\n",
       "    80% {\n",
       "      border-color: transparent;\n",
       "      border-right-color: var(--fill-color);\n",
       "      border-bottom-color: var(--fill-color);\n",
       "    }\n",
       "    90% {\n",
       "      border-color: transparent;\n",
       "      border-bottom-color: var(--fill-color);\n",
       "    }\n",
       "  }\n",
       "</style>\n",
       "\n",
       "  <script>\n",
       "    async function quickchart(key) {\n",
       "      const quickchartButtonEl =\n",
       "        document.querySelector('#' + key + ' button');\n",
       "      quickchartButtonEl.disabled = true;  // To prevent multiple clicks.\n",
       "      quickchartButtonEl.classList.add('colab-df-spinner');\n",
       "      try {\n",
       "        const charts = await google.colab.kernel.invokeFunction(\n",
       "            'suggestCharts', [key], {});\n",
       "      } catch (error) {\n",
       "        console.error('Error during call to suggestCharts:', error);\n",
       "      }\n",
       "      quickchartButtonEl.classList.remove('colab-df-spinner');\n",
       "      quickchartButtonEl.classList.add('colab-df-quickchart-complete');\n",
       "    }\n",
       "    (() => {\n",
       "      let quickchartButtonEl =\n",
       "        document.querySelector('#df-f3d49d0a-cfef-4ba2-9c0b-e70fa2d6f286 button');\n",
       "      quickchartButtonEl.style.display =\n",
       "        google.colab.kernel.accessAllowed ? 'block' : 'none';\n",
       "    })();\n",
       "  </script>\n",
       "</div>\n",
       "    </div>\n",
       "  </div>\n"
      ],
      "text/plain": [
       "                                   uuid source  year  \\\n",
       "0  bcbc6bb2-406e-11ee-a96e-33dec8f414a2     wp  2020   \n",
       "1  cfb4ce29-406e-11ee-a96e-33dec8f414a2     wp  2020   \n",
       "\n",
       "                                        article_text  \\\n",
       "0  president trump on monday said he was “proud” ...   \n",
       "1  u.s. intelligence reportedly indicates iran’s ...   \n",
       "\n",
       "                                               title  \\\n",
       "0  trump shifts tone, says he’s ‘proud’ of fed am...   \n",
       "1  iran paid bounties for targeting us troops, in...   \n",
       "\n",
       "                                          title_text  \\\n",
       "0  trump shifts tone, says he’s ‘proud’ of fed am...   \n",
       "1  iran paid bounties for targeting us troops, in...   \n",
       "\n",
       "                  bert_sentence_embedding_title_only  \n",
       "0  [tensor(-0.0145, device='cuda:0'), tensor(0.29...  \n",
       "1  [tensor(-0.8398, device='cuda:0'), tensor(-0.0...  "
      ]
     },
     "execution_count": 29,
     "metadata": {},
     "output_type": "execute_result"
    }
   ],
   "source": [
    "df.head(2)"
   ]
  },
  {
   "cell_type": "code",
   "execution_count": null,
   "id": "FMSa_DyGPK6C",
   "metadata": {
    "id": "FMSa_DyGPK6C"
   },
   "outputs": [],
   "source": [
    "# pickling so that we don't have to rerun the embedding process every time\n",
    "df.to_pickle(\"/content/gdrive/MyDrive/AdvancedML/final_project_data/clean_2020articles_w_title_embeddings.pkl\")"
   ]
  },
  {
   "cell_type": "markdown",
   "id": "g9tnmfROsNQf",
   "metadata": {
    "id": "g9tnmfROsNQf"
   },
   "source": [
    "## KMeans Clustering"
   ]
  },
  {
   "cell_type": "code",
   "execution_count": 4,
   "id": "1OgQjVFXsGvo",
   "metadata": {
    "id": "1OgQjVFXsGvo"
   },
   "outputs": [],
   "source": [
    "import numpy as np\n",
    "\n",
    "from sklearn.cluster import KMeans\n",
    "from sklearn.metrics import adjusted_rand_score, normalized_mutual_info_score, fowlkes_mallows_score # TODO read about these scoring mechanisms\n",
    "from sklearn.decomposition import PCA\n"
   ]
  },
  {
   "cell_type": "code",
   "execution_count": 5,
   "id": "keTWbq7G_pdR",
   "metadata": {
    "colab": {
     "base_uri": "https://localhost:8080/",
     "height": 329
    },
    "id": "keTWbq7G_pdR",
    "outputId": "4621b81f-a851-4358-e5a3-a9d877df1c4f"
   },
   "outputs": [
    {
     "ename": "RuntimeError",
     "evalue": "Attempting to deserialize object on a CUDA device but torch.cuda.is_available() is False. If you are running on a CPU-only machine, please use torch.load with map_location=torch.device('cpu') to map your storages to the CPU.",
     "output_type": "error",
     "traceback": [
      "\u001b[0;31m---------------------------------------------------------------------------\u001b[0m",
      "\u001b[0;31mRuntimeError\u001b[0m                              Traceback (most recent call last)",
      "\u001b[0;32m<ipython-input-5-8cdc398d2515>\u001b[0m in \u001b[0;36m<cell line: 2>\u001b[0;34m()\u001b[0m\n\u001b[1;32m      1\u001b[0m \u001b[0;31m# if no rerunning the embedding phase, read in df from pickel\u001b[0m\u001b[0;34m\u001b[0m\u001b[0;34m\u001b[0m\u001b[0m\n\u001b[0;32m----> 2\u001b[0;31m \u001b[0mdf\u001b[0m \u001b[0;34m=\u001b[0m \u001b[0mpd\u001b[0m\u001b[0;34m.\u001b[0m\u001b[0mread_pickle\u001b[0m\u001b[0;34m(\u001b[0m\u001b[0;34m\"/content/gdrive/MyDrive/AdvancedML/final_project_data/clean_2020articles_w_title_embeddings.pkl\"\u001b[0m\u001b[0;34m)\u001b[0m\u001b[0;34m\u001b[0m\u001b[0;34m\u001b[0m\u001b[0m\n\u001b[0m",
      "\u001b[0;32m/usr/local/lib/python3.10/dist-packages/pandas/io/pickle.py\u001b[0m in \u001b[0;36mread_pickle\u001b[0;34m(filepath_or_buffer, compression, storage_options)\u001b[0m\n\u001b[1;32m    206\u001b[0m                     \u001b[0;31m# We want to silence any warnings about, e.g. moved modules.\u001b[0m\u001b[0;34m\u001b[0m\u001b[0;34m\u001b[0m\u001b[0m\n\u001b[1;32m    207\u001b[0m                     \u001b[0mwarnings\u001b[0m\u001b[0;34m.\u001b[0m\u001b[0msimplefilter\u001b[0m\u001b[0;34m(\u001b[0m\u001b[0;34m\"ignore\"\u001b[0m\u001b[0;34m,\u001b[0m \u001b[0mWarning\u001b[0m\u001b[0;34m)\u001b[0m\u001b[0;34m\u001b[0m\u001b[0;34m\u001b[0m\u001b[0m\n\u001b[0;32m--> 208\u001b[0;31m                     \u001b[0;32mreturn\u001b[0m \u001b[0mpickle\u001b[0m\u001b[0;34m.\u001b[0m\u001b[0mload\u001b[0m\u001b[0;34m(\u001b[0m\u001b[0mhandles\u001b[0m\u001b[0;34m.\u001b[0m\u001b[0mhandle\u001b[0m\u001b[0;34m)\u001b[0m\u001b[0;34m\u001b[0m\u001b[0;34m\u001b[0m\u001b[0m\n\u001b[0m\u001b[1;32m    209\u001b[0m             \u001b[0;32mexcept\u001b[0m \u001b[0mexcs_to_catch\u001b[0m\u001b[0;34m:\u001b[0m\u001b[0;34m\u001b[0m\u001b[0;34m\u001b[0m\u001b[0m\n\u001b[1;32m    210\u001b[0m                 \u001b[0;31m# e.g.\u001b[0m\u001b[0;34m\u001b[0m\u001b[0;34m\u001b[0m\u001b[0m\n",
      "\u001b[0;32m/usr/local/lib/python3.10/dist-packages/torch/storage.py\u001b[0m in \u001b[0;36m_load_from_bytes\u001b[0;34m(b)\u001b[0m\n\u001b[1;32m    335\u001b[0m \u001b[0;34m\u001b[0m\u001b[0m\n\u001b[1;32m    336\u001b[0m \u001b[0;32mdef\u001b[0m \u001b[0m_load_from_bytes\u001b[0m\u001b[0;34m(\u001b[0m\u001b[0mb\u001b[0m\u001b[0;34m)\u001b[0m\u001b[0;34m:\u001b[0m\u001b[0;34m\u001b[0m\u001b[0;34m\u001b[0m\u001b[0m\n\u001b[0;32m--> 337\u001b[0;31m     \u001b[0;32mreturn\u001b[0m \u001b[0mtorch\u001b[0m\u001b[0;34m.\u001b[0m\u001b[0mload\u001b[0m\u001b[0;34m(\u001b[0m\u001b[0mio\u001b[0m\u001b[0;34m.\u001b[0m\u001b[0mBytesIO\u001b[0m\u001b[0;34m(\u001b[0m\u001b[0mb\u001b[0m\u001b[0;34m)\u001b[0m\u001b[0;34m)\u001b[0m\u001b[0;34m\u001b[0m\u001b[0;34m\u001b[0m\u001b[0m\n\u001b[0m\u001b[1;32m    338\u001b[0m \u001b[0;34m\u001b[0m\u001b[0m\n\u001b[1;32m    339\u001b[0m \u001b[0;34m\u001b[0m\u001b[0m\n",
      "\u001b[0;32m/usr/local/lib/python3.10/dist-packages/torch/serialization.py\u001b[0m in \u001b[0;36mload\u001b[0;34m(f, map_location, pickle_module, weights_only, mmap, **pickle_load_args)\u001b[0m\n\u001b[1;32m   1026\u001b[0m             \u001b[0;32mexcept\u001b[0m \u001b[0mRuntimeError\u001b[0m \u001b[0;32mas\u001b[0m \u001b[0me\u001b[0m\u001b[0;34m:\u001b[0m\u001b[0;34m\u001b[0m\u001b[0;34m\u001b[0m\u001b[0m\n\u001b[1;32m   1027\u001b[0m                 \u001b[0;32mraise\u001b[0m \u001b[0mpickle\u001b[0m\u001b[0;34m.\u001b[0m\u001b[0mUnpicklingError\u001b[0m\u001b[0;34m(\u001b[0m\u001b[0mUNSAFE_MESSAGE\u001b[0m \u001b[0;34m+\u001b[0m \u001b[0mstr\u001b[0m\u001b[0;34m(\u001b[0m\u001b[0me\u001b[0m\u001b[0;34m)\u001b[0m\u001b[0;34m)\u001b[0m \u001b[0;32mfrom\u001b[0m \u001b[0;32mNone\u001b[0m\u001b[0;34m\u001b[0m\u001b[0;34m\u001b[0m\u001b[0m\n\u001b[0;32m-> 1028\u001b[0;31m         \u001b[0;32mreturn\u001b[0m \u001b[0m_legacy_load\u001b[0m\u001b[0;34m(\u001b[0m\u001b[0mopened_file\u001b[0m\u001b[0;34m,\u001b[0m \u001b[0mmap_location\u001b[0m\u001b[0;34m,\u001b[0m \u001b[0mpickle_module\u001b[0m\u001b[0;34m,\u001b[0m \u001b[0;34m**\u001b[0m\u001b[0mpickle_load_args\u001b[0m\u001b[0;34m)\u001b[0m\u001b[0;34m\u001b[0m\u001b[0;34m\u001b[0m\u001b[0m\n\u001b[0m\u001b[1;32m   1029\u001b[0m \u001b[0;34m\u001b[0m\u001b[0m\n\u001b[1;32m   1030\u001b[0m \u001b[0;34m\u001b[0m\u001b[0m\n",
      "\u001b[0;32m/usr/local/lib/python3.10/dist-packages/torch/serialization.py\u001b[0m in \u001b[0;36m_legacy_load\u001b[0;34m(f, map_location, pickle_module, **pickle_load_args)\u001b[0m\n\u001b[1;32m   1254\u001b[0m     \u001b[0munpickler\u001b[0m \u001b[0;34m=\u001b[0m \u001b[0mUnpicklerWrapper\u001b[0m\u001b[0;34m(\u001b[0m\u001b[0mf\u001b[0m\u001b[0;34m,\u001b[0m \u001b[0;34m**\u001b[0m\u001b[0mpickle_load_args\u001b[0m\u001b[0;34m)\u001b[0m\u001b[0;34m\u001b[0m\u001b[0;34m\u001b[0m\u001b[0m\n\u001b[1;32m   1255\u001b[0m     \u001b[0munpickler\u001b[0m\u001b[0;34m.\u001b[0m\u001b[0mpersistent_load\u001b[0m \u001b[0;34m=\u001b[0m \u001b[0mpersistent_load\u001b[0m\u001b[0;34m\u001b[0m\u001b[0;34m\u001b[0m\u001b[0m\n\u001b[0;32m-> 1256\u001b[0;31m     \u001b[0mresult\u001b[0m \u001b[0;34m=\u001b[0m \u001b[0munpickler\u001b[0m\u001b[0;34m.\u001b[0m\u001b[0mload\u001b[0m\u001b[0;34m(\u001b[0m\u001b[0;34m)\u001b[0m\u001b[0;34m\u001b[0m\u001b[0;34m\u001b[0m\u001b[0m\n\u001b[0m\u001b[1;32m   1257\u001b[0m \u001b[0;34m\u001b[0m\u001b[0m\n\u001b[1;32m   1258\u001b[0m     \u001b[0mdeserialized_storage_keys\u001b[0m \u001b[0;34m=\u001b[0m \u001b[0mpickle_module\u001b[0m\u001b[0;34m.\u001b[0m\u001b[0mload\u001b[0m\u001b[0;34m(\u001b[0m\u001b[0mf\u001b[0m\u001b[0;34m,\u001b[0m \u001b[0;34m**\u001b[0m\u001b[0mpickle_load_args\u001b[0m\u001b[0;34m)\u001b[0m\u001b[0;34m\u001b[0m\u001b[0;34m\u001b[0m\u001b[0m\n",
      "\u001b[0;32m/usr/local/lib/python3.10/dist-packages/torch/serialization.py\u001b[0m in \u001b[0;36mpersistent_load\u001b[0;34m(saved_id)\u001b[0m\n\u001b[1;32m   1191\u001b[0m                 \u001b[0;31m# stop wrapping with TypedStorage\u001b[0m\u001b[0;34m\u001b[0m\u001b[0;34m\u001b[0m\u001b[0m\n\u001b[1;32m   1192\u001b[0m                 typed_storage = torch.storage.TypedStorage(\n\u001b[0;32m-> 1193\u001b[0;31m                     \u001b[0mwrap_storage\u001b[0m\u001b[0;34m=\u001b[0m\u001b[0mrestore_location\u001b[0m\u001b[0;34m(\u001b[0m\u001b[0mobj\u001b[0m\u001b[0;34m,\u001b[0m \u001b[0mlocation\u001b[0m\u001b[0;34m)\u001b[0m\u001b[0;34m,\u001b[0m\u001b[0;34m\u001b[0m\u001b[0;34m\u001b[0m\u001b[0m\n\u001b[0m\u001b[1;32m   1194\u001b[0m                     \u001b[0mdtype\u001b[0m\u001b[0;34m=\u001b[0m\u001b[0mdtype\u001b[0m\u001b[0;34m,\u001b[0m\u001b[0;34m\u001b[0m\u001b[0;34m\u001b[0m\u001b[0m\n\u001b[1;32m   1195\u001b[0m                     _internal=True)\n",
      "\u001b[0;32m/usr/local/lib/python3.10/dist-packages/torch/serialization.py\u001b[0m in \u001b[0;36mdefault_restore_location\u001b[0;34m(storage, location)\u001b[0m\n\u001b[1;32m    379\u001b[0m \u001b[0;32mdef\u001b[0m \u001b[0mdefault_restore_location\u001b[0m\u001b[0;34m(\u001b[0m\u001b[0mstorage\u001b[0m\u001b[0;34m,\u001b[0m \u001b[0mlocation\u001b[0m\u001b[0;34m)\u001b[0m\u001b[0;34m:\u001b[0m\u001b[0;34m\u001b[0m\u001b[0;34m\u001b[0m\u001b[0m\n\u001b[1;32m    380\u001b[0m     \u001b[0;32mfor\u001b[0m \u001b[0m_\u001b[0m\u001b[0;34m,\u001b[0m \u001b[0m_\u001b[0m\u001b[0;34m,\u001b[0m \u001b[0mfn\u001b[0m \u001b[0;32min\u001b[0m \u001b[0m_package_registry\u001b[0m\u001b[0;34m:\u001b[0m\u001b[0;34m\u001b[0m\u001b[0;34m\u001b[0m\u001b[0m\n\u001b[0;32m--> 381\u001b[0;31m         \u001b[0mresult\u001b[0m \u001b[0;34m=\u001b[0m \u001b[0mfn\u001b[0m\u001b[0;34m(\u001b[0m\u001b[0mstorage\u001b[0m\u001b[0;34m,\u001b[0m \u001b[0mlocation\u001b[0m\u001b[0;34m)\u001b[0m\u001b[0;34m\u001b[0m\u001b[0;34m\u001b[0m\u001b[0m\n\u001b[0m\u001b[1;32m    382\u001b[0m         \u001b[0;32mif\u001b[0m \u001b[0mresult\u001b[0m \u001b[0;32mis\u001b[0m \u001b[0;32mnot\u001b[0m \u001b[0;32mNone\u001b[0m\u001b[0;34m:\u001b[0m\u001b[0;34m\u001b[0m\u001b[0;34m\u001b[0m\u001b[0m\n\u001b[1;32m    383\u001b[0m             \u001b[0;32mreturn\u001b[0m \u001b[0mresult\u001b[0m\u001b[0;34m\u001b[0m\u001b[0;34m\u001b[0m\u001b[0m\n",
      "\u001b[0;32m/usr/local/lib/python3.10/dist-packages/torch/serialization.py\u001b[0m in \u001b[0;36m_cuda_deserialize\u001b[0;34m(obj, location)\u001b[0m\n\u001b[1;32m    272\u001b[0m \u001b[0;32mdef\u001b[0m \u001b[0m_cuda_deserialize\u001b[0m\u001b[0;34m(\u001b[0m\u001b[0mobj\u001b[0m\u001b[0;34m,\u001b[0m \u001b[0mlocation\u001b[0m\u001b[0;34m)\u001b[0m\u001b[0;34m:\u001b[0m\u001b[0;34m\u001b[0m\u001b[0;34m\u001b[0m\u001b[0m\n\u001b[1;32m    273\u001b[0m     \u001b[0;32mif\u001b[0m \u001b[0mlocation\u001b[0m\u001b[0;34m.\u001b[0m\u001b[0mstartswith\u001b[0m\u001b[0;34m(\u001b[0m\u001b[0;34m'cuda'\u001b[0m\u001b[0;34m)\u001b[0m\u001b[0;34m:\u001b[0m\u001b[0;34m\u001b[0m\u001b[0;34m\u001b[0m\u001b[0m\n\u001b[0;32m--> 274\u001b[0;31m         \u001b[0mdevice\u001b[0m \u001b[0;34m=\u001b[0m \u001b[0mvalidate_cuda_device\u001b[0m\u001b[0;34m(\u001b[0m\u001b[0mlocation\u001b[0m\u001b[0;34m)\u001b[0m\u001b[0;34m\u001b[0m\u001b[0;34m\u001b[0m\u001b[0m\n\u001b[0m\u001b[1;32m    275\u001b[0m         \u001b[0;32mif\u001b[0m \u001b[0mgetattr\u001b[0m\u001b[0;34m(\u001b[0m\u001b[0mobj\u001b[0m\u001b[0;34m,\u001b[0m \u001b[0;34m\"_torch_load_uninitialized\"\u001b[0m\u001b[0;34m,\u001b[0m \u001b[0;32mFalse\u001b[0m\u001b[0;34m)\u001b[0m\u001b[0;34m:\u001b[0m\u001b[0;34m\u001b[0m\u001b[0;34m\u001b[0m\u001b[0m\n\u001b[1;32m    276\u001b[0m             \u001b[0;32mwith\u001b[0m \u001b[0mtorch\u001b[0m\u001b[0;34m.\u001b[0m\u001b[0mcuda\u001b[0m\u001b[0;34m.\u001b[0m\u001b[0mdevice\u001b[0m\u001b[0;34m(\u001b[0m\u001b[0mdevice\u001b[0m\u001b[0;34m)\u001b[0m\u001b[0;34m:\u001b[0m\u001b[0;34m\u001b[0m\u001b[0;34m\u001b[0m\u001b[0m\n",
      "\u001b[0;32m/usr/local/lib/python3.10/dist-packages/torch/serialization.py\u001b[0m in \u001b[0;36mvalidate_cuda_device\u001b[0;34m(location)\u001b[0m\n\u001b[1;32m    256\u001b[0m \u001b[0;34m\u001b[0m\u001b[0m\n\u001b[1;32m    257\u001b[0m     \u001b[0;32mif\u001b[0m \u001b[0;32mnot\u001b[0m \u001b[0mtorch\u001b[0m\u001b[0;34m.\u001b[0m\u001b[0mcuda\u001b[0m\u001b[0;34m.\u001b[0m\u001b[0mis_available\u001b[0m\u001b[0;34m(\u001b[0m\u001b[0;34m)\u001b[0m\u001b[0;34m:\u001b[0m\u001b[0;34m\u001b[0m\u001b[0;34m\u001b[0m\u001b[0m\n\u001b[0;32m--> 258\u001b[0;31m         raise RuntimeError('Attempting to deserialize object on a CUDA '\n\u001b[0m\u001b[1;32m    259\u001b[0m                            \u001b[0;34m'device but torch.cuda.is_available() is False. '\u001b[0m\u001b[0;34m\u001b[0m\u001b[0;34m\u001b[0m\u001b[0m\n\u001b[1;32m    260\u001b[0m                            \u001b[0;34m'If you are running on a CPU-only machine, '\u001b[0m\u001b[0;34m\u001b[0m\u001b[0;34m\u001b[0m\u001b[0m\n",
      "\u001b[0;31mRuntimeError\u001b[0m: Attempting to deserialize object on a CUDA device but torch.cuda.is_available() is False. If you are running on a CPU-only machine, please use torch.load with map_location=torch.device('cpu') to map your storages to the CPU."
     ]
    }
   ],
   "source": [
    "# if no rerunning the embedding phase, read in df from pickel\n",
    "df = pd.read_pickle(\"/content/gdrive/MyDrive/AdvancedML/final_project_data/clean_2020articles_w_title_embeddings.pkl\")"
   ]
  },
  {
   "cell_type": "code",
   "execution_count": null,
   "id": "8k6ij5P2sqrg",
   "metadata": {
    "id": "8k6ij5P2sqrg"
   },
   "outputs": [],
   "source": [
    "# prep embeddings for modeling:\n",
    "# cpu_df = df['bert_sentence_embedding_title_only'].cpu()\n",
    "# X = np.vstack(df)\n",
    "\n",
    "# cuda_tensor = torch.tensor(df['bert_sentence_embedding_title_only'])\n",
    "\n",
    "# # Move the tensor column to CPU memory\n",
    "# cpu_tensor = cuda_tensor.cpu()\n",
    "\n",
    "# # Convert the CPU tensor column to NumPy array using np.vstack()\n",
    "# X = np.vstack(cpu_tensor.detach().numpy())"
   ]
  },
  {
   "cell_type": "code",
   "execution_count": null,
   "id": "PmLsksGSwGYu",
   "metadata": {
    "id": "PmLsksGSwGYu"
   },
   "outputs": [],
   "source": [
    "def eval_cluster(embedding):\n",
    "    y_pred = kmeans.fit_predict(embedding)\n",
    "\n",
    "    # Evaluate the performance using ARI, NMI, and FMI\n",
    "    ari = adjusted_rand_score(df[\"target\"], y_pred)\n",
    "    nmi = normalized_mutual_info_score(df[\"target\"], y_pred)\n",
    "    fmi = fowlkes_mallows_score(df[\"target\"], y_pred)\n",
    "\n",
    "    # Print Metrics scores\n",
    "    print(\"Adjusted Rand Index (ARI): {:.3f}\".format(ari))\n",
    "    print(\"Normalized Mutual Information (NMI): {:.3f}\".format(nmi))\n",
    "    print(\"Fowlkes-Mallows Index (FMI): {:.3f}\".format(fmi))"
   ]
  },
  {
   "cell_type": "code",
   "execution_count": null,
   "id": "ltK-1eO0wMei",
   "metadata": {
    "id": "ltK-1eO0wMei"
   },
   "outputs": [],
   "source": [
    "def dimension_reduction(embedding, method):\n",
    "\n",
    "    pca = PCA(n_components=2, random_state=42)\n",
    "\n",
    "    pca_vecs = pca.fit_transform(embedding)\n",
    "\n",
    "    # save our two dimensions into x0 and x1\n",
    "    x0 = pca_vecs[:, 0]\n",
    "    x1 = pca_vecs[:, 1]\n",
    "\n",
    "    df[f'x0_{method}'] = x0\n",
    "    df[f'x1_{method}'] = x1"
   ]
  },
  {
   "cell_type": "code",
   "execution_count": null,
   "id": "3DnFRp14wQTo",
   "metadata": {
    "id": "3DnFRp14wQTo"
   },
   "outputs": [],
   "source": [
    "def plot_pca(x0_name, x1_name, cluster_name, method):\n",
    "\n",
    "    plt.figure(figsize=(12, 7))\n",
    "\n",
    "    plt.title(f\"TF-IDF + KMeans 20newsgroup clustering with {method}\", fontdict={\"fontsize\": 18})\n",
    "    plt.xlabel(\"X0\", fontdict={\"fontsize\": 16})\n",
    "    plt.ylabel(\"X1\", fontdict={\"fontsize\": 16})\n",
    "\n",
    "    sns.scatterplot(data=df, x=x0_name, y=x1_name, hue=cluster_name, palette=\"viridis\")\n",
    "    plt.show()"
   ]
  },
  {
   "cell_type": "code",
   "execution_count": null,
   "id": "zOveqh29vbG2",
   "metadata": {
    "colab": {
     "background_save": true,
     "base_uri": "https://localhost:8080/",
     "height": 287
    },
    "id": "zOveqh29vbG2",
    "outputId": "fa952ee0-1b94-4b9a-ac80-1f849c12b894"
   },
   "outputs": [
    {
     "ename": "AttributeError",
     "evalue": "'DataFrame' object has no attribute 'detach'",
     "output_type": "error",
     "traceback": [
      "\u001b[0;31m---------------------------------------------------------------------------\u001b[0m",
      "\u001b[0;31mAttributeError\u001b[0m                            Traceback (most recent call last)",
      "\u001b[0;32m<ipython-input-62-eeefefbd7f7d>\u001b[0m in \u001b[0;36m<cell line: 1>\u001b[0;34m()\u001b[0m\n\u001b[0;32m----> 1\u001b[0;31m \u001b[0mcpu_df\u001b[0m \u001b[0;34m=\u001b[0m \u001b[0mdf\u001b[0m\u001b[0;34m.\u001b[0m\u001b[0mdetach\u001b[0m\u001b[0;34m(\u001b[0m\u001b[0;34m)\u001b[0m\u001b[0;34m\u001b[0m\u001b[0;34m\u001b[0m\u001b[0m\n\u001b[0m\u001b[1;32m      2\u001b[0m \u001b[0;31m# embedding = np.vstack(cpu_df['bert_sentence_embedding_title_only'])\u001b[0m\u001b[0;34m\u001b[0m\u001b[0;34m\u001b[0m\u001b[0m\n",
      "\u001b[0;32m/usr/local/lib/python3.10/dist-packages/pandas/core/generic.py\u001b[0m in \u001b[0;36m__getattr__\u001b[0;34m(self, name)\u001b[0m\n\u001b[1;32m   5900\u001b[0m         ):\n\u001b[1;32m   5901\u001b[0m             \u001b[0;32mreturn\u001b[0m \u001b[0mself\u001b[0m\u001b[0;34m[\u001b[0m\u001b[0mname\u001b[0m\u001b[0;34m]\u001b[0m\u001b[0;34m\u001b[0m\u001b[0;34m\u001b[0m\u001b[0m\n\u001b[0;32m-> 5902\u001b[0;31m         \u001b[0;32mreturn\u001b[0m \u001b[0mobject\u001b[0m\u001b[0;34m.\u001b[0m\u001b[0m__getattribute__\u001b[0m\u001b[0;34m(\u001b[0m\u001b[0mself\u001b[0m\u001b[0;34m,\u001b[0m \u001b[0mname\u001b[0m\u001b[0;34m)\u001b[0m\u001b[0;34m\u001b[0m\u001b[0;34m\u001b[0m\u001b[0m\n\u001b[0m\u001b[1;32m   5903\u001b[0m \u001b[0;34m\u001b[0m\u001b[0m\n\u001b[1;32m   5904\u001b[0m     \u001b[0;32mdef\u001b[0m \u001b[0m__setattr__\u001b[0m\u001b[0;34m(\u001b[0m\u001b[0mself\u001b[0m\u001b[0;34m,\u001b[0m \u001b[0mname\u001b[0m\u001b[0;34m:\u001b[0m \u001b[0mstr\u001b[0m\u001b[0;34m,\u001b[0m \u001b[0mvalue\u001b[0m\u001b[0;34m)\u001b[0m \u001b[0;34m->\u001b[0m \u001b[0;32mNone\u001b[0m\u001b[0;34m:\u001b[0m\u001b[0;34m\u001b[0m\u001b[0;34m\u001b[0m\u001b[0m\n",
      "\u001b[0;31mAttributeError\u001b[0m: 'DataFrame' object has no attribute 'detach'"
     ]
    }
   ],
   "source": [
    "cpu_df = df['bert_sentence_embedding_title_only'].cpu()\n",
    "# embedding = np.vstack(cpu_df['bert_sentence_embedding_title_only'])"
   ]
  },
  {
   "cell_type": "code",
   "execution_count": null,
   "id": "xlyqo2ahvlGV",
   "metadata": {
    "colab": {
     "base_uri": "https://localhost:8080/",
     "height": 365
    },
    "id": "xlyqo2ahvlGV",
    "outputId": "83a0d09b-79f6-4583-e853-cd1de05abe72"
   },
   "outputs": [
    {
     "ename": "ValueError",
     "evalue": "only one element tensors can be converted to Python scalars",
     "output_type": "error",
     "traceback": [
      "\u001b[0;31m---------------------------------------------------------------------------\u001b[0m",
      "\u001b[0;31mValueError\u001b[0m                                Traceback (most recent call last)",
      "\u001b[0;32m<ipython-input-52-62d0ae6d117a>\u001b[0m in \u001b[0;36m<cell line: 7>\u001b[0;34m()\u001b[0m\n\u001b[1;32m      5\u001b[0m \u001b[0;34m\u001b[0m\u001b[0m\n\u001b[1;32m      6\u001b[0m \u001b[0;31m# fit the model\u001b[0m\u001b[0;34m\u001b[0m\u001b[0;34m\u001b[0m\u001b[0m\n\u001b[0;32m----> 7\u001b[0;31m \u001b[0mkmeans\u001b[0m\u001b[0;34m.\u001b[0m\u001b[0mfit\u001b[0m\u001b[0;34m(\u001b[0m\u001b[0membedding\u001b[0m\u001b[0;34m)\u001b[0m\u001b[0;34m\u001b[0m\u001b[0;34m\u001b[0m\u001b[0m\n\u001b[0m\u001b[1;32m      8\u001b[0m \u001b[0;34m\u001b[0m\u001b[0m\n\u001b[1;32m      9\u001b[0m \u001b[0;31m# store cluster labels in a variable\u001b[0m\u001b[0;34m\u001b[0m\u001b[0;34m\u001b[0m\u001b[0m\n",
      "\u001b[0;32m/usr/local/lib/python3.10/dist-packages/sklearn/cluster/_kmeans.py\u001b[0m in \u001b[0;36mfit\u001b[0;34m(self, X, y, sample_weight)\u001b[0m\n\u001b[1;32m   1415\u001b[0m         \u001b[0mself\u001b[0m\u001b[0;34m.\u001b[0m\u001b[0m_validate_params\u001b[0m\u001b[0;34m(\u001b[0m\u001b[0;34m)\u001b[0m\u001b[0;34m\u001b[0m\u001b[0;34m\u001b[0m\u001b[0m\n\u001b[1;32m   1416\u001b[0m \u001b[0;34m\u001b[0m\u001b[0m\n\u001b[0;32m-> 1417\u001b[0;31m         X = self._validate_data(\n\u001b[0m\u001b[1;32m   1418\u001b[0m             \u001b[0mX\u001b[0m\u001b[0;34m,\u001b[0m\u001b[0;34m\u001b[0m\u001b[0;34m\u001b[0m\u001b[0m\n\u001b[1;32m   1419\u001b[0m             \u001b[0maccept_sparse\u001b[0m\u001b[0;34m=\u001b[0m\u001b[0;34m\"csr\"\u001b[0m\u001b[0;34m,\u001b[0m\u001b[0;34m\u001b[0m\u001b[0;34m\u001b[0m\u001b[0m\n",
      "\u001b[0;32m/usr/local/lib/python3.10/dist-packages/sklearn/base.py\u001b[0m in \u001b[0;36m_validate_data\u001b[0;34m(self, X, y, reset, validate_separately, **check_params)\u001b[0m\n\u001b[1;32m    563\u001b[0m             \u001b[0;32mraise\u001b[0m \u001b[0mValueError\u001b[0m\u001b[0;34m(\u001b[0m\u001b[0;34m\"Validation should be done on X, y or both.\"\u001b[0m\u001b[0;34m)\u001b[0m\u001b[0;34m\u001b[0m\u001b[0;34m\u001b[0m\u001b[0m\n\u001b[1;32m    564\u001b[0m         \u001b[0;32melif\u001b[0m \u001b[0;32mnot\u001b[0m \u001b[0mno_val_X\u001b[0m \u001b[0;32mand\u001b[0m \u001b[0mno_val_y\u001b[0m\u001b[0;34m:\u001b[0m\u001b[0;34m\u001b[0m\u001b[0;34m\u001b[0m\u001b[0m\n\u001b[0;32m--> 565\u001b[0;31m             \u001b[0mX\u001b[0m \u001b[0;34m=\u001b[0m \u001b[0mcheck_array\u001b[0m\u001b[0;34m(\u001b[0m\u001b[0mX\u001b[0m\u001b[0;34m,\u001b[0m \u001b[0minput_name\u001b[0m\u001b[0;34m=\u001b[0m\u001b[0;34m\"X\"\u001b[0m\u001b[0;34m,\u001b[0m \u001b[0;34m**\u001b[0m\u001b[0mcheck_params\u001b[0m\u001b[0;34m)\u001b[0m\u001b[0;34m\u001b[0m\u001b[0;34m\u001b[0m\u001b[0m\n\u001b[0m\u001b[1;32m    566\u001b[0m             \u001b[0mout\u001b[0m \u001b[0;34m=\u001b[0m \u001b[0mX\u001b[0m\u001b[0;34m\u001b[0m\u001b[0;34m\u001b[0m\u001b[0m\n\u001b[1;32m    567\u001b[0m         \u001b[0;32melif\u001b[0m \u001b[0mno_val_X\u001b[0m \u001b[0;32mand\u001b[0m \u001b[0;32mnot\u001b[0m \u001b[0mno_val_y\u001b[0m\u001b[0;34m:\u001b[0m\u001b[0;34m\u001b[0m\u001b[0;34m\u001b[0m\u001b[0m\n",
      "\u001b[0;32m/usr/local/lib/python3.10/dist-packages/sklearn/utils/validation.py\u001b[0m in \u001b[0;36mcheck_array\u001b[0;34m(array, accept_sparse, accept_large_sparse, dtype, order, copy, force_all_finite, ensure_2d, allow_nd, ensure_min_samples, ensure_min_features, estimator, input_name)\u001b[0m\n\u001b[1;32m    877\u001b[0m                     \u001b[0marray\u001b[0m \u001b[0;34m=\u001b[0m \u001b[0mxp\u001b[0m\u001b[0;34m.\u001b[0m\u001b[0mastype\u001b[0m\u001b[0;34m(\u001b[0m\u001b[0marray\u001b[0m\u001b[0;34m,\u001b[0m \u001b[0mdtype\u001b[0m\u001b[0;34m,\u001b[0m \u001b[0mcopy\u001b[0m\u001b[0;34m=\u001b[0m\u001b[0;32mFalse\u001b[0m\u001b[0;34m)\u001b[0m\u001b[0;34m\u001b[0m\u001b[0;34m\u001b[0m\u001b[0m\n\u001b[1;32m    878\u001b[0m                 \u001b[0;32melse\u001b[0m\u001b[0;34m:\u001b[0m\u001b[0;34m\u001b[0m\u001b[0;34m\u001b[0m\u001b[0m\n\u001b[0;32m--> 879\u001b[0;31m                     \u001b[0marray\u001b[0m \u001b[0;34m=\u001b[0m \u001b[0m_asarray_with_order\u001b[0m\u001b[0;34m(\u001b[0m\u001b[0marray\u001b[0m\u001b[0;34m,\u001b[0m \u001b[0morder\u001b[0m\u001b[0;34m=\u001b[0m\u001b[0morder\u001b[0m\u001b[0;34m,\u001b[0m \u001b[0mdtype\u001b[0m\u001b[0;34m=\u001b[0m\u001b[0mdtype\u001b[0m\u001b[0;34m,\u001b[0m \u001b[0mxp\u001b[0m\u001b[0;34m=\u001b[0m\u001b[0mxp\u001b[0m\u001b[0;34m)\u001b[0m\u001b[0;34m\u001b[0m\u001b[0;34m\u001b[0m\u001b[0m\n\u001b[0m\u001b[1;32m    880\u001b[0m             \u001b[0;32mexcept\u001b[0m \u001b[0mComplexWarning\u001b[0m \u001b[0;32mas\u001b[0m \u001b[0mcomplex_warning\u001b[0m\u001b[0;34m:\u001b[0m\u001b[0;34m\u001b[0m\u001b[0;34m\u001b[0m\u001b[0m\n\u001b[1;32m    881\u001b[0m                 raise ValueError(\n",
      "\u001b[0;32m/usr/local/lib/python3.10/dist-packages/sklearn/utils/_array_api.py\u001b[0m in \u001b[0;36m_asarray_with_order\u001b[0;34m(array, dtype, order, copy, xp)\u001b[0m\n\u001b[1;32m    183\u001b[0m     \u001b[0;32mif\u001b[0m \u001b[0mxp\u001b[0m\u001b[0;34m.\u001b[0m\u001b[0m__name__\u001b[0m \u001b[0;32min\u001b[0m \u001b[0;34m{\u001b[0m\u001b[0;34m\"numpy\"\u001b[0m\u001b[0;34m,\u001b[0m \u001b[0;34m\"numpy.array_api\"\u001b[0m\u001b[0;34m}\u001b[0m\u001b[0;34m:\u001b[0m\u001b[0;34m\u001b[0m\u001b[0;34m\u001b[0m\u001b[0m\n\u001b[1;32m    184\u001b[0m         \u001b[0;31m# Use NumPy API to support order\u001b[0m\u001b[0;34m\u001b[0m\u001b[0;34m\u001b[0m\u001b[0m\n\u001b[0;32m--> 185\u001b[0;31m         \u001b[0marray\u001b[0m \u001b[0;34m=\u001b[0m \u001b[0mnumpy\u001b[0m\u001b[0;34m.\u001b[0m\u001b[0masarray\u001b[0m\u001b[0;34m(\u001b[0m\u001b[0marray\u001b[0m\u001b[0;34m,\u001b[0m \u001b[0morder\u001b[0m\u001b[0;34m=\u001b[0m\u001b[0morder\u001b[0m\u001b[0;34m,\u001b[0m \u001b[0mdtype\u001b[0m\u001b[0;34m=\u001b[0m\u001b[0mdtype\u001b[0m\u001b[0;34m)\u001b[0m\u001b[0;34m\u001b[0m\u001b[0;34m\u001b[0m\u001b[0m\n\u001b[0m\u001b[1;32m    186\u001b[0m         \u001b[0;32mreturn\u001b[0m \u001b[0mxp\u001b[0m\u001b[0;34m.\u001b[0m\u001b[0masarray\u001b[0m\u001b[0;34m(\u001b[0m\u001b[0marray\u001b[0m\u001b[0;34m,\u001b[0m \u001b[0mcopy\u001b[0m\u001b[0;34m=\u001b[0m\u001b[0mcopy\u001b[0m\u001b[0;34m)\u001b[0m\u001b[0;34m\u001b[0m\u001b[0;34m\u001b[0m\u001b[0m\n\u001b[1;32m    187\u001b[0m     \u001b[0;32melse\u001b[0m\u001b[0;34m:\u001b[0m\u001b[0;34m\u001b[0m\u001b[0;34m\u001b[0m\u001b[0m\n",
      "\u001b[0;32m/usr/local/lib/python3.10/dist-packages/pandas/core/series.py\u001b[0m in \u001b[0;36m__array__\u001b[0;34m(self, dtype)\u001b[0m\n\u001b[1;32m    891\u001b[0m               dtype='datetime64[ns]')\n\u001b[1;32m    892\u001b[0m         \"\"\"\n\u001b[0;32m--> 893\u001b[0;31m         \u001b[0;32mreturn\u001b[0m \u001b[0mnp\u001b[0m\u001b[0;34m.\u001b[0m\u001b[0masarray\u001b[0m\u001b[0;34m(\u001b[0m\u001b[0mself\u001b[0m\u001b[0;34m.\u001b[0m\u001b[0m_values\u001b[0m\u001b[0;34m,\u001b[0m \u001b[0mdtype\u001b[0m\u001b[0;34m)\u001b[0m\u001b[0;34m\u001b[0m\u001b[0;34m\u001b[0m\u001b[0m\n\u001b[0m\u001b[1;32m    894\u001b[0m \u001b[0;34m\u001b[0m\u001b[0m\n\u001b[1;32m    895\u001b[0m     \u001b[0;31m# ----------------------------------------------------------------------\u001b[0m\u001b[0;34m\u001b[0m\u001b[0;34m\u001b[0m\u001b[0m\n",
      "\u001b[0;31mValueError\u001b[0m: only one element tensors can be converted to Python scalars"
     ]
    }
   ],
   "source": [
    "method = 'bert_sentence_title_embedding'\n",
    "# initialize kmeans with 3 centroids\n",
    "kmeans = KMeans(n_clusters=3, random_state=42)\n",
    "\n",
    "\n",
    "# fit the model\n",
    "kmeans.fit(embedding)\n",
    "\n",
    "# store cluster labels in a variable\n",
    "clusters = kmeans.labels_\n",
    "\n",
    "# Assign clusters to our dataframe\n",
    "clusters_result_name = f'cluster_bert_embeddings'\n",
    "df['bert_clusters'] = clusters\n",
    "\n",
    "eval_cluster(embedding)\n",
    "\n",
    "dimension_reduction(embedding, method)\n",
    "\n",
    "plot_pca(f'x0_{method}', f'x1_{method}', cluster_name=clusters_result_name, method=method)"
   ]
  }
 ],
 "metadata": {
  "accelerator": "GPU",
  "colab": {
   "gpuType": "T4",
   "provenance": []
  },
  "kernelspec": {
   "display_name": "Python 3 (ipykernel)",
   "language": "python",
   "name": "python3"
  },
  "language_info": {
   "codemirror_mode": {
    "name": "ipython",
    "version": 3
   },
   "file_extension": ".py",
   "mimetype": "text/x-python",
   "name": "python",
   "nbconvert_exporter": "python",
   "pygments_lexer": "ipython3",
   "version": "3.10.13"
  }
 },
 "nbformat": 4,
 "nbformat_minor": 5
}
