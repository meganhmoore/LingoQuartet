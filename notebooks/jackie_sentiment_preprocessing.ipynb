{
 "cells": [
  {
   "cell_type": "markdown",
   "metadata": {},
   "source": [
    "# Sentiment Analysis Preprocessing\n",
    "\n",
    "Preprocessing specifically for sentiment analysis"
   ]
  },
  {
   "cell_type": "markdown",
   "metadata": {},
   "source": [
    "Preprocessing Notes:  \n",
    "For sentiment analysis, using uncleaned version of data. We want to leave text close to its original form: no lowercaseing everything, no lemmatizing, etc.   \n",
    "See https://towardsdatascience.com/are-you-scared-vader-understanding-how-nlp-pre-processing-impacts-vader-scoring-4f4edadbc91d "
   ]
  },
  {
   "cell_type": "code",
   "execution_count": 132,
   "metadata": {},
   "outputs": [],
   "source": [
    "#import json\n",
    "import pandas as pd\n",
    "from nltk import tokenize\n",
    "from vaderSentiment.vaderSentiment import SentimentIntensityAnalyzer\n",
    "#import nltk\n",
    "#nltk.download('vader_lexicon')\n",
    "import re\n",
    "import regex\n",
    "import matplotlib.pyplot as plt"
   ]
  },
  {
   "cell_type": "markdown",
   "metadata": {},
   "source": [
    "## Read In Data"
   ]
  },
  {
   "cell_type": "code",
   "execution_count": 3,
   "metadata": {},
   "outputs": [],
   "source": [
    "dfraw = pd.read_json('../data/metadata_w_2020articles.json')\n"
   ]
  },
  {
   "cell_type": "code",
   "execution_count": 137,
   "metadata": {},
   "outputs": [],
   "source": [
    "df = dfraw.T.reset_index().rename(columns={'index':'uuid'})"
   ]
  },
  {
   "cell_type": "markdown",
   "metadata": {},
   "source": [
    "## Preprocessing"
   ]
  },
  {
   "cell_type": "code",
   "execution_count": 138,
   "metadata": {},
   "outputs": [
    {
     "data": {
      "text/plain": [
       "Index(['uuid', 'source', 'year', 'article_text', 'title', 'full_article_text'], dtype='object')"
      ]
     },
     "execution_count": 138,
     "metadata": {},
     "output_type": "execute_result"
    }
   ],
   "source": [
    "df.columns"
   ]
  },
  {
   "cell_type": "code",
   "execution_count": 139,
   "metadata": {},
   "outputs": [],
   "source": [
    "#remove certain characters for newline, tab from text and title\n",
    "df['title'] = df['title'].apply(lambda x: re.sub(r'[\\n\\t\\r]', '', x))\n",
    "df['article_text'] = df['article_text'].apply(lambda x: re.sub(r'[\\n\\t\\r]', '', x))\n",
    "df['full_article_text'] = df['full_article_text'].apply(lambda x: re.sub(r'[\\n\\t\\r]', '', x))\n",
    "\n",
    "\n",
    "#remove certain quote characters. this quote led to neutral vader sentiment scores. \n",
    "df['title'] = df['title'].apply(lambda x: re.sub(r'[’‘\"]' , '', x))\n",
    "df['article_text'] = df['article_text'].apply(lambda x: re.sub(r'[’‘\"]', '', x))\n",
    "df['full_article_text'] = df['full_article_text'].apply(lambda x: re.sub(r'[’‘\"]', '', x))\n",
    "\n"
   ]
  },
  {
   "cell_type": "code",
   "execution_count": 140,
   "metadata": {},
   "outputs": [
    {
     "name": "stdout",
     "output_type": "stream",
     "text": [
      "Number of empty articles:  9\n",
      "Number of empty articles:  9\n",
      "Article count pre drop:  37044\n",
      "Article count post drop:  37035\n"
     ]
    }
   ],
   "source": [
    "# clean out len 0 articels\n",
    "\n",
    "#how many empty articles?\n",
    "print(\"Number of empty articles: \", len(df[df['article_text'].str.len() == 0]))\n",
    "print(\"Number of empty articles: \", len(df[df['full_article_text'].str.len() == 0]))\n",
    "print(\"Article count pre drop: \", df.shape[0])\n",
    "\n",
    "df = df[df['article_text'].str.len() > 0]\n",
    "\n",
    "print(\"Article count post drop: \",  df.shape[0])\n"
   ]
  },
  {
   "cell_type": "markdown",
   "metadata": {},
   "source": [
    "We notice thats some sentences are missing a space between sentences. Without the space, the sentences get lumped together and the tokenizer recognizes them as one sentence rather than two. This seems to happen where there should new paragraphs (perhaps a paragrah identifer was in the raw scraped data but was replaced \"\" rather than \" \").\n",
    "\n",
    "We use regex to find these sentences and add a space to them."
   ]
  },
  {
   "cell_type": "code",
   "execution_count": 141,
   "metadata": {},
   "outputs": [
    {
     "name": "stdout",
     "output_type": "stream",
     "text": [
      "TITLE:  Trump slams relief bill, calls on Congress to increase stimulus money\n",
      "TEXT 512:  President Trump on Tuesday evening blasted Congress over the already-passed COVID-19 relief package and called on both chambers to send him a new bill increasing stimulus checks from $600 to $2,000.The president expressed dismay with the $2.3 trillion package that Congress passed Monday, which includes $900 billion in coronavirus relief and $1.4 trillion to fund the government until October, conflating the two bills and saying the spending goals were misguided.“A few months ago, Congress started negotiation\n",
      "TEXT Full:  President Trump on Tuesday evening blasted Congress over the already-passed COVID-19 relief package and called on both chambers to send him a new bill increasing stimulus checks from $600 to $2,000.The president expressed dismay with the $2.3 trillion package that Congress passed Monday, which includes $900 billion in coronavirus relief and $1.4 trillion to fund the government until October, conflating the two bills and saying the spending goals were misguided.“A few months ago, Congress started negotiations on a new package to get urgently needed help to the American people. Its taken forever. However, the bill they are now planning to send back to my desk is much different than anticipated. It really is a disgrace,” Trump said in a video posted to Twitter.“Despite all of this wasteful spending and much more, the $900 billion package provides hardworking taxpayers with only $600 each in relief payments, and not enough money is given to small businesses, and in particular restaurants, whose owners have suffered so grievously,” he added.The bill includes special terms for restaurants and hotels to access larger loans from the Paycheck Protection Program, a move praised by the National Restaurant Association. It does not include the Restaurants Act, a bill the restaurant industry had pushed for earlier that would have set aside $120 billion in funds for restaurants or bars with fewer than 20 locations.pic.twitter.com/v9Rdjz6DNu— Donald J. Trump (@realDonaldTrump) December 23, 2020Trump cited a slew of provisions from the government funding bill as wasteful add-ons to the COVID-19 package, including $85.5 million for assistance to Cambodia and $40 million for the Kennedy Center in Washington. He also falsely claimed that the bill provided more stimulus funds for noncitizens than citizens.The COVID-19 relief bill prevented undocumented immigrants from receiving stimulus checks but did allow mixed-status households to receive the checks. In such households, only the citizen adult and the children would receive funds.Trump did not explicitly threaten to veto the package, which passed both chambers with overwhelming, veto-proof majorities. If he vetoes or opts not to sign the bill by Monday at midnight, the government will shut down and several key unemployment benefits will expire.The federal government is currently funded through Dec. 28 as part of a stopgap bill. House Speaker Nancy Pelosi (D-Calif.), who spent months pushing for a larger COVID-19 relief bill in the face of GOP opposition, quickly responded to the tweet, saying she was in full support of increasing the size of the stimulus checks. “Republicans repeatedly refused to say what amount the President wanted for direct checks. At last, the President has agreed to $2,000 — Democrats are ready to bring this to the Floor this week by unanimous consent. Lets do it!” Pelosi tweeted.Sen. Lindsey Graham (R-S.C.), a top Trump ally in Congress, urged the president on Tuesday night to quickly sign the COVID-19 relief bill, even if it is imperfect.“The #COVID19 package, while imperfect, will save jobs and lives. The sooner the bill becomes law – the better,” he wrote on Twitter.Trump, who was largely absent from negotiations over the COVID-19 bill in the aftermath of his election loss, reportedly planned to issue a similar statement calling for larger checks as talks neared their end last week, according to The Washington Post.Congressional Republicans, who insisted that the relief bill remain under $1 trillion, reportedly talked him out of the idea, warning that it would blow up the talks as they neared their deadline.Trump instead Tweeted out that “stimulus talks [are] looking very good.”Trumps request comes after Congress has already left town for the Christmas holiday. The Senate is due to return on Dec. 29, a day after government funding is set to expire, in order to override a possible veto on another bill with strong bipartisan backing: the National Defense Authorization Act.The key defense legislation has passed and been signed into law every year for the last 59 years.Trump released the video Tuesday night calling on Congress to send him a new bill as his administration announced that he had granted clemency to three former GOP congressmen along with two people charged as part of former special counsel Robert Muellers investigation.Those granted a pardon included George Papadopoulos, who served as a foreign policy adviser to Trumps campaign in 2016 and pleaded guilty to lying to federal investigators as part of Muellers Russia probe; former GOP Rep. Duncan Hunter (Calif.), who pleaded guilty last year to misusing campaign funds; former GOP Rep. Chris Collins (N.Y.), who pleaded guilty in 2019 to conspiracy to commit securities fraud and lying to the FBI; and former GOP Rep. Steve Stockman (Texas), who was convicted in 2018 of money laundering, conspiracy and other charges.Updated: 9:39 p.m.\n"
     ]
    }
   ],
   "source": [
    "# looking at text to investigate the issue\n",
    "\n",
    "test_num = 3\n",
    "\n",
    "print(\"TITLE: \",df['title'][test_num])\n",
    "print(\"TEXT 512: \", df['article_text'][test_num])\n",
    "print(\"TEXT Full: \", df['full_article_text'][test_num])"
   ]
  },
  {
   "cell_type": "code",
   "execution_count": 142,
   "metadata": {},
   "outputs": [],
   "source": [
    "# Look for pattern: lowercase then ?.!, directly followed by a capital letter\n",
    "missing_space_regex = re.compile(r'(?<=[a-z][?.!])(?=[A-Z])') #(?![\\d\\s])\n",
    "# Look for pattern: lowercase then ?.!, directly followed by a quote and then a capital letter\n",
    "missing_space_regex_quote = re.compile(r'(?<=[a-z][?.!])(?=[\"“][A-Z])')\n",
    "\n",
    "# With quotes, it hard to program which sentence a quote should be associated with: \n",
    "# i.e.: ... a “big win” for U.S. special forces.“Big win for our very elite ...\n",
    "# Given that whole problem with spaces not separating sentences seems to occur at paragraph breaks,\n",
    "# i assume we should add a space before the quotes. \n",
    "\n",
    "def add_missing_spaces(text):\n",
    "    return missing_space_regex.sub(' ', text)\n",
    "    \n",
    "def add_missing_spaces_quote(text): \n",
    "    return missing_space_regex_quote.sub(' ',text)\n",
    "\n",
    "\n",
    "#quotetest = 'Test.\"Big'\n",
    "#print(add_missing_spaces_quote(quotetest))\n",
    "\n",
    "# Apply the function to the 'text' columns\n",
    "df['corrected_article_text'] = df['article_text'].apply(add_missing_spaces)\n",
    "df['corrected_article_text'] = df['corrected_article_text'].apply(add_missing_spaces_quote)\n",
    "\n",
    "df['corrected_article_text_full'] = df['full_article_text'].apply(add_missing_spaces)\n",
    "df['corrected_article_text_full'] = df['corrected_article_text_full'].apply(add_missing_spaces_quote)\n"
   ]
  },
  {
   "cell_type": "code",
   "execution_count": 143,
   "metadata": {},
   "outputs": [
    {
     "name": "stdout",
     "output_type": "stream",
     "text": [
      "TEXT 512 original:  President Trump on Tuesday evening blasted Congress over the already-passed COVID-19 relief package and called on both chambers to send him a new bill increasing stimulus checks from $600 to $2,000.The president expressed dismay with the $2.3 trillion package that Congress passed Monday, which includes $900 billion in coronavirus relief and $1.4 trillion to fund the government until October, conflating the two bills and saying the spending goals were misguided.“A few months ago, Congress started negotiation\n",
      "TEXT 512 corrected:  President Trump on Tuesday evening blasted Congress over the already-passed COVID-19 relief package and called on both chambers to send him a new bill increasing stimulus checks from $600 to $2,000.The president expressed dismay with the $2.3 trillion package that Congress passed Monday, which includes $900 billion in coronavirus relief and $1.4 trillion to fund the government until October, conflating the two bills and saying the spending goals were misguided. “A few months ago, Congress started negotiation\n",
      "TEXT Full corrected:  President Trump on Tuesday evening blasted Congress over the already-passed COVID-19 relief package and called on both chambers to send him a new bill increasing stimulus checks from $600 to $2,000.The president expressed dismay with the $2.3 trillion package that Congress passed Monday, which includes $900 billion in coronavirus relief and $1.4 trillion to fund the government until October, conflating the two bills and saying the spending goals were misguided. “A few months ago, Congress started negotiations on a new package to get urgently needed help to the American people. Its taken forever. However, the bill they are now planning to send back to my desk is much different than anticipated. It really is a disgrace,” Trump said in a video posted to Twitter. “Despite all of this wasteful spending and much more, the $900 billion package provides hardworking taxpayers with only $600 each in relief payments, and not enough money is given to small businesses, and in particular restaurants, whose owners have suffered so grievously,” he added. The bill includes special terms for restaurants and hotels to access larger loans from the Paycheck Protection Program, a move praised by the National Restaurant Association. It does not include the Restaurants Act, a bill the restaurant industry had pushed for earlier that would have set aside $120 billion in funds for restaurants or bars with fewer than 20 locations.pic.twitter.com/v9Rdjz6DNu— Donald J. Trump (@realDonaldTrump) December 23, 2020Trump cited a slew of provisions from the government funding bill as wasteful add-ons to the COVID-19 package, including $85.5 million for assistance to Cambodia and $40 million for the Kennedy Center in Washington. He also falsely claimed that the bill provided more stimulus funds for noncitizens than citizens. The COVID-19 relief bill prevented undocumented immigrants from receiving stimulus checks but did allow mixed-status households to receive the checks. In such households, only the citizen adult and the children would receive funds. Trump did not explicitly threaten to veto the package, which passed both chambers with overwhelming, veto-proof majorities. If he vetoes or opts not to sign the bill by Monday at midnight, the government will shut down and several key unemployment benefits will expire. The federal government is currently funded through Dec. 28 as part of a stopgap bill. House Speaker Nancy Pelosi (D-Calif.), who spent months pushing for a larger COVID-19 relief bill in the face of GOP opposition, quickly responded to the tweet, saying she was in full support of increasing the size of the stimulus checks. “Republicans repeatedly refused to say what amount the President wanted for direct checks. At last, the President has agreed to $2,000 — Democrats are ready to bring this to the Floor this week by unanimous consent. Lets do it!” Pelosi tweeted. Sen. Lindsey Graham (R-S.C.), a top Trump ally in Congress, urged the president on Tuesday night to quickly sign the COVID-19 relief bill, even if it is imperfect. “The #COVID19 package, while imperfect, will save jobs and lives. The sooner the bill becomes law – the better,” he wrote on Twitter. Trump, who was largely absent from negotiations over the COVID-19 bill in the aftermath of his election loss, reportedly planned to issue a similar statement calling for larger checks as talks neared their end last week, according to The Washington Post. Congressional Republicans, who insisted that the relief bill remain under $1 trillion, reportedly talked him out of the idea, warning that it would blow up the talks as they neared their deadline. Trump instead Tweeted out that “stimulus talks [are] looking very good.”Trumps request comes after Congress has already left town for the Christmas holiday. The Senate is due to return on Dec. 29, a day after government funding is set to expire, in order to override a possible veto on another bill with strong bipartisan backing: the National Defense Authorization Act. The key defense legislation has passed and been signed into law every year for the last 59 years. Trump released the video Tuesday night calling on Congress to send him a new bill as his administration announced that he had granted clemency to three former GOP congressmen along with two people charged as part of former special counsel Robert Muellers investigation. Those granted a pardon included George Papadopoulos, who served as a foreign policy adviser to Trumps campaign in 2016 and pleaded guilty to lying to federal investigators as part of Muellers Russia probe; former GOP Rep. Duncan Hunter (Calif.), who pleaded guilty last year to misusing campaign funds; former GOP Rep. Chris Collins (N.Y.), who pleaded guilty in 2019 to conspiracy to commit securities fraud and lying to the FBI; and former GOP Rep. Steve Stockman (Texas), who was convicted in 2018 of money laundering, conspiracy and other charges. Updated: 9:39 p.m.\n"
     ]
    }
   ],
   "source": [
    "#confirm it looks right now\n",
    "\n",
    "test_num = 3\n",
    "\n",
    "print(\"TEXT 512 original: \", df['article_text'][test_num])\n",
    "print(\"TEXT 512 corrected: \", df['corrected_article_text'][test_num])\n",
    "print(\"TEXT Full corrected: \", df['corrected_article_text_full'][test_num])"
   ]
  },
  {
   "cell_type": "code",
   "execution_count": 144,
   "metadata": {},
   "outputs": [],
   "source": [
    "#df = df[0:10]\n",
    "\n",
    "# replace the orig cols with corrected\n",
    "df['article_text'] = df['corrected_article_text']\n",
    "df['full_article_text'] = df['corrected_article_text_full']\n",
    "\n",
    "\n",
    "# concatenate shortened text and title\n",
    "# this may not be that interesting for sentiment analysis\n",
    "# not reshortening here\n",
    "df['title_text'] = (df['title'] + '. ' +  df['article_text'])#.apply(lambda x: x[:512])"
   ]
  },
  {
   "cell_type": "code",
   "execution_count": 145,
   "metadata": {},
   "outputs": [
    {
     "data": {
      "text/plain": [
       "Index(['uuid', 'source', 'year', 'article_text', 'title', 'full_article_text',\n",
       "       'corrected_article_text', 'corrected_article_text_full', 'title_text'],\n",
       "      dtype='object')"
      ]
     },
     "execution_count": 145,
     "metadata": {},
     "output_type": "execute_result"
    }
   ],
   "source": [
    "df.columns\n"
   ]
  },
  {
   "cell_type": "code",
   "execution_count": 146,
   "metadata": {},
   "outputs": [],
   "source": [
    "df = df.drop(['corrected_article_text','corrected_article_text_full'], axis=1)\n"
   ]
  },
  {
   "cell_type": "code",
   "execution_count": 147,
   "metadata": {},
   "outputs": [
    {
     "name": "stdout",
     "output_type": "stream",
     "text": [
      "Index(['uuid', 'source', 'year', 'article_text', 'title', 'full_article_text',\n",
      "       'title_text'],\n",
      "      dtype='object')\n",
      "37035\n"
     ]
    }
   ],
   "source": [
    "print(df.columns)\n",
    "print(len(df))\n"
   ]
  },
  {
   "cell_type": "code",
   "execution_count": 148,
   "metadata": {},
   "outputs": [],
   "source": [
    "# makeing sentiment analysis dataset:\n",
    "df.to_csv('../data/2020articles_cleaned_forsentiment.csv')"
   ]
  }
 ],
 "metadata": {
  "kernelspec": {
   "display_name": "Python 3.10.13 ('capp30255')",
   "language": "python",
   "name": "python3"
  },
  "language_info": {
   "codemirror_mode": {
    "name": "ipython",
    "version": 3
   },
   "file_extension": ".py",
   "mimetype": "text/x-python",
   "name": "python",
   "nbconvert_exporter": "python",
   "pygments_lexer": "ipython3",
   "version": "3.10.13"
  },
  "orig_nbformat": 4,
  "vscode": {
   "interpreter": {
    "hash": "0f8cb61b81dc3ce2670cbaa0dd80498fa1179fcecf7966dc7a316b7b0ee2d652"
   }
  }
 },
 "nbformat": 4,
 "nbformat_minor": 2
}
