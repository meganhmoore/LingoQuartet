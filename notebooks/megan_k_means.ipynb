{
 "cells": [
  {
   "cell_type": "markdown",
   "id": "b14c61dd-0f6c-46e8-82d2-beaf2d7ca725",
   "metadata": {},
   "source": [
    "## This was run in AWS"
   ]
  },
  {
   "cell_type": "code",
   "execution_count": 28,
   "id": "546495b6-a1a4-47e7-9f55-652278d61aa7",
   "metadata": {},
   "outputs": [
    {
     "name": "stdout",
     "output_type": "stream",
     "text": [
      "Collecting kmeans-pytorch\n",
      "  Downloading kmeans_pytorch-0.3-py3-none-any.whl (4.4 kB)\n",
      "Installing collected packages: kmeans-pytorch\n",
      "Successfully installed kmeans-pytorch-0.3\n"
     ]
    }
   ],
   "source": [
    "# !pip install seaborn\n",
    "# ! pip install kmeans-pytorch"
   ]
  },
  {
   "cell_type": "code",
   "execution_count": 29,
   "id": "99f0d5b8-8ad5-447d-95ee-0ae7c090b600",
   "metadata": {},
   "outputs": [],
   "source": [
    "import matplotlib.pyplot as plt\n",
    "import numpy as np\n",
    "import pandas as pd\n",
    "import seaborn as sns\n",
    "import torch\n",
    "\n",
    "# from sklearn.cluster import KMeans\n",
    "from kmeans_pytorch import kmeans\n",
    "from sklearn.metrics import adjusted_rand_score, normalized_mutual_info_score, fowlkes_mallows_score # TODO read about these scoring mechanisms\n",
    "from sklearn.decomposition import PCA"
   ]
  },
  {
   "cell_type": "code",
   "execution_count": 30,
   "id": "86e04b1e-4eb5-4ce7-9c3b-aa291fdd73a0",
   "metadata": {},
   "outputs": [],
   "source": [
    "df = pd.read_pickle(\"./data/clean_2020articles_w_title_embeddings.pkl\")"
   ]
  },
  {
   "cell_type": "code",
   "execution_count": 37,
   "id": "a5edc056-5400-4183-a21f-03d6e3a14f63",
   "metadata": {
    "scrolled": true
   },
   "outputs": [],
   "source": [
    "embedding = df['bert_sentence_embedding_title_only'].squeeze()"
   ]
  },
  {
   "cell_type": "code",
   "execution_count": 19,
   "id": "956cfa1e-f69a-45cc-add6-730d96fe08a9",
   "metadata": {},
   "outputs": [],
   "source": [
    "def eval_cluster(embedding, kmeans):\n",
    "    y_pred = kmeans.fit_predict(embedding)\n",
    "\n",
    "    # Evaluate the performance using ARI, NMI, and FMI\n",
    "    ari = adjusted_rand_score(df[\"target\"], y_pred)\n",
    "    nmi = normalized_mutual_info_score(df[\"target\"], y_pred)\n",
    "    fmi = fowlkes_mallows_score(df[\"target\"], y_pred)\n",
    "\n",
    "    # Print Metrics scores\n",
    "    print(\"Adjusted Rand Index (ARI): {:.3f}\".format(ari))\n",
    "    print(\"Normalized Mutual Information (NMI): {:.3f}\".format(nmi))\n",
    "    print(\"Fowlkes-Mallows Index (FMI): {:.3f}\".format(fmi))"
   ]
  },
  {
   "cell_type": "code",
   "execution_count": 20,
   "id": "d2d13238-643d-410a-b332-932d4785a5c9",
   "metadata": {},
   "outputs": [],
   "source": [
    "def dimension_reduction(embedding, method):\n",
    "\n",
    "    pca = PCA(n_components=2, random_state=42)\n",
    "\n",
    "    pca_vecs = pca.fit_transform(embedding)\n",
    "\n",
    "    # save our two dimensions into x0 and x1\n",
    "    x0 = pca_vecs[:, 0]\n",
    "    x1 = pca_vecs[:, 1]\n",
    "\n",
    "    df[f'x0_{method}'] = x0\n",
    "    df[f'x1_{method}'] = x1"
   ]
  },
  {
   "cell_type": "code",
   "execution_count": 21,
   "id": "b7edbd0d-8698-4f67-8fd9-43b03e4f42d4",
   "metadata": {},
   "outputs": [],
   "source": [
    "def plot_pca(x0_name, x1_name, cluster_name, method):\n",
    "\n",
    "    plt.figure(figsize=(12, 7))\n",
    "\n",
    "    plt.title(f\"TF-IDF + KMeans 20newsgroup clustering with {method}\", fontdict={\"fontsize\": 18})\n",
    "    plt.xlabel(\"X0\", fontdict={\"fontsize\": 16})\n",
    "    plt.ylabel(\"X1\", fontdict={\"fontsize\": 16})\n",
    "\n",
    "    sns.scatterplot(data=df, x=x0_name, y=x1_name, hue=cluster_name, palette=\"viridis\")\n",
    "    plt.show()"
   ]
  },
  {
   "cell_type": "code",
   "execution_count": 32,
   "id": "56f9cbcd-3ab3-4133-a1f9-b92e9b3e44b0",
   "metadata": {},
   "outputs": [],
   "source": [
    "# method = 'bert_sentence_title_embedding'\n",
    "# # initialize kmeans with 3 centroids\n",
    "# kmeans = KMeans(n_clusters=3, random_state=42)\n",
    "\n",
    "\n",
    "# # fit the model\n",
    "# kmeans.fit(embedding)\n",
    "\n",
    "# # store cluster labels in a variable\n",
    "# clusters = kmeans.labels_\n",
    "\n",
    "# # Assign clusters to our dataframe\n",
    "# clusters_result_name = f'cluster_bert_embeddings'\n",
    "# df['bert_clusters'] = clusters\n",
    "\n",
    "# eval_cluster(embedding)\n",
    "\n",
    "# dimension_reduction(embedding, method)\n",
    "\n",
    "# plot_pca(f'x0_{method}', f'x1_{method}', cluster_name=clusters_result_name, method=method)"
   ]
  },
  {
   "cell_type": "code",
   "execution_count": 41,
   "id": "83d4ba14-b782-4199-b64d-5d4fcdcbb1ab",
   "metadata": {},
   "outputs": [
    {
     "name": "stdout",
     "output_type": "stream",
     "text": [
      "running k-means on cuda:0..\n"
     ]
    },
    {
     "ename": "AttributeError",
     "evalue": "'numpy.ndarray' object has no attribute 'float'",
     "output_type": "error",
     "traceback": [
      "\u001b[0;31m---------------------------------------------------------------------------\u001b[0m",
      "\u001b[0;31mAttributeError\u001b[0m                            Traceback (most recent call last)",
      "Cell \u001b[0;32mIn[41], line 6\u001b[0m\n\u001b[1;32m      3\u001b[0m \u001b[38;5;28;01melse\u001b[39;00m:\n\u001b[1;32m      4\u001b[0m     device \u001b[38;5;241m=\u001b[39m torch\u001b[38;5;241m.\u001b[39mdevice(\u001b[38;5;124m'\u001b[39m\u001b[38;5;124mcpu\u001b[39m\u001b[38;5;124m'\u001b[39m)\n\u001b[0;32m----> 6\u001b[0m cluster_ids_x, cluster_centers \u001b[38;5;241m=\u001b[39m \u001b[43mkmeans\u001b[49m\u001b[43m(\u001b[49m\n\u001b[1;32m      7\u001b[0m \u001b[43m    \u001b[49m\u001b[43mX\u001b[49m\u001b[38;5;241;43m=\u001b[39;49m\u001b[43membedding\u001b[49m\u001b[38;5;241;43m.\u001b[39;49m\u001b[43mvalues\u001b[49m\u001b[43m,\u001b[49m\u001b[43m \u001b[49m\u001b[43mnum_clusters\u001b[49m\u001b[38;5;241;43m=\u001b[39;49m\u001b[38;5;241;43m3\u001b[39;49m\u001b[43m,\u001b[49m\u001b[43m \u001b[49m\u001b[43mdistance\u001b[49m\u001b[38;5;241;43m=\u001b[39;49m\u001b[38;5;124;43m'\u001b[39;49m\u001b[38;5;124;43meuclidean\u001b[39;49m\u001b[38;5;124;43m'\u001b[39;49m\u001b[43m,\u001b[49m\u001b[43m \u001b[49m\u001b[43mdevice\u001b[49m\u001b[38;5;241;43m=\u001b[39;49m\u001b[43mdevice\u001b[49m\n\u001b[1;32m      8\u001b[0m \u001b[43m)\u001b[49m\n",
      "File \u001b[0;32m/opt/conda/lib/python3.10/site-packages/kmeans_pytorch/__init__.py:45\u001b[0m, in \u001b[0;36mkmeans\u001b[0;34m(X, num_clusters, distance, tol, device)\u001b[0m\n\u001b[1;32m     42\u001b[0m     \u001b[38;5;28;01mraise\u001b[39;00m \u001b[38;5;167;01mNotImplementedError\u001b[39;00m\n\u001b[1;32m     44\u001b[0m \u001b[38;5;66;03m# convert to float\u001b[39;00m\n\u001b[0;32m---> 45\u001b[0m X \u001b[38;5;241m=\u001b[39m \u001b[43mX\u001b[49m\u001b[38;5;241;43m.\u001b[39;49m\u001b[43mfloat\u001b[49m()\n\u001b[1;32m     47\u001b[0m \u001b[38;5;66;03m# transfer to device\u001b[39;00m\n\u001b[1;32m     48\u001b[0m X \u001b[38;5;241m=\u001b[39m X\u001b[38;5;241m.\u001b[39mto(device)\n",
      "\u001b[0;31mAttributeError\u001b[0m: 'numpy.ndarray' object has no attribute 'float'"
     ]
    }
   ],
   "source": [
    "if torch.cuda.is_available():\n",
    "    device = torch.device('cuda:0')\n",
    "else:\n",
    "    device = torch.device('cpu')\n",
    "\n",
    "cluster_ids_x, cluster_centers = kmeans(\n",
    "    X=embedding.values, num_clusters=3, distance='euclidean', device=device\n",
    ")"
   ]
  },
  {
   "cell_type": "code",
   "execution_count": null,
   "id": "a4c9520e-ec30-4960-9b8e-357c1e7dbbaf",
   "metadata": {},
   "outputs": [],
   "source": []
  }
 ],
 "metadata": {
  "kernelspec": {
   "display_name": "Python 3 (ipykernel)",
   "language": "python",
   "name": "python3"
  },
  "language_info": {
   "codemirror_mode": {
    "name": "ipython",
    "version": 3
   },
   "file_extension": ".py",
   "mimetype": "text/x-python",
   "name": "python",
   "nbconvert_exporter": "python",
   "pygments_lexer": "ipython3",
   "version": "3.10.13"
  }
 },
 "nbformat": 4,
 "nbformat_minor": 5
}
