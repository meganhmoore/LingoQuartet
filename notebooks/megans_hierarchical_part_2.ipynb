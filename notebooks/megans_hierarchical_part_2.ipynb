{
 "cells": [
  {
   "cell_type": "code",
   "execution_count": 3,
   "id": "de133840-ac42-4361-aa55-adfe5597c9c8",
   "metadata": {},
   "outputs": [
    {
     "name": "stdout",
     "output_type": "stream",
     "text": [
      "Collecting gensim\n",
      "  Using cached gensim-4.3.2-cp310-cp310-manylinux_2_17_x86_64.manylinux2014_x86_64.whl.metadata (8.4 kB)\n",
      "Requirement already satisfied: numpy>=1.18.5 in /opt/conda/lib/python3.10/site-packages (from gensim) (1.26.3)\n",
      "Requirement already satisfied: scipy>=1.7.0 in /opt/conda/lib/python3.10/site-packages (from gensim) (1.11.4)\n",
      "Requirement already satisfied: smart-open>=1.8.1 in /opt/conda/lib/python3.10/site-packages (from gensim) (5.2.1)\n",
      "Using cached gensim-4.3.2-cp310-cp310-manylinux_2_17_x86_64.manylinux2014_x86_64.whl (26.5 MB)\n",
      "Installing collected packages: gensim\n",
      "Successfully installed gensim-4.3.2\n"
     ]
    }
   ],
   "source": [
    "!pip install gensim"
   ]
  },
  {
   "cell_type": "code",
   "execution_count": 43,
   "id": "3aa43d10-ed04-411f-adde-3e15492b671b",
   "metadata": {},
   "outputs": [],
   "source": [
    "import pandas as pd\n",
    "import numpy as np\n",
    "from matplotlib import pyplot as plt\n",
    "import scipy.cluster.hierarchy as sch\n",
    "from sklearn.cluster import AgglomerativeClustering\n",
    "from sklearn.feature_extraction.text import CountVectorizer\n",
    "\n",
    "from scipy.cluster.hierarchy import ward, dendrogram, fcluster\n",
    "from sklearn.metrics.pairwise import cosine_similarity\n",
    "from sklearn.metrics import silhouette_score\n",
    "\n",
    "from sklearn.model_selection import train_test_split\n",
    "from gensim.models import FastText"
   ]
  },
  {
   "cell_type": "code",
   "execution_count": 2,
   "id": "aba27170-4ed3-41db-b616-8a5fd6ab35df",
   "metadata": {},
   "outputs": [],
   "source": [
    "embeddings = pd.read_pickle(\"./data/clean_2020articles_w_title_embeddings.pkl\")"
   ]
  },
  {
   "cell_type": "code",
   "execution_count": 5,
   "id": "8309b149-9b2b-4d1c-90b3-8b392d09a8e5",
   "metadata": {},
   "outputs": [],
   "source": [
    "embeddings = pd.read_csv(\"../data/metadata_w_2020articles_cleaned.csv\", index_col=0)"
   ]
  },
  {
   "cell_type": "code",
   "execution_count": 6,
   "id": "3e188ea4-7d2b-4a99-856c-be76837c3c90",
   "metadata": {
    "scrolled": true
   },
   "outputs": [
    {
     "data": {
      "text/html": [
       "<div>\n",
       "<style scoped>\n",
       "    .dataframe tbody tr th:only-of-type {\n",
       "        vertical-align: middle;\n",
       "    }\n",
       "\n",
       "    .dataframe tbody tr th {\n",
       "        vertical-align: top;\n",
       "    }\n",
       "\n",
       "    .dataframe thead th {\n",
       "        text-align: right;\n",
       "    }\n",
       "</style>\n",
       "<table border=\"1\" class=\"dataframe\">\n",
       "  <thead>\n",
       "    <tr style=\"text-align: right;\">\n",
       "      <th></th>\n",
       "      <th>uuid</th>\n",
       "      <th>source</th>\n",
       "      <th>year</th>\n",
       "      <th>article_text</th>\n",
       "      <th>title</th>\n",
       "      <th>title_text</th>\n",
       "    </tr>\n",
       "  </thead>\n",
       "  <tbody>\n",
       "    <tr>\n",
       "      <th>0</th>\n",
       "      <td>bcbc6bb2-406e-11ee-a96e-33dec8f414a2</td>\n",
       "      <td>wp</td>\n",
       "      <td>2020</td>\n",
       "      <td>president trump on monday said he was “proud” ...</td>\n",
       "      <td>trump shifts tone, says he’s ‘proud’ of fed am...</td>\n",
       "      <td>trump shifts tone, says he’s ‘proud’ of fed am...</td>\n",
       "    </tr>\n",
       "    <tr>\n",
       "      <th>1</th>\n",
       "      <td>cfb4ce29-406e-11ee-a96e-33dec8f414a2</td>\n",
       "      <td>wp</td>\n",
       "      <td>2020</td>\n",
       "      <td>u.s. intelligence reportedly indicates iran’s ...</td>\n",
       "      <td>iran paid bounties for targeting us troops, in...</td>\n",
       "      <td>iran paid bounties for targeting us troops, in...</td>\n",
       "    </tr>\n",
       "    <tr>\n",
       "      <th>2</th>\n",
       "      <td>db9f408f-406e-11ee-a96e-33dec8f414a2</td>\n",
       "      <td>wp</td>\n",
       "      <td>2020</td>\n",
       "      <td>u.s. forces have rescued an american citizen h...</td>\n",
       "      <td>us forces rescue american citizen held hostage...</td>\n",
       "      <td>us forces rescue american citizen held hostage...</td>\n",
       "    </tr>\n",
       "    <tr>\n",
       "      <th>3</th>\n",
       "      <td>e7b340f7-406e-11ee-a96e-33dec8f414a2</td>\n",
       "      <td>thehill</td>\n",
       "      <td>2020</td>\n",
       "      <td>president trump on tuesday evening blasted con...</td>\n",
       "      <td>trump slams relief bill, calls on congress to ...</td>\n",
       "      <td>trump slams relief bill, calls on congress to ...</td>\n",
       "    </tr>\n",
       "    <tr>\n",
       "      <th>4</th>\n",
       "      <td>a43934fc-411f-11ee-a96e-33dec8f414a2</td>\n",
       "      <td>thehill</td>\n",
       "      <td>2020</td>\n",
       "      <td>japanese tennis star naomi osaka has withdrawn...</td>\n",
       "      <td>naomi osaka withdraws from french open to focu...</td>\n",
       "      <td>naomi osaka withdraws from french open to focu...</td>\n",
       "    </tr>\n",
       "    <tr>\n",
       "      <th>...</th>\n",
       "      <td>...</td>\n",
       "      <td>...</td>\n",
       "      <td>...</td>\n",
       "      <td>...</td>\n",
       "      <td>...</td>\n",
       "      <td>...</td>\n",
       "    </tr>\n",
       "    <tr>\n",
       "      <th>37039</th>\n",
       "      <td>5d771a58-4136-11ee-a96e-33dec8f414a2</td>\n",
       "      <td>npr</td>\n",
       "      <td>2020</td>\n",
       "      <td>by \\n      npr staff\\n    \\n  \\n              ...</td>\n",
       "      <td>listen: 2020 republican national convention</td>\n",
       "      <td>listen: 2020 republican national convention by...</td>\n",
       "    </tr>\n",
       "    <tr>\n",
       "      <th>37040</th>\n",
       "      <td>b43dcf68-4135-11ee-a96e-33dec8f414a2</td>\n",
       "      <td>npr</td>\n",
       "      <td>2020</td>\n",
       "      <td>\\n      \\n      miles parks\\n    \\n  \\n       ...</td>\n",
       "      <td>new poll: americans overwhelmingly support vot...</td>\n",
       "      <td>new poll: americans overwhelmingly support vot...</td>\n",
       "    </tr>\n",
       "    <tr>\n",
       "      <th>37041</th>\n",
       "      <td>71b70f0c-4137-11ee-a96e-33dec8f414a2</td>\n",
       "      <td>npr</td>\n",
       "      <td>2020</td>\n",
       "      <td>\\n      \\n      rebecca hersher\\n    \\n  \\n   ...</td>\n",
       "      <td>biden to pick north carolina regulator michael...</td>\n",
       "      <td>biden to pick north carolina regulator michael...</td>\n",
       "    </tr>\n",
       "    <tr>\n",
       "      <th>37042</th>\n",
       "      <td>4303ccf8-4137-11ee-a96e-33dec8f414a2</td>\n",
       "      <td>npr</td>\n",
       "      <td>2020</td>\n",
       "      <td>by \\n      \\n      amita kelly\\n    \\n  \\n    ...</td>\n",
       "      <td>harris: 'you ushered in a new day for america'</td>\n",
       "      <td>harris: 'you ushered in a new day for america'...</td>\n",
       "    </tr>\n",
       "    <tr>\n",
       "      <th>37043</th>\n",
       "      <td>843875de-4137-11ee-a96e-33dec8f414a2</td>\n",
       "      <td>npr</td>\n",
       "      <td>2020</td>\n",
       "      <td>\\n      \\n      tamara keith\\n    \\n  \\n      ...</td>\n",
       "      <td>biden names health secretary, covid czar, othe...</td>\n",
       "      <td>biden names health secretary, covid czar, othe...</td>\n",
       "    </tr>\n",
       "  </tbody>\n",
       "</table>\n",
       "<p>37044 rows × 6 columns</p>\n",
       "</div>"
      ],
      "text/plain": [
       "                                       uuid   source  year  \\\n",
       "0      bcbc6bb2-406e-11ee-a96e-33dec8f414a2       wp  2020   \n",
       "1      cfb4ce29-406e-11ee-a96e-33dec8f414a2       wp  2020   \n",
       "2      db9f408f-406e-11ee-a96e-33dec8f414a2       wp  2020   \n",
       "3      e7b340f7-406e-11ee-a96e-33dec8f414a2  thehill  2020   \n",
       "4      a43934fc-411f-11ee-a96e-33dec8f414a2  thehill  2020   \n",
       "...                                     ...      ...   ...   \n",
       "37039  5d771a58-4136-11ee-a96e-33dec8f414a2      npr  2020   \n",
       "37040  b43dcf68-4135-11ee-a96e-33dec8f414a2      npr  2020   \n",
       "37041  71b70f0c-4137-11ee-a96e-33dec8f414a2      npr  2020   \n",
       "37042  4303ccf8-4137-11ee-a96e-33dec8f414a2      npr  2020   \n",
       "37043  843875de-4137-11ee-a96e-33dec8f414a2      npr  2020   \n",
       "\n",
       "                                            article_text  \\\n",
       "0      president trump on monday said he was “proud” ...   \n",
       "1      u.s. intelligence reportedly indicates iran’s ...   \n",
       "2      u.s. forces have rescued an american citizen h...   \n",
       "3      president trump on tuesday evening blasted con...   \n",
       "4      japanese tennis star naomi osaka has withdrawn...   \n",
       "...                                                  ...   \n",
       "37039  by \\n      npr staff\\n    \\n  \\n              ...   \n",
       "37040  \\n      \\n      miles parks\\n    \\n  \\n       ...   \n",
       "37041  \\n      \\n      rebecca hersher\\n    \\n  \\n   ...   \n",
       "37042  by \\n      \\n      amita kelly\\n    \\n  \\n    ...   \n",
       "37043  \\n      \\n      tamara keith\\n    \\n  \\n      ...   \n",
       "\n",
       "                                                   title  \\\n",
       "0      trump shifts tone, says he’s ‘proud’ of fed am...   \n",
       "1      iran paid bounties for targeting us troops, in...   \n",
       "2      us forces rescue american citizen held hostage...   \n",
       "3      trump slams relief bill, calls on congress to ...   \n",
       "4      naomi osaka withdraws from french open to focu...   \n",
       "...                                                  ...   \n",
       "37039        listen: 2020 republican national convention   \n",
       "37040  new poll: americans overwhelmingly support vot...   \n",
       "37041  biden to pick north carolina regulator michael...   \n",
       "37042     harris: 'you ushered in a new day for america'   \n",
       "37043  biden names health secretary, covid czar, othe...   \n",
       "\n",
       "                                              title_text  \n",
       "0      trump shifts tone, says he’s ‘proud’ of fed am...  \n",
       "1      iran paid bounties for targeting us troops, in...  \n",
       "2      us forces rescue american citizen held hostage...  \n",
       "3      trump slams relief bill, calls on congress to ...  \n",
       "4      naomi osaka withdraws from french open to focu...  \n",
       "...                                                  ...  \n",
       "37039  listen: 2020 republican national convention by...  \n",
       "37040  new poll: americans overwhelmingly support vot...  \n",
       "37041  biden to pick north carolina regulator michael...  \n",
       "37042  harris: 'you ushered in a new day for america'...  \n",
       "37043  biden names health secretary, covid czar, othe...  \n",
       "\n",
       "[37044 rows x 6 columns]"
      ]
     },
     "execution_count": 6,
     "metadata": {},
     "output_type": "execute_result"
    }
   ],
   "source": [
    "embeddings"
   ]
  },
  {
   "cell_type": "code",
   "execution_count": 10,
   "id": "f13e8769-92b7-4783-9ded-605770790153",
   "metadata": {},
   "outputs": [],
   "source": [
    "train, test = train_test_split(embeddings, test_size=0.5, random_state=42)\n"
   ]
  },
  {
   "cell_type": "code",
   "execution_count": 12,
   "id": "57b1673c-f951-45bb-b938-0381f0834748",
   "metadata": {},
   "outputs": [
    {
     "data": {
      "text/plain": [
       "array(['washtimes', 'fox', 'dailycaller', 'breitbart', 'npr', 'bbc', 'wp'],\n",
       "      dtype=object)"
      ]
     },
     "execution_count": 12,
     "metadata": {},
     "output_type": "execute_result"
    }
   ],
   "source": [
    "train.loc[:, 'source'].unique()"
   ]
  },
  {
   "cell_type": "code",
   "execution_count": 11,
   "id": "1cd0f54c-a61a-4862-9d38-001292214bd2",
   "metadata": {},
   "outputs": [],
   "source": [
    "corpus = train.loc[:, 'title_text']\n",
    "#corpus"
   ]
  },
  {
   "cell_type": "code",
   "execution_count": 28,
   "id": "d77857e6-249d-4773-9306-d06d129d1f95",
   "metadata": {},
   "outputs": [],
   "source": [
    "# cv = CountVectorizer(ngram_range=(1, 2), min_df=0.001, max_df=0.99)\n",
    "# cv_matrix = cv.fit_transform(corpus)\n",
    "# cv_matrix.shape"
   ]
  },
  {
   "cell_type": "code",
   "execution_count": 13,
   "id": "1de7dfed-1ae1-418b-95c7-4bb1170c52cd",
   "metadata": {},
   "outputs": [],
   "source": [
    "# tokenizing title docs\n",
    "tokenized_docs = [doc.split() for doc in corpus]\n",
    "ft_model = FastText(tokenized_docs, vector_size=512, window=20, min_count=2, \n",
    "                    workers=1, sg=1, seed=42, epochs=10)"
   ]
  },
  {
   "cell_type": "code",
   "execution_count": 14,
   "id": "041a360f-d906-4478-8c7a-4ecd0f247294",
   "metadata": {},
   "outputs": [],
   "source": [
    "def averaged_word2vec_vectorizer(corpus, model, num_features):\n",
    "    vocabulary = set(model.wv.index_to_key)\n",
    "\n",
    "    def average_word_vectors(words, model, vocabulary, num_features):\n",
    "        feature_vector = np.zeros((num_features,), dtype=\"float64\")\n",
    "        nwords = 0.\n",
    "\n",
    "        for word in words:\n",
    "            if word in vocabulary: \n",
    "                nwords = nwords + 1.\n",
    "                feature_vector = np.add(feature_vector, model.wv[word])\n",
    "        if nwords:\n",
    "            feature_vector = np.divide(feature_vector, nwords)\n",
    "\n",
    "        return feature_vector\n",
    "\n",
    "    features = [average_word_vectors(tokenized_sentence, model, vocabulary, num_features)\n",
    "                for tokenized_sentence in corpus]\n",
    "    return np.array(features)"
   ]
  },
  {
   "cell_type": "code",
   "execution_count": 15,
   "id": "2edce787-307a-4682-bc3d-c722497a77d3",
   "metadata": {},
   "outputs": [
    {
     "data": {
      "text/plain": [
       "(18522, 512)"
      ]
     },
     "execution_count": 15,
     "metadata": {},
     "output_type": "execute_result"
    }
   ],
   "source": [
    "doc_vecs_ft = averaged_word2vec_vectorizer(tokenized_docs, ft_model, 512)\n",
    "doc_vecs_ft.shape\n"
   ]
  },
  {
   "cell_type": "code",
   "execution_count": 12,
   "id": "6efa834b-8813-4754-96c3-a967ca794e4d",
   "metadata": {},
   "outputs": [],
   "source": [
    "# doc_vecs_ft[0]"
   ]
  },
  {
   "cell_type": "code",
   "execution_count": 5,
   "id": "17627a32-8071-40a4-bdb8-e51a29af892e",
   "metadata": {},
   "outputs": [],
   "source": [
    "train[\"bert_embeddings\"] = train[\"bert_sentence_embedding_title_only\"].apply(lambda x: x.cpu())\n",
    "train[\"np_embeddings\"] = train[\"bert_embeddings\"].apply(lambda x: x.numpy())\n",
    "np_embedding = np.vstack(train[\"np_embeddings\"])"
   ]
  },
  {
   "cell_type": "code",
   "execution_count": 6,
   "id": "708a1acd-ac56-4f46-93f7-88be02aaacd0",
   "metadata": {},
   "outputs": [
    {
     "data": {
      "text/plain": [
       "22226"
      ]
     },
     "execution_count": 6,
     "metadata": {},
     "output_type": "execute_result"
    }
   ],
   "source": [
    "np_embedding.shape[0]"
   ]
  },
  {
   "cell_type": "code",
   "execution_count": 16,
   "id": "3c92eba3-bb20-4c79-91c0-a63ede1e850d",
   "metadata": {},
   "outputs": [],
   "source": [
    "def ward_hierarchical_clustering(feature_matrix):\n",
    "    cosine_distance = 1 - cosine_similarity(feature_matrix)\n",
    "    linkage_matrix = ward(cosine_distance)\n",
    "    return linkage_matrix"
   ]
  },
  {
   "cell_type": "code",
   "execution_count": 17,
   "id": "0970d5f3-6e09-48da-af40-527da48c9d48",
   "metadata": {},
   "outputs": [],
   "source": [
    "import matplotlib.pyplot as plt\n",
    "%matplotlib inline\n",
    "\n",
    "\n",
    "def plot_hierarchical_clusters(linkage_matrix, data, p=100, figure_size=(8,12)):\n",
    "    # set size\n",
    "    fig, ax = plt.subplots(figsize=figure_size) \n",
    "    titles = data['title'].values.tolist()\n",
    "    # plot dendrogram\n",
    "    R = dendrogram(linkage_matrix, orientation=\"left\",\n",
    "                   truncate_mode='lastp',\n",
    "                   p=p,\n",
    "                   no_plot=True)\n",
    "    temp = {R[\"leaves\"][ii]: titles[ii] for ii in range(len(R[\"leaves\"]))}\n",
    "\n",
    "    def llf(xx):\n",
    "        return \"{}\".format(temp[xx])\n",
    "\n",
    "    ax = dendrogram(\n",
    "            linkage_matrix,\n",
    "            truncate_mode='lastp',\n",
    "            orientation=\"left\",\n",
    "            p=p,\n",
    "            leaf_label_func=llf,\n",
    "            leaf_font_size=10.,\n",
    "            )\n",
    "    plt.tick_params(axis= 'x',   \n",
    "                    which='both',  \n",
    "                    bottom='off',\n",
    "                    top='off',\n",
    "                    labelbottom='off')\n",
    "    plt.tight_layout()\n",
    "    plt.savefig(f'./data/bert_hierachical_clusters_num_docs_{data.shape[0]}_level_{p}.png', dpi=200)"
   ]
  },
  {
   "cell_type": "code",
   "execution_count": 9,
   "id": "08104b90-9388-42e4-87ec-aeed3fff743d",
   "metadata": {},
   "outputs": [],
   "source": [
    "bert_linkage_matrix = ward_hierarchical_clustering(np_embedding)"
   ]
  },
  {
   "cell_type": "code",
   "execution_count": 18,
   "id": "89b4db34-fd37-4d51-8854-6c838b175f22",
   "metadata": {},
   "outputs": [],
   "source": [
    "fast_text_linkage_matrix = ward_hierarchical_clustering(doc_vecs_ft)"
   ]
  },
  {
   "cell_type": "code",
   "execution_count": 19,
   "id": "e0ae0e98-d5e9-42cd-888d-bedb11c1eb6e",
   "metadata": {},
   "outputs": [],
   "source": [
    "# plot_hierarchical_clusters(bert_linkage_matrix,\n",
    "#                            p=10,\n",
    "#                            data=train,\n",
    "#                            figure_size=(18, 30))"
   ]
  },
  {
   "cell_type": "code",
   "execution_count": 20,
   "id": "16b0aafa-4124-4e9a-adbb-bec4e6ed9f43",
   "metadata": {},
   "outputs": [],
   "source": [
    "# plot_hierarchical_clusters(bert_linkage_matrix,\n",
    "#                            p=100,\n",
    "#                            data=train,\n",
    "#                            figure_size=(18, 30))"
   ]
  },
  {
   "cell_type": "code",
   "execution_count": 13,
   "id": "2e39c17e-0e8e-4ecc-8315-e464b90268cd",
   "metadata": {},
   "outputs": [
    {
     "data": {
      "text/plain": [
       "233"
      ]
     },
     "execution_count": 13,
     "metadata": {},
     "output_type": "execute_result"
    }
   ],
   "source": [
    "# This actually assigns a cluster number to each item depending on a certain cutoff point\n",
    "# using a distance of 15 would give us 27 clusters!!\n",
    "fcluster(bert_linkage_matrix, 20, criterion='distance').max()"
   ]
  },
  {
   "cell_type": "code",
   "execution_count": 12,
   "id": "d88bf288-e8a8-44e6-baa2-88ee0dbc0ea7",
   "metadata": {},
   "outputs": [
    {
     "data": {
      "text/plain": [
       "array([ 1701,  1663, 19423, ..., 12209,  7661,  7582], dtype=int32)"
      ]
     },
     "execution_count": 12,
     "metadata": {},
     "output_type": "execute_result"
    }
   ],
   "source": [
    "fcluster(bert_linkage_matrix, 0.3, criterion='distance')"
   ]
  },
  {
   "cell_type": "code",
   "execution_count": null,
   "id": "78e01a0b-1ee0-49e0-95e0-4af18ad1131b",
   "metadata": {},
   "outputs": [],
   "source": [
    "# TODO map cluster numbers back to articles in training set and doo topic analysis"
   ]
  },
  {
   "cell_type": "code",
   "execution_count": 23,
   "id": "3bef53ae-f055-4b6c-b636-ec559da72f42",
   "metadata": {},
   "outputs": [
    {
     "data": {
      "text/plain": [
       "(22225, 4)"
      ]
     },
     "execution_count": 23,
     "metadata": {},
     "output_type": "execute_result"
    }
   ],
   "source": [
    "bert_linkage_matrix.shape"
   ]
  },
  {
   "cell_type": "code",
   "execution_count": 22,
   "id": "dee3d6f6-30e5-4e43-aedf-f05bab829c49",
   "metadata": {},
   "outputs": [
    {
     "data": {
      "text/plain": [
       "(22226, 768)"
      ]
     },
     "execution_count": 22,
     "metadata": {},
     "output_type": "execute_result"
    }
   ],
   "source": [
    "np_embedding.shape"
   ]
  },
  {
   "cell_type": "code",
   "execution_count": 26,
   "id": "18b6919c-8a99-4827-9ebd-7ec5c9def267",
   "metadata": {},
   "outputs": [
    {
     "data": {
      "text/plain": [
       "22226"
      ]
     },
     "execution_count": 26,
     "metadata": {},
     "output_type": "execute_result"
    }
   ],
   "source": [
    "len(train)"
   ]
  },
  {
   "cell_type": "code",
   "execution_count": 21,
   "id": "2c32108c-8cce-47c0-9806-16820b5b73f5",
   "metadata": {},
   "outputs": [],
   "source": [
    "# train['linkage_matrix'] = bert_linkage_matrix"
   ]
  },
  {
   "cell_type": "code",
   "execution_count": 22,
   "id": "3bce4922-f471-4f76-9056-2b0f6c6269eb",
   "metadata": {},
   "outputs": [
    {
     "data": {
      "text/html": [
       "<div>\n",
       "<style scoped>\n",
       "    .dataframe tbody tr th:only-of-type {\n",
       "        vertical-align: middle;\n",
       "    }\n",
       "\n",
       "    .dataframe tbody tr th {\n",
       "        vertical-align: top;\n",
       "    }\n",
       "\n",
       "    .dataframe thead th {\n",
       "        text-align: right;\n",
       "    }\n",
       "</style>\n",
       "<table border=\"1\" class=\"dataframe\">\n",
       "  <thead>\n",
       "    <tr style=\"text-align: right;\">\n",
       "      <th></th>\n",
       "      <th>uuid</th>\n",
       "      <th>source</th>\n",
       "      <th>year</th>\n",
       "      <th>article_text</th>\n",
       "      <th>title</th>\n",
       "      <th>title_text</th>\n",
       "    </tr>\n",
       "  </thead>\n",
       "  <tbody>\n",
       "    <tr>\n",
       "      <th>28662</th>\n",
       "      <td>3c8cf1e0-406e-11ee-a96e-33dec8f414a2</td>\n",
       "      <td>washtimes</td>\n",
       "      <td>2020</td>\n",
       "      <td>russian surveillance aircraft flew into an are...</td>\n",
       "      <td>norad tracks russian aircraft flying...</td>\n",
       "      <td>norad tracks russian aircraft flying...</td>\n",
       "    </tr>\n",
       "    <tr>\n",
       "      <th>31727</th>\n",
       "      <td>3d1925a8-406a-11ee-a96e-33dec8f414a2</td>\n",
       "      <td>fox</td>\n",
       "      <td>2020</td>\n",
       "      <td>presumptive democratic presidential nominee jo...</td>\n",
       "      <td>conservative catholics call on biden to break ...</td>\n",
       "      <td>conservative catholics call on biden to break ...</td>\n",
       "    </tr>\n",
       "    <tr>\n",
       "      <th>4829</th>\n",
       "      <td>68fcf7b9-3da7-11ee-a96e-33dec8f414a2</td>\n",
       "      <td>dailycaller</td>\n",
       "      <td>2020</td>\n",
       "      <td>former vice president joe biden’s 2020 preside...</td>\n",
       "      <td>‘we’re playing offense’: biden campaign launch...</td>\n",
       "      <td>‘we’re playing offense’: biden campaign launch...</td>\n",
       "    </tr>\n",
       "    <tr>\n",
       "      <th>32959</th>\n",
       "      <td>2d900fc0-406a-11ee-a96e-33dec8f414a2</td>\n",
       "      <td>fox</td>\n",
       "      <td>2020</td>\n",
       "      <td>white house: president trump and the coronavir...</td>\n",
       "      <td>trump says coronavirus 'peak in death rate' li...</td>\n",
       "      <td>trump says coronavirus 'peak in death rate' li...</td>\n",
       "    </tr>\n",
       "    <tr>\n",
       "      <th>10037</th>\n",
       "      <td>b032682c-411f-11ee-a96e-33dec8f414a2</td>\n",
       "      <td>breitbart</td>\n",
       "      <td>2020</td>\n",
       "      <td>new zealand health minister david clark called...</td>\n",
       "      <td>‘idiot’ kiwi health minister forgiven after be...</td>\n",
       "      <td>‘idiot’ kiwi health minister forgiven after be...</td>\n",
       "    </tr>\n",
       "  </tbody>\n",
       "</table>\n",
       "</div>"
      ],
      "text/plain": [
       "                                       uuid       source  year  \\\n",
       "28662  3c8cf1e0-406e-11ee-a96e-33dec8f414a2    washtimes  2020   \n",
       "31727  3d1925a8-406a-11ee-a96e-33dec8f414a2          fox  2020   \n",
       "4829   68fcf7b9-3da7-11ee-a96e-33dec8f414a2  dailycaller  2020   \n",
       "32959  2d900fc0-406a-11ee-a96e-33dec8f414a2          fox  2020   \n",
       "10037  b032682c-411f-11ee-a96e-33dec8f414a2    breitbart  2020   \n",
       "\n",
       "                                            article_text  \\\n",
       "28662  russian surveillance aircraft flew into an are...   \n",
       "31727  presumptive democratic presidential nominee jo...   \n",
       "4829   former vice president joe biden’s 2020 preside...   \n",
       "32959  white house: president trump and the coronavir...   \n",
       "10037  new zealand health minister david clark called...   \n",
       "\n",
       "                                                   title  \\\n",
       "28662            norad tracks russian aircraft flying...   \n",
       "31727  conservative catholics call on biden to break ...   \n",
       "4829   ‘we’re playing offense’: biden campaign launch...   \n",
       "32959  trump says coronavirus 'peak in death rate' li...   \n",
       "10037  ‘idiot’ kiwi health minister forgiven after be...   \n",
       "\n",
       "                                              title_text  \n",
       "28662            norad tracks russian aircraft flying...  \n",
       "31727  conservative catholics call on biden to break ...  \n",
       "4829   ‘we’re playing offense’: biden campaign launch...  \n",
       "32959  trump says coronavirus 'peak in death rate' li...  \n",
       "10037  ‘idiot’ kiwi health minister forgiven after be...  "
      ]
     },
     "execution_count": 22,
     "metadata": {},
     "output_type": "execute_result"
    }
   ],
   "source": [
    "backup = train.copy()\n",
    "backup.head()"
   ]
  },
  {
   "cell_type": "code",
   "execution_count": 24,
   "id": "54a81e02-4da4-4ed4-9119-45d40b800f01",
   "metadata": {},
   "outputs": [],
   "source": [
    "np.save('../data/title_text_28kdocs_fasttext_embedding_linkage_matrix.npy', fast_text_linkage_matrix)"
   ]
  },
  {
   "cell_type": "code",
   "execution_count": null,
   "id": "9ecef192-c441-4411-8782-f18a80a628af",
   "metadata": {},
   "outputs": [],
   "source": [
    "#train_df = train.copy()\n",
    "# train_df = train_df.drop(['bert_sentence_embedding_title_only', 'bert_embeddings', 'np_embeddings', 'cluster_id'], axis=1)\n",
    "# train_df.head()"
   ]
  },
  {
   "cell_type": "code",
   "execution_count": 47,
   "id": "d6d7c2f8-f27e-44f3-98d2-5dea2be4e1d1",
   "metadata": {},
   "outputs": [],
   "source": [
    "# train_df.to_csv('./data/bert_22kdocs_bert_embedding_linkage_matrix_matching_training_df.csv') "
   ]
  },
  {
   "cell_type": "code",
   "execution_count": 50,
   "id": "97098586-efba-455c-a1c4-931ce040292d",
   "metadata": {},
   "outputs": [
    {
     "data": {
      "text/html": [
       "<div>\n",
       "<style scoped>\n",
       "    .dataframe tbody tr th:only-of-type {\n",
       "        vertical-align: middle;\n",
       "    }\n",
       "\n",
       "    .dataframe tbody tr th {\n",
       "        vertical-align: top;\n",
       "    }\n",
       "\n",
       "    .dataframe thead th {\n",
       "        text-align: right;\n",
       "    }\n",
       "</style>\n",
       "<table border=\"1\" class=\"dataframe\">\n",
       "  <thead>\n",
       "    <tr style=\"text-align: right;\">\n",
       "      <th></th>\n",
       "      <th>uuid</th>\n",
       "      <th>source</th>\n",
       "      <th>year</th>\n",
       "      <th>article_text</th>\n",
       "      <th>title</th>\n",
       "      <th>title_text</th>\n",
       "    </tr>\n",
       "  </thead>\n",
       "  <tbody>\n",
       "    <tr>\n",
       "      <th>6025</th>\n",
       "      <td>c6f115b2-3da7-11ee-a96e-33dec8f414a2</td>\n",
       "      <td>dailycaller</td>\n",
       "      <td>2020</td>\n",
       "      <td>house speaker nancy pelosi dismissed the idea ...</td>\n",
       "      <td>pelosi says she didn’t downplay coronavirus by...</td>\n",
       "      <td>pelosi says she didn’t downplay coronavirus by...</td>\n",
       "    </tr>\n",
       "    <tr>\n",
       "      <th>5418</th>\n",
       "      <td>95cae34e-3da7-11ee-a96e-33dec8f414a2</td>\n",
       "      <td>dailycaller</td>\n",
       "      <td>2020</td>\n",
       "      <td>speaker of the house nancy pelosi called presi...</td>\n",
       "      <td>pelosi calls trump ‘morbidly obese’ on cnn</td>\n",
       "      <td>pelosi calls trump ‘morbidly obese’ on cnn spe...</td>\n",
       "    </tr>\n",
       "    <tr>\n",
       "      <th>14686</th>\n",
       "      <td>b2f2b844-411f-11ee-a96e-33dec8f414a2</td>\n",
       "      <td>breitbart</td>\n",
       "      <td>2020</td>\n",
       "      <td>kenosha police units determined to enforce the...</td>\n",
       "      <td>watch: police disperse crowd with tear gas, ru...</td>\n",
       "      <td>watch: police disperse crowd with tear gas, ru...</td>\n",
       "    </tr>\n",
       "    <tr>\n",
       "      <th>35332</th>\n",
       "      <td>c8b20d44-4136-11ee-a96e-33dec8f414a2</td>\n",
       "      <td>npr</td>\n",
       "      <td>2020</td>\n",
       "      <td>fromby \\n      \\n      kate payne\\n    \\n  , ...</td>\n",
       "      <td>polling places are closing due to covid-19. it...</td>\n",
       "      <td>polling places are closing due to covid-19. it...</td>\n",
       "    </tr>\n",
       "    <tr>\n",
       "      <th>23999</th>\n",
       "      <td>7d814407-3da8-11ee-a96e-33dec8f414a2</td>\n",
       "      <td>dailycaller</td>\n",
       "      <td>2020</td>\n",
       "      <td>fox business network host lou dobbs argued fri...</td>\n",
       "      <td>lou dobbs: ‘utterly irrational’ for trump to s...</td>\n",
       "      <td>lou dobbs: ‘utterly irrational’ for trump to s...</td>\n",
       "    </tr>\n",
       "  </tbody>\n",
       "</table>\n",
       "</div>"
      ],
      "text/plain": [
       "                                       uuid       source  year  \\\n",
       "6025   c6f115b2-3da7-11ee-a96e-33dec8f414a2  dailycaller  2020   \n",
       "5418   95cae34e-3da7-11ee-a96e-33dec8f414a2  dailycaller  2020   \n",
       "14686  b2f2b844-411f-11ee-a96e-33dec8f414a2    breitbart  2020   \n",
       "35332  c8b20d44-4136-11ee-a96e-33dec8f414a2          npr  2020   \n",
       "23999  7d814407-3da8-11ee-a96e-33dec8f414a2  dailycaller  2020   \n",
       "\n",
       "                                            article_text  \\\n",
       "6025   house speaker nancy pelosi dismissed the idea ...   \n",
       "5418   speaker of the house nancy pelosi called presi...   \n",
       "14686  kenosha police units determined to enforce the...   \n",
       "35332   fromby \\n      \\n      kate payne\\n    \\n  , ...   \n",
       "23999  fox business network host lou dobbs argued fri...   \n",
       "\n",
       "                                                   title  \\\n",
       "6025   pelosi says she didn’t downplay coronavirus by...   \n",
       "5418          pelosi calls trump ‘morbidly obese’ on cnn   \n",
       "14686  watch: police disperse crowd with tear gas, ru...   \n",
       "35332  polling places are closing due to covid-19. it...   \n",
       "23999  lou dobbs: ‘utterly irrational’ for trump to s...   \n",
       "\n",
       "                                              title_text  \n",
       "6025   pelosi says she didn’t downplay coronavirus by...  \n",
       "5418   pelosi calls trump ‘morbidly obese’ on cnn spe...  \n",
       "14686  watch: police disperse crowd with tear gas, ru...  \n",
       "35332  polling places are closing due to covid-19. it...  \n",
       "23999  lou dobbs: ‘utterly irrational’ for trump to s...  "
      ]
     },
     "execution_count": 50,
     "metadata": {},
     "output_type": "execute_result"
    }
   ],
   "source": [
    "# test_train_df = pd.read_csv('./data/bert_22kdocs_bert_embedding_linkage_matrix_matching_training_df.csv', index_col=0)\n",
    "# test_train_df.head()"
   ]
  },
  {
   "cell_type": "code",
   "execution_count": 51,
   "id": "51bd8b0a-26c9-4905-bd23-2856917d393f",
   "metadata": {},
   "outputs": [],
   "source": [
    "# Extracting cluster information\n",
    "# clusters = {}\n",
    "# for i, merge in enumerate(bert_linkage_matrix):\n",
    "#     cluster_id = i + len(train)  # Cluster IDs start from len(X) and increment\n",
    "#     left_child = int(merge[0])\n",
    "#     right_child = int(merge[1])\n",
    "#     distance = merge[2]\n",
    "#     clusters[cluster_id] = {'left': left_child, 'right': right_child, 'distance': distance}\n",
    "\n",
    "# for cluster_id, info in clusters.items():\n",
    "#     left_row = train.iloc[info['left']]\n",
    "#     right_row = train.iloc[info['right']]\n",
    "#     print(f\"Cluster {cluster_id}: Left Row - {left_row}, Right Row - {right_row}\")"
   ]
  },
  {
   "cell_type": "code",
   "execution_count": 48,
   "id": "107b4c47-8a11-40a6-8638-6f5c137cade6",
   "metadata": {},
   "outputs": [
    {
     "name": "stdout",
     "output_type": "stream",
     "text": [
      "dist: 0.5 num_clusters: 18377\n",
      "dist: 1 num_clusters: 18359\n",
      "dist: 2 num_clusters: 16990\n",
      "dist: 3 num_clusters: 8711\n",
      "dist: 4 num_clusters: 4522\n",
      "dist: 5 num_clusters: 2741\n",
      "dist: 10 num_clusters: 667\n",
      "dist: 20 num_clusters: 201\n",
      "dist: 50 num_clusters: 44\n",
      "dist: 100 num_clusters: 13\n",
      "dist: 150 num_clusters: 6\n",
      "dist: 200 num_clusters: 4\n"
     ]
    }
   ],
   "source": [
    "train_cluster_assignments = train.copy()\n",
    "# train_cluster_assignments = train_cluster_assignments.drop(['bert_sentence_embedding_title_only', 'bert_embeddings', 'np_embeddings'], axis=1)\n",
    "distance_options = [0.5, 1, 2, 3, 4, 5, 10, 20, 50, 100, 150, 200]\n",
    "for opt in distance_options:\n",
    "    cluster_assignment = fcluster(fast_text_linkage_matrix, opt, criterion='distance')\n",
    "    print(f'dist: {opt} num_clusters: {cluster_assignment.max()}')\n",
    "    train_cluster_assignments[f'cluster_dist_{opt}'] = cluster_assignment\n",
    "    "
   ]
  },
  {
   "cell_type": "code",
   "execution_count": 49,
   "id": "23b937a4-cd28-47b1-afe4-fdcf0bfea083",
   "metadata": {},
   "outputs": [
    {
     "name": "stdout",
     "output_type": "stream",
     "text": [
      "Distance cutoff: 0.5, Silhouette Score: 0.015412975664142872\n",
      "Distance cutoff: 1, Silhouette Score: 0.01604598031749556\n",
      "Distance cutoff: 2, Silhouette Score: 0.019821479975504926\n",
      "Distance cutoff: 3, Silhouette Score: -0.007214562733636069\n",
      "Distance cutoff: 4, Silhouette Score: -0.022782449990393305\n",
      "Distance cutoff: 5, Silhouette Score: -0.030434753552586763\n",
      "Distance cutoff: 10, Silhouette Score: -0.04505462804448108\n",
      "Distance cutoff: 20, Silhouette Score: -0.05200463605667168\n",
      "Distance cutoff: 50, Silhouette Score: -0.048868137117133476\n",
      "Distance cutoff: 100, Silhouette Score: -0.0545594098406696\n",
      "Distance cutoff: 150, Silhouette Score: -0.04844961079984806\n",
      "Distance cutoff: 200, Silhouette Score: -0.05481857039944034\n"
     ]
    }
   ],
   "source": [
    "def compute_silhouette(orig_data, linkage_matrix, distance):\n",
    "    labels = fcluster(linkage_matrix, distance, criterion='distance')\n",
    "    silhouette_avg = silhouette_score(orig_data, labels)\n",
    "    return silhouette_avg\n",
    "\n",
    "sil_scores = []\n",
    "for opt in distance_options:\n",
    "    sil_score = compute_silhouette(doc_vecs_ft, fast_text_linkage_matrix, opt)\n",
    "    sil_scores.append(sil_score)\n",
    "\n",
    "# Print silhouette scores for different distance cutoffs\n",
    "for cutoff, score in zip(distance_options, sil_scores):\n",
    "    print(f\"Distance cutoff: {cutoff}, Silhouette Score: {score}\")"
   ]
  },
  {
   "cell_type": "code",
   "execution_count": 74,
   "id": "50dd65d3-ffac-4176-8614-023a7f6cc48f",
   "metadata": {},
   "outputs": [
    {
     "data": {
      "image/png": "[encoded data removed]",
      "text/plain": [
       "<Figure size 640x480 with 1 Axes>"
      ]
     },
     "metadata": {},
     "output_type": "display_data"
    }
   ],
   "source": [
    "num_clusters = [18377,18359, 16990, 8711, 4522, 2741, 667, 201, 44, 13, 6, 4]\n",
    "plt.plot(sil_scores, num_clusters, marker='o')\n",
    "plt.xlabel('Silhouette Score')\n",
    "plt.ylabel('Number of Clusters')\n",
    "plt.title('Silhouette Score vs. Number of Clusters')\n",
    "plt.grid(True)\n",
    "plt.show()"
   ]
  },
  {
   "cell_type": "code",
   "execution_count": null,
   "id": "5b09ea6c-6444-451b-ba8c-04da248da0a8",
   "metadata": {},
   "outputs": [],
   "source": [
    "train_cluster_assignments"
   ]
  },
  {
   "cell_type": "code",
   "execution_count": 61,
   "id": "dd2d4b37-2b78-452d-963d-d26f5947b27b",
   "metadata": {},
   "outputs": [],
   "source": [
    "# train_cluster_assignments.to_csv('./data/bert_22kdocs_cluster_assignments.csv') "
   ]
  },
  {
   "cell_type": "code",
   "execution_count": 56,
   "id": "3bc911d0-216c-4282-8872-7b131efa2e6b",
   "metadata": {},
   "outputs": [],
   "source": [
    "from sklearn.feature_extraction.text import TfidfVectorizer\n",
    "from nltk.corpus import stopwords\n",
    "from nltk.tokenize import word_tokenize\n",
    "import string"
   ]
  },
  {
   "cell_type": "code",
   "execution_count": 57,
   "id": "b3077703-20f6-4d9c-b0e9-1fb91d9ba1f9",
   "metadata": {},
   "outputs": [
    {
     "name": "stderr",
     "output_type": "stream",
     "text": [
      "[nltk_data] Downloading package punkt to\n",
      "[nltk_data]     /Users/meganmoore/nltk_data...\n",
      "[nltk_data]   Package punkt is already up-to-date!\n",
      "[nltk_data] Downloading package stopwords to\n",
      "[nltk_data]     /Users/meganmoore/nltk_data...\n",
      "[nltk_data]   Package stopwords is already up-to-date!\n"
     ]
    },
    {
     "data": {
      "text/plain": [
       "True"
      ]
     },
     "execution_count": 57,
     "metadata": {},
     "output_type": "execute_result"
    }
   ],
   "source": [
    "import nltk\n",
    "nltk.download('punkt')\n",
    "nltk.download('stopwords')"
   ]
  },
  {
   "cell_type": "code",
   "execution_count": 58,
   "id": "c028bcb5-a671-4214-a968-e2d6dd5a00e1",
   "metadata": {},
   "outputs": [],
   "source": [
    "punctuation = set(string.punctuation)\n",
    "stop_words = set(stopwords.words('english'))"
   ]
  },
  {
   "cell_type": "code",
   "execution_count": 59,
   "id": "e1b6fedc-188e-4910-8c45-79debf45fa31",
   "metadata": {},
   "outputs": [],
   "source": [
    "tfidf_vectorizer = TfidfVectorizer(stop_words=list(stop_words))"
   ]
  },
  {
   "cell_type": "code",
   "execution_count": 95,
   "id": "e15a0727-5ec1-4b0f-8613-d302d32d63c6",
   "metadata": {},
   "outputs": [],
   "source": [
    "tfidf_scores_by_cluster = {}\n",
    "cluster_sizes = {}\n",
    "for clust_id in list(train_cluster_assignments.loc[:, 'cluster_dist_4'].unique()):\n",
    "    clust_df = train_cluster_assignments.loc[train_cluster_assignments.loc[:, 'cluster_dist_4'] == clust_id, :]\n",
    "    cluster_sizes[clust_id] = clust_df.shape[0]\n",
    "    clust_text = clust_df.loc[:, 'title'].values\n",
    "    tfidf_matrix = tfidf_vectorizer.fit_transform(clust_text)\n",
    "    feature_names = tfidf_vectorizer.get_feature_names_out()\n",
    "    tfidf_scores = tfidf_matrix.sum(axis=0)\n",
    "    tfidf_scores_by_cluster[clust_id] = [(feature_names[col], tfidf_scores[0, col]) for col in tfidf_matrix.nonzero()[1]]"
   ]
  },
  {
   "cell_type": "code",
   "execution_count": 96,
   "id": "d69b57c6-6fb3-44c8-9611-0d3ffb737fbb",
   "metadata": {},
   "outputs": [],
   "source": [
    "top_words_by_cluster = {}\n",
    "for cluster_id, scores in tfidf_scores_by_cluster.items():\n",
    "    sorted_scores = sorted(scores, key=lambda x: x[1], reverse=True)\n",
    "    unique_sorted_data = []\n",
    "    seen_tuples = set()\n",
    "    for key, value in sorted_scores:\n",
    "        if value not in seen_tuples:\n",
    "            unique_sorted_data.append((key, value))\n",
    "            seen_tuples.add(value)\n",
    "    top_words_by_cluster[cluster_id] = unique_sorted_data[:10]# sorted_scores[:10]  # Select top N words"
   ]
  },
  {
   "cell_type": "code",
   "execution_count": 73,
   "id": "83f15774-a793-44cb-91b7-cf37ca38a400",
   "metadata": {},
   "outputs": [],
   "source": [
    "# for cluster_id, top_words in top_words_by_cluster.items():\n",
    "#     print(f\"Cluster {cluster_id}:\")\n",
    "#     for word, score in top_words:\n",
    "#         print(f\"- {word}: {score}\")"
   ]
  },
  {
   "cell_type": "code",
   "execution_count": 97,
   "id": "1dd403ec-f059-4e9a-8f8d-73e965fd64f7",
   "metadata": {},
   "outputs": [],
   "source": [
    "sorted_data = sorted(cluster_sizes.items(), key=lambda x: x[1])"
   ]
  },
  {
   "cell_type": "code",
   "execution_count": 98,
   "id": "60753e39-b1b9-4802-b22d-6e06169b37db",
   "metadata": {},
   "outputs": [
    {
     "data": {
      "text/plain": [
       "[(228, 14),\n",
       " (267, 14),\n",
       " (974, 14),\n",
       " (1744, 15),\n",
       " (536, 15),\n",
       " (719, 15),\n",
       " (1249, 15),\n",
       " (310, 16),\n",
       " (523, 17),\n",
       " (306, 18)]"
      ]
     },
     "execution_count": 98,
     "metadata": {},
     "output_type": "execute_result"
    }
   ],
   "source": [
    "sorted_data[-10:]"
   ]
  },
  {
   "cell_type": "code",
   "execution_count": 100,
   "id": "eb4b9484-50fa-432f-8fa0-a18e0cfafa6d",
   "metadata": {},
   "outputs": [
    {
     "name": "stdout",
     "output_type": "stream",
     "text": [
      "top words for cluster 228 with 14 articles: \n",
      "\n",
      "('coronavirus', 1.8409896682053084)\n",
      "('china', 0.9354168290001765)\n",
      "('wuhan', 0.7588523900678812)\n",
      "('left', 0.7094438403299056)\n",
      "('virus', 0.6572945468199987)\n",
      "\n",
      "top words for cluster 267 with 14 articles: \n",
      "\n",
      "('trump', 1.9750153118266662)\n",
      "('coronavirus', 1.2908901481468453)\n",
      "('house', 1.2058391931734433)\n",
      "('white', 1.0086147237974998)\n",
      "('says', 0.9555930546705239)\n",
      "\n",
      "top words for cluster 974 with 14 articles: \n",
      "\n",
      "('coronavirus', 1.5736358826701236)\n",
      "('000', 0.7475910617904584)\n",
      "('government', 0.7296393518608686)\n",
      "('lockdowns', 0.7143090973347498)\n",
      "('deaths', 0.5832272424766539)\n",
      "\n",
      "top words for cluster 1744 with 15 articles: \n",
      "\n",
      "('trump', 2.067687237648446)\n",
      "('biden', 1.6365263076295933)\n",
      "('news', 1.149917842915038)\n",
      "('fox', 1.0694712735722252)\n",
      "('donald', 1.0147321014853834)\n",
      "\n",
      "top words for cluster 536 with 15 articles: \n",
      "\n",
      "('biden', 1.8975751257344051)\n",
      "('joe', 1.6066387060113625)\n",
      "('trump', 1.1272539863007809)\n",
      "('mate', 0.9561764011453948)\n",
      "('pence', 0.6797159147323089)\n",
      "\n",
      "top words for cluster 719 with 15 articles: \n",
      "\n",
      "('coronavirus', 2.1338272742485875)\n",
      "('relief', 1.9469474559589401)\n",
      "('senate', 1.648137956707971)\n",
      "('package', 1.5586780536713545)\n",
      "('bill', 1.3590071903360263)\n",
      "\n",
      "top words for cluster 1249 with 15 articles: \n",
      "\n",
      "('police', 1.1690216292010076)\n",
      "('portland', 1.0671722021419763)\n",
      "('protesters', 1.0152165223303609)\n",
      "('watch', 0.9042041084047601)\n",
      "('wisconsin', 0.7081618843329676)\n",
      "\n",
      "top words for cluster 310 with 16 articles: \n",
      "\n",
      "('biden', 1.7030567975767172)\n",
      "('trump', 1.5707728651989314)\n",
      "('election', 1.1362379524086497)\n",
      "('says', 1.0946153962861895)\n",
      "('2020', 0.6679711274429108)\n",
      "\n",
      "top words for cluster 523 with 17 articles: \n",
      "\n",
      "('trump', 2.2287085115206393)\n",
      "('biden', 1.3674568923230261)\n",
      "('coronavirus', 0.8673893731545861)\n",
      "('buttigieg', 0.7989183639192989)\n",
      "('press', 0.7614313323011537)\n",
      "\n",
      "top words for cluster 306 with 18 articles: \n",
      "\n",
      "('trump', 2.314595907116928)\n",
      "('biden', 1.7386980889802093)\n",
      "('joe', 1.3448484229006805)\n",
      "('donald', 1.3115802254958076)\n",
      "('campaign', 1.0690554392429055)\n",
      "\n"
     ]
    }
   ],
   "source": [
    "# biggest clusters are 2, 8, 80, 3 & 6\n",
    "biggest_clusters = sorted_data[-10:]\n",
    "top_words = []\n",
    "count_docs = []\n",
    "for keyval, count in biggest_clusters:\n",
    "    print(f'top words for cluster {keyval} with {count} articles: \\n')\n",
    "    for val in top_words_by_cluster[keyval][0:5]:\n",
    "        print(val)\n",
    "    count_docs.append(count)\n",
    "    top_words.append(\"_\".join([word[0] for word in top_words_by_cluster[keyval][0:5]]))\n",
    "    print()\n",
    "   \n"
   ]
  },
  {
   "cell_type": "code",
   "execution_count": 101,
   "id": "6601a2f6-da6e-49b9-8b21-ab3d6bcf6046",
   "metadata": {},
   "outputs": [
    {
     "data": {
      "text/plain": [
       "['coronavirus_china_wuhan_left_virus',\n",
       " 'trump_coronavirus_house_white_says',\n",
       " 'coronavirus_000_government_lockdowns_deaths',\n",
       " 'trump_biden_news_fox_donald',\n",
       " 'biden_joe_trump_mate_pence',\n",
       " 'coronavirus_relief_senate_package_bill',\n",
       " 'police_portland_protesters_watch_wisconsin',\n",
       " 'biden_trump_election_says_2020',\n",
       " 'trump_biden_coronavirus_buttigieg_press',\n",
       " 'trump_biden_joe_donald_campaign']"
      ]
     },
     "execution_count": 101,
     "metadata": {},
     "output_type": "execute_result"
    }
   ],
   "source": [
    "top_words"
   ]
  },
  {
   "cell_type": "code",
   "execution_count": 102,
   "id": "8ee5eebe-9fe7-423d-943a-6e03f457bff2",
   "metadata": {},
   "outputs": [
    {
     "data": {
      "image/png": "[encoded data removed]",
      "text/plain": [
       "<Figure size 640x480 with 1 Axes>"
      ]
     },
     "metadata": {},
     "output_type": "display_data"
    }
   ],
   "source": [
    "# Create bar plot\n",
    "plt.barh(top_words, count_docs, color='plum')\n",
    "plt.xlabel('Count of Documents')\n",
    "plt.ylabel('Topic Words')\n",
    "plt.title('Count of Documents per Topic Cluster')\n",
    "plt.show()"
   ]
  },
  {
   "cell_type": "code",
   "execution_count": null,
   "id": "61af9201-7b5e-4c9e-b0ef-bfcb2b50ac02",
   "metadata": {},
   "outputs": [],
   "source": [
    "num_clusters = [18377,18359, 16990, 8711, 4522, 2741, 667, 201, 44, 13, 6, 4]\n",
    "plt.plot(distance_options, num_clusters, marker='o')\n",
    "plt.xlabel('Distance Cutoff')\n",
    "plt.ylabel('Number of Clusters')\n",
    "plt.title('Distance Cutoff vs. Number of Clusters')\n",
    "plt.grid(True)\n",
    "plt.show()"
   ]
  },
  {
   "cell_type": "code",
   "execution_count": null,
   "id": "cac720f3-b85f-4169-adcb-8d041bd59e9f",
   "metadata": {},
   "outputs": [],
   "source": []
  }
 ],
 "metadata": {
  "kernelspec": {
   "display_name": "Python 3 (ipykernel)",
   "language": "python",
   "name": "python3"
  },
  "language_info": {
   "codemirror_mode": {
    "name": "ipython",
    "version": 3
   },
   "file_extension": ".py",
   "mimetype": "text/x-python",
   "name": "python",
   "nbconvert_exporter": "python",
   "pygments_lexer": "ipython3",
   "version": "3.10.13"
  }
 },
 "nbformat": 4,
 "nbformat_minor": 5
}
