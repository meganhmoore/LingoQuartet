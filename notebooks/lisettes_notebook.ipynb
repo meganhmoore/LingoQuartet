{
  "cells": [
    {
      "cell_type": "markdown",
      "id": "7a63af5a",
      "metadata": {
        "id": "7a63af5a"
      },
      "source": [
        "## Read In Data"
      ]
    },
    {
      "cell_type": "code",
      "source": [
        "# !pip install transformers"
      ],
      "metadata": {
        "colab": {
          "base_uri": "https://localhost:8080/"
        },
        "id": "XL5aEs7C80jz",
        "outputId": "3ec5bf8d-f8fc-46f3-9352-b0a7d93b371b"
      },
      "id": "XL5aEs7C80jz",
      "execution_count": 27,
      "outputs": [
        {
          "output_type": "stream",
          "name": "stdout",
          "text": [
            "Requirement already satisfied: transformers in /usr/local/lib/python3.10/dist-packages (4.35.2)\n",
            "Requirement already satisfied: filelock in /usr/local/lib/python3.10/dist-packages (from transformers) (3.13.1)\n",
            "Requirement already satisfied: huggingface-hub<1.0,>=0.16.4 in /usr/local/lib/python3.10/dist-packages (from transformers) (0.20.3)\n",
            "Requirement already satisfied: numpy>=1.17 in /usr/local/lib/python3.10/dist-packages (from transformers) (1.25.2)\n",
            "Requirement already satisfied: packaging>=20.0 in /usr/local/lib/python3.10/dist-packages (from transformers) (23.2)\n",
            "Requirement already satisfied: pyyaml>=5.1 in /usr/local/lib/python3.10/dist-packages (from transformers) (6.0.1)\n",
            "Requirement already satisfied: regex!=2019.12.17 in /usr/local/lib/python3.10/dist-packages (from transformers) (2023.12.25)\n",
            "Requirement already satisfied: requests in /usr/local/lib/python3.10/dist-packages (from transformers) (2.31.0)\n",
            "Requirement already satisfied: tokenizers<0.19,>=0.14 in /usr/local/lib/python3.10/dist-packages (from transformers) (0.15.2)\n",
            "Requirement already satisfied: safetensors>=0.3.1 in /usr/local/lib/python3.10/dist-packages (from transformers) (0.4.2)\n",
            "Requirement already satisfied: tqdm>=4.27 in /usr/local/lib/python3.10/dist-packages (from transformers) (4.66.2)\n",
            "Requirement already satisfied: fsspec>=2023.5.0 in /usr/local/lib/python3.10/dist-packages (from huggingface-hub<1.0,>=0.16.4->transformers) (2023.6.0)\n",
            "Requirement already satisfied: typing-extensions>=3.7.4.3 in /usr/local/lib/python3.10/dist-packages (from huggingface-hub<1.0,>=0.16.4->transformers) (4.9.0)\n",
            "Requirement already satisfied: charset-normalizer<4,>=2 in /usr/local/lib/python3.10/dist-packages (from requests->transformers) (3.3.2)\n",
            "Requirement already satisfied: idna<4,>=2.5 in /usr/local/lib/python3.10/dist-packages (from requests->transformers) (3.6)\n",
            "Requirement already satisfied: urllib3<3,>=1.21.1 in /usr/local/lib/python3.10/dist-packages (from requests->transformers) (2.0.7)\n",
            "Requirement already satisfied: certifi>=2017.4.17 in /usr/local/lib/python3.10/dist-packages (from requests->transformers) (2024.2.2)\n"
          ]
        }
      ]
    },
    {
      "cell_type": "code",
      "execution_count": 28,
      "id": "a5f5a787",
      "metadata": {
        "id": "a5f5a787",
        "outputId": "9e33cdf4-a087-4141-92b5-cdd487591254",
        "colab": {
          "base_uri": "https://localhost:8080/"
        }
      },
      "outputs": [
        {
          "output_type": "stream",
          "name": "stderr",
          "text": [
            "[nltk_data] Downloading package stopwords to /root/nltk_data...\n",
            "[nltk_data]   Package stopwords is already up-to-date!\n",
            "[nltk_data] Downloading package punkt to /root/nltk_data...\n",
            "[nltk_data]   Package punkt is already up-to-date!\n",
            "[nltk_data] Downloading package wordnet to /root/nltk_data...\n",
            "[nltk_data]   Package wordnet is already up-to-date!\n"
          ]
        },
        {
          "output_type": "execute_result",
          "data": {
            "text/plain": [
              "True"
            ]
          },
          "metadata": {},
          "execution_count": 28
        }
      ],
      "source": [
        "import json\n",
        "import pandas as pd\n",
        "import re\n",
        "\n",
        "import nltk\n",
        "from nltk.corpus import stopwords\n",
        "from nltk.tokenize import word_tokenize\n",
        "from nltk.stem import WordNetLemmatizer\n",
        "from google.colab import drive\n",
        "from transformers import BertTokenizer\n",
        "\n",
        "nltk.download('stopwords')\n",
        "nltk.download('punkt')\n",
        "nltk.download('wordnet')\n"
      ]
    },
    {
      "cell_type": "markdown",
      "id": "8f07085d",
      "metadata": {
        "id": "8f07085d"
      },
      "source": [
        "punctuation\n",
        "stop word\n",
        "limit to first X words\n",
        "append tilile\n",
        "lematize"
      ]
    },
    {
      "cell_type": "code",
      "execution_count": 9,
      "id": "421c37e5",
      "metadata": {
        "id": "421c37e5",
        "colab": {
          "base_uri": "https://localhost:8080/"
        },
        "outputId": "596fb129-b961-499b-ab65-7f6b81606fc8"
      },
      "outputs": [
        {
          "output_type": "stream",
          "name": "stdout",
          "text": [
            "Drive already mounted at /content/gdrive; to attempt to forcibly remount, call drive.mount(\"/content/gdrive\", force_remount=True).\n"
          ]
        }
      ],
      "source": [
        "# Mount Google Drive\n",
        "drive.mount('/content/gdrive')\n",
        "\n",
        "# Define the file path\n",
        "path = \"/content/gdrive/MyDrive/Advanced ML/articles.json\"\n",
        "\n",
        "# Read the JSON file\n",
        "with open(path, 'r') as file:\n",
        "    data = json.load(file)\n",
        "\n"
      ]
    },
    {
      "cell_type": "code",
      "execution_count": 10,
      "id": "a1e70a03",
      "metadata": {
        "id": "a1e70a03",
        "outputId": "399c5f11-0256-4db4-b7cc-7f09133ff496",
        "colab": {
          "base_uri": "https://localhost:8080/"
        }
      },
      "outputs": [
        {
          "output_type": "stream",
          "name": "stdout",
          "text": [
            "{'title': '\\n\\t\\tTrump DC hotel falls millions short of projected revenue in first months\\t', 'article_text': 'President Trump’s Washington, D.C., hotel made at least $2 million less than projected in its first two months of operation, according to House Democrats citing documents obtained from the General Services Administration (GSA).Democrats on the House Oversight and Transportation committees revealed the information in a letter sent Monday to GSA Administrator Timothy Horne, in which they asked how the agency planned to handle the alleged breach of the lease on the hotel housed in the Old Post Office, just east of the White House on Pennsylvania Avenue.A provision in the lease, signed years before Trump began his presidential campaign, prevents any federal elected official from being included on or benefiting from the lease. The Democrats claim in their letter that Trump’s ascendance to the presidency on Friday is a breach of the lease.The documents Democrats obtained from the GSA and released Monday show that Trump has a 76.7 percent stake in the hotel.\\xa0The hotel has been a constant source of criticism from Democrats and ethics officials who warn it could be used by foreign governments and businesses to curry favor with the president. Adding to the focus Monday was a lawsuit filed by the left-leaning watchdog group Citizens for Responsibility and Ethics in Washington “to stop President Trump from violating the Constitution by illegally receiving payments from foreign governments.”{mosads}“Our hope has always been that President Trump would resolve these breach-of-lease and conflict of interest issues prior to being sworn in as President on January 20,” the Democrats wrote in their Monday letter.“Unfortunately, President Trump has refused to address these concerns, and taxpayer dollars may now be squandered as career public servants are forced to take remedial action to cure this breach.”The letter also includes the Trump hotel’s revenue versus estimates from September and October 2016, its first two months of operation.The Trump hotel made $1,301,000 in revenue in September, though it was projected to make $2,087,000 — meaning it faced a roughly $700,000 shortfall. The hotel made $2,771,000 in revenue in October, compared to a projected $4,276,000. That’s nearly $2.3 million less than projected in total.The hotel’s net loss for September was $334,000 and $825,000 in October. It was estimated to lose $84,000 in September and gain $481,000 in profit in October.“The possibility that President Trump will profit from large increases in hotel revenues because he was elected President highlights the grave concerns we have raised for months about his conflicts of interest and potential violations of the Emoluments Clause of the Constitution,” wrote the Democrats, citing a clause in the Constitution barring elected officials from receiving gifts or payments from foreign governments.The Democrats asked Horne if the agency would be notifying Trump that he violated his lease, and questioned how the GSA plans to deal with the alleged breach and how it would handle claims that the Trump Organization failed to pay contractors who worked on the hotel.The Democrats also asked for copies of correspondence between the GSA and the Trump Organization and transition team.', 'images': [{'url': 'https://i0.wp.com/thehill.com/wp-content/uploads/sites/2/2017/01/trumphotel618289268.jpg?w=2000&ssl=1', 'image_type': 'main', 'caption': '', 'alt_text': ''}, {'url': 'https://thehill.com/wp-content/uploads/sites/2/2017/01/trumphotel618289268.jpg?w=1280', 'image_type': 'social', 'caption': '', 'alt_text': ''}], 'uuid': '73ff4208-406e-11ee-a96e-33dec8f414a2', 'parent': '73ff4208-406e-11ee-a96e-33dec8f414a2'}\n",
            "{'title': '\\n\\t\\tOvernight Tech: Microsoft wants end to feds’ secret hacking tools | Latest on ransomware attack | John Oliver calls for ‘civil’ tone in net neutrality fight | House to vote on cyber bills\\t', 'article_text': 'MICROSOFT CALLS OUT GOVERNMENT HACKING PRACTICES:\\xa0On the heels of a widespread “ransomware” attack that may have used leaked National Security Agency hacking methods, Microsoft is calling for governments to cease stockpiling secret means of bypassing software security. \\xa0\\xa0“Repeatedly, exploits in the hands of governments have leaked into the public domain and caused widespread damage. An equivalent scenario with conventional weapons would be the U.S. military having some of its Tomahawk missiles stolen,” wrote Brad Smith, president and chief legal officer at Microsoft, on a company blog Sunday evening.Ransomware is a type of cyberattack that encrypts a target’s files, with the attacker providing the decryption key only after a ransom is paid, usually in bitcoin.{mosads}WanaDecrypt0r, alternately known by names like Wanna Cry, has struck hundreds of thousands of computers in more than 100 nations since the attack began Friday morning. Victims range from hospitals in the United Kingdom, a telecom company in Spain, U.S.-based FedEx, and the Russian Ministry of the Interior.WanaDecrypt0r was so virulent in part because it used a Windows hacking tool that appears to have been stolen from the NSA and leaked by a hacking group known as the Shadow Brokers. Though Microsoft had patched the security hole in Windows, businesses often lag in installing updates for reasons including industry-specific software being incompatible with the most current version of operating systems.“In February [we called] for a new ‘Digital Geneva Convention’ to govern these issues, including a new requirement for governments to report vulnerabilities to vendors, rather than stockpile, sell, or exploit them,” wrote Smith.By reporting bugs instead of using them to conduct cyber espionage, manufacturers would be able to increase cybersecurity for all of its users — but that would come at the cost of intelligence and sabotage operations.Read more\\xa0here, from our cybersecurity colleague Joe Uchill.\\xa0MORE ON WANNA CRY: Edward Snowden called the continuing “ransomware” scourge “a perfect storm of all the problems everyone has been warning about” at a privacy issues conference Monday.Russian President Vladimir Putin used the ransomware attack to deliver a jab at the U.S.Monday was the most lucrative day yet for the Wanna Cry ransomware.President Trump reportedly ordered an emergency meeting over the weekend to address the threat.\\xa0Please send your tips, comments and constructive criticism to Ali Breland (abreland@thehill.com) and Harper Neidig (hneidig@thehill.com) and follow us on Twitter:\\xa0@alibreland,\\xa0@hneidig\\xa0and\\xa0@HilliconValley. We’re also on Signal. Email or DM us for our numbers.\\xa0UBER ORDERED TO HAND OVER DOCS IN GOOGLE SUIT:\\xa0A federal judge on Monday ordered Uber to turn over thousands of files that were allegedly stolen from Google’s self-driving car subsidiary, Waymo.Waymo alleges that a former employee, Anthony Levandowski, stole about 14,000 documents — including trade secrets — before leaving to start a self-driving truck company called Otto. Uber later acquired Otto, gaining access to the files.Uber has until May 31 to return the files to Waymo, U.S. District Judge William Alsup ordered. The documents allegedly detail advancements Waymo had made with lidar — a radar system that most self-driving car companies to employ help their cars pilot themselves.Read more\\xa0here.\\xa0MODERNIZING GOVERNMENT TECH:\\xa0Rep. Will Hurd’s (R-Texas) bipartisan bill, the Modernizing Government Technology Act (MGT Act) is finally getting some movement. Its Congressional Budget Office score came in on Friday, with the CBO estimating the plan to update government technology and IT systems would cost around $500 million over the next five years. The bill is set to hit the House floor on Wednesday. After President Donald Trump’s Cybersecurity executive order last week, technology and cyber interests praised the order, but said that a plan for updating the federal government’s technology is\\xa0necessary\\xa0to protect the U.S. from cyber threats. Many see Hurd’s bill as the answer.For more on the CBO score, click here.For more on the upcoming votes on Hurd’s legislation and another bill to help combat cyber crime, click here.\\xa0SPICER TALKS APPLE:\\xa0White House press secretary Sean Spicer praised Apple during Monday’s White House Press Briefing, citing it as an example of a company that is investing in the U.S. “The president is also very glad to see businesses once again making significant investments in America, from Intel to General Motors to Walmart toApple, who specifically just announced earlier this month that they’ll start a $1 billion fund to promote manufacturing jobs here in the United States,” Spicer said. He called the hiring push an example of “the president’s domestic economic policies that are generating optimism.” Unlike many other companies who have announced hiring pushes recently, Apple did not tie its\\xa0announcement\\xa0to Trump or his policies.\\xa0JOHN OLIVER ADDRESS FCC COMMENTERS:\\xa0HBO comedian John Oliver on Sunday again rallied his viewers to submit pro-net neutrality comments to the Federal Communications Commission, but took a shot at those who had been using the site to launch personal attacks against the FCC’s GOP chairman.Supporters of Ajit Pai, who has kicked off proceedings to roll back Obama-era net neutrality protections, have been quick to seize on inflammatory comments filed in the past week, after Oliver urged his audience to show support for the regulations.And on Sunday, Oliver acknowledged in a YouTube video that there were racist comments filed in support of net neutrality and had a simple message for any of his viewers who may have written them: “Stop it. Do not f—ing do that.”“Writing racist things on the internet is not how you win the net neutrality debate,” Oliver said. “It’s how you win the presidency.”Read more\\xa0here.\\xa0FTC LAUNCHES CAMPAIGN TO CRACK DOWN ON TECH SUPPORT SCAMS:\\xa0The Federal Trade Commission (FTC) is taking tougher steps to try and stop fraudulent tech support schemes, which are scamming consumers out of millions of dollars.The agency has launched a new effort, dubbed Operation Tech Trap, to end online scams where customers are tricked into believing their computers are infected with a virus and that they must pay a third party to solve the issue.The fraud involves scammers running deceptive pop-up ads that look like security alerts from Apple or Microsoft. The alerts falsely warn users that their computers are infected with a virus and that if they close the warning, the contents of their hard drive will be deleted. The ads provide a phone number to call, which promises to fix the nonexistent virus.Read more\\xa0here.\\xa0GOOGLE, LYFT TEAM UP ON SELF-DRIVING CARS:\\xa0Google’s self-driving car company has reached a deal to work with Lyft on autonomous vehicle technology, the companies said Monday.The partnership, which was first reported by The New York Times, comes as the race heats up to get driverless cars on the road.“We’re looking forward to working with Lyft to explore new self-driving products that will make our roads safer and transportation more accessible,” said a spokesman for Waymo, Google’s driverless car company. “Lyft’s vision and commitment to improving the way cities move will help Waymo’s self-driving technology reach more people, in more places.”Read more\\xa0here.\\xa0ON TAP:NIST will\\xa0hold\\xa0a cybersecurity framework workshop at 7:30 a.m. on Tuesday\\xa0IN CASE YOU MISSED IT:Hopes\\xa0rise\\xa0Trump will modernize feds’ technologyJudge asks federal prosecutor to\\xa0investigate UberExec to Trump:\\xa0Replace press briefings with TwitterDaily Caller:\\xa0Net neutrality activists protest outside FCC chair’s houseAdvocacy groups\\xa0ask\\xa0federal court to block FCC media ownership ruleTrump\\xa0signs\\xa0cybersecurity executive order', 'images': [{'url': 'https://i0.wp.com/thehill.com/wp-content/uploads/sites/2/2017/04/cybersecurity_getty.jpg?w=2000&ssl=1', 'image_type': 'main', 'caption': '', 'alt_text': ''}, {'url': 'https://thehill.com/wp-content/uploads/sites/2/2017/04/cybersecurity_getty.jpg?w=1280', 'image_type': 'social', 'caption': '', 'alt_text': ''}], 'uuid': '77a0c19b-406e-11ee-a96e-33dec8f414a2', 'parent': '77a0c19b-406e-11ee-a96e-33dec8f414a2'}\n"
          ]
        }
      ],
      "source": [
        "# Print a sample of data\n",
        "num_rows= 2\n",
        "for i in range(num_rows):\n",
        "    print(data[i])\n",
        "\n"
      ]
    },
    {
      "cell_type": "code",
      "execution_count": 12,
      "id": "9c75bb32",
      "metadata": {
        "id": "9c75bb32"
      },
      "outputs": [],
      "source": [
        "#development sample\n",
        "data_sample = data[0:30]\n",
        "\n",
        "# Specify the file path in Google Drive\n",
        "file_path = \"/content/gdrive/MyDrive/Advanced ML/30_sample_articles.json\"\n",
        "\n",
        "# Write the JSON data to the file\n",
        "with open(file_path, \"w\") as fp:\n",
        "    json.dump(data_sample, fp)"
      ]
    },
    {
      "cell_type": "code",
      "execution_count": 13,
      "id": "8c25769f",
      "metadata": {
        "id": "8c25769f",
        "outputId": "393553c4-08d4-4336-95dd-e5cf65940c56",
        "colab": {
          "base_uri": "https://localhost:8080/"
        }
      },
      "outputs": [
        {
          "output_type": "stream",
          "name": "stdout",
          "text": [
            "title\n",
            "article_text\n",
            "images\n",
            "uuid\n",
            "parent\n"
          ]
        }
      ],
      "source": [
        "for article in data_sample:\n",
        "    for key in article:\n",
        "        print(key)\n",
        "    break"
      ]
    },
    {
      "cell_type": "code",
      "execution_count": 14,
      "id": "15bd4170",
      "metadata": {
        "id": "15bd4170",
        "outputId": "13b46ab2-2f4c-4347-e808-390b626a0d73",
        "colab": {
          "base_uri": "https://localhost:8080/"
        }
      },
      "outputs": [
        {
          "output_type": "execute_result",
          "data": {
            "text/plain": [
              "dict_keys(['title', 'article_text', 'images', 'uuid', 'parent'])"
            ]
          },
          "metadata": {},
          "execution_count": 14
        }
      ],
      "source": [
        "data[300].keys()"
      ]
    },
    {
      "cell_type": "markdown",
      "id": "a4ae22a7",
      "metadata": {
        "id": "a4ae22a7"
      },
      "source": [
        "Looks like we could either grab sourse from image url main or imag url social"
      ]
    },
    {
      "cell_type": "code",
      "execution_count": 15,
      "id": "34e6d79d",
      "metadata": {
        "id": "34e6d79d",
        "outputId": "72128d94-175e-4b9d-b2da-a74540b30b2d",
        "colab": {
          "base_uri": "https://localhost:8080/"
        }
      },
      "outputs": [
        {
          "output_type": "stream",
          "name": "stdout",
          "text": [
            "main https://i0.wp.com/thehill.com/wp-content/uploads/sites/2/2017/01/trumphotel618289268.jpg?w=2000&ssl=1\n",
            "social https://thehill.com/wp-content/uploads/sites/2/2017/01/trumphotel618289268.jpg?w=1280\n"
          ]
        }
      ],
      "source": [
        "for sample in data_sample:\n",
        "    #print(sample[\"images\"])\n",
        "    for url_item in sample[\"images\"]:\n",
        "        print(url_item[\"image_type\"], url_item[\"url\"])\n",
        "    break\n",
        "\n"
      ]
    },
    {
      "cell_type": "markdown",
      "id": "0d448b88",
      "metadata": {
        "id": "0d448b88"
      },
      "source": [
        "# Experimenting with preprocessing"
      ]
    },
    {
      "cell_type": "code",
      "execution_count": null,
      "id": "b517cba9",
      "metadata": {
        "id": "b517cba9"
      },
      "outputs": [],
      "source": [
        "# isolate the article text\n",
        "#text_only = []\n",
        "#for article in data_sample:\n",
        "#    text_only.append(article[\"article_text\"])\n"
      ]
    },
    {
      "cell_type": "code",
      "execution_count": 16,
      "id": "9427b76e",
      "metadata": {
        "id": "9427b76e",
        "outputId": "26e38818-d62d-4ed8-c1f7-e25073919a4e",
        "colab": {
          "base_uri": "https://localhost:8080/",
          "height": 362
        }
      },
      "outputs": [
        {
          "output_type": "execute_result",
          "data": {
            "text/plain": [
              "                                               title  \\\n",
              "0  \\n\\t\\tTrump DC hotel falls millions short of p...   \n",
              "1  \\n\\t\\tOvernight Tech: Microsoft wants end to f...   \n",
              "2  \\n\\t\\tAnother US motorcycle company considerin...   \n",
              "3  \\n\\t\\tTrump: ‘I don’t need a summit’ with Mexi...   \n",
              "4  \\n\\t\\tUS calls emergency meeting of UN nuclear...   \n",
              "\n",
              "                                        article_text  \\\n",
              "0  President Trump’s Washington, D.C., hotel made...   \n",
              "1  MICROSOFT CALLS OUT GOVERNMENT HACKING PRACTIC...   \n",
              "2  Minnesota-based Polaris acknowledged on Friday...   \n",
              "3  President Trump said he does not need to hold ...   \n",
              "4  The United States called an emergency meeting ...   \n",
              "\n",
              "                                              images  \\\n",
              "0  [{'url': 'https://i0.wp.com/thehill.com/wp-con...   \n",
              "1  [{'url': 'https://i0.wp.com/thehill.com/wp-con...   \n",
              "2  [{'url': 'https://thehill.com/wp-content/uploa...   \n",
              "3  [{'url': 'https://i0.wp.com/thehill.com/wp-con...   \n",
              "4  [{'url': 'https://thehill.com/wp-content/uploa...   \n",
              "\n",
              "                                   uuid                                parent  \n",
              "0  73ff4208-406e-11ee-a96e-33dec8f414a2  73ff4208-406e-11ee-a96e-33dec8f414a2  \n",
              "1  77a0c19b-406e-11ee-a96e-33dec8f414a2  77a0c19b-406e-11ee-a96e-33dec8f414a2  \n",
              "2  8cfe90c9-406e-11ee-a96e-33dec8f414a2  8cfe90c9-406e-11ee-a96e-33dec8f414a2  \n",
              "3  9cdbdae6-406e-11ee-a96e-33dec8f414a2  9cdbdae6-406e-11ee-a96e-33dec8f414a2  \n",
              "4  a3a5f190-406e-11ee-a96e-33dec8f414a2  a3a5f190-406e-11ee-a96e-33dec8f414a2  "
            ],
            "text/html": [
              "\n",
              "  <div id=\"df-3524e0ee-226c-4909-b94c-c7acf3a48e06\" class=\"colab-df-container\">\n",
              "    <div>\n",
              "<style scoped>\n",
              "    .dataframe tbody tr th:only-of-type {\n",
              "        vertical-align: middle;\n",
              "    }\n",
              "\n",
              "    .dataframe tbody tr th {\n",
              "        vertical-align: top;\n",
              "    }\n",
              "\n",
              "    .dataframe thead th {\n",
              "        text-align: right;\n",
              "    }\n",
              "</style>\n",
              "<table border=\"1\" class=\"dataframe\">\n",
              "  <thead>\n",
              "    <tr style=\"text-align: right;\">\n",
              "      <th></th>\n",
              "      <th>title</th>\n",
              "      <th>article_text</th>\n",
              "      <th>images</th>\n",
              "      <th>uuid</th>\n",
              "      <th>parent</th>\n",
              "    </tr>\n",
              "  </thead>\n",
              "  <tbody>\n",
              "    <tr>\n",
              "      <th>0</th>\n",
              "      <td>\\n\\t\\tTrump DC hotel falls millions short of p...</td>\n",
              "      <td>President Trump’s Washington, D.C., hotel made...</td>\n",
              "      <td>[{'url': 'https://i0.wp.com/thehill.com/wp-con...</td>\n",
              "      <td>73ff4208-406e-11ee-a96e-33dec8f414a2</td>\n",
              "      <td>73ff4208-406e-11ee-a96e-33dec8f414a2</td>\n",
              "    </tr>\n",
              "    <tr>\n",
              "      <th>1</th>\n",
              "      <td>\\n\\t\\tOvernight Tech: Microsoft wants end to f...</td>\n",
              "      <td>MICROSOFT CALLS OUT GOVERNMENT HACKING PRACTIC...</td>\n",
              "      <td>[{'url': 'https://i0.wp.com/thehill.com/wp-con...</td>\n",
              "      <td>77a0c19b-406e-11ee-a96e-33dec8f414a2</td>\n",
              "      <td>77a0c19b-406e-11ee-a96e-33dec8f414a2</td>\n",
              "    </tr>\n",
              "    <tr>\n",
              "      <th>2</th>\n",
              "      <td>\\n\\t\\tAnother US motorcycle company considerin...</td>\n",
              "      <td>Minnesota-based Polaris acknowledged on Friday...</td>\n",
              "      <td>[{'url': 'https://thehill.com/wp-content/uploa...</td>\n",
              "      <td>8cfe90c9-406e-11ee-a96e-33dec8f414a2</td>\n",
              "      <td>8cfe90c9-406e-11ee-a96e-33dec8f414a2</td>\n",
              "    </tr>\n",
              "    <tr>\n",
              "      <th>3</th>\n",
              "      <td>\\n\\t\\tTrump: ‘I don’t need a summit’ with Mexi...</td>\n",
              "      <td>President Trump said he does not need to hold ...</td>\n",
              "      <td>[{'url': 'https://i0.wp.com/thehill.com/wp-con...</td>\n",
              "      <td>9cdbdae6-406e-11ee-a96e-33dec8f414a2</td>\n",
              "      <td>9cdbdae6-406e-11ee-a96e-33dec8f414a2</td>\n",
              "    </tr>\n",
              "    <tr>\n",
              "      <th>4</th>\n",
              "      <td>\\n\\t\\tUS calls emergency meeting of UN nuclear...</td>\n",
              "      <td>The United States called an emergency meeting ...</td>\n",
              "      <td>[{'url': 'https://thehill.com/wp-content/uploa...</td>\n",
              "      <td>a3a5f190-406e-11ee-a96e-33dec8f414a2</td>\n",
              "      <td>a3a5f190-406e-11ee-a96e-33dec8f414a2</td>\n",
              "    </tr>\n",
              "  </tbody>\n",
              "</table>\n",
              "</div>\n",
              "    <div class=\"colab-df-buttons\">\n",
              "\n",
              "  <div class=\"colab-df-container\">\n",
              "    <button class=\"colab-df-convert\" onclick=\"convertToInteractive('df-3524e0ee-226c-4909-b94c-c7acf3a48e06')\"\n",
              "            title=\"Convert this dataframe to an interactive table.\"\n",
              "            style=\"display:none;\">\n",
              "\n",
              "  <svg xmlns=\"http://www.w3.org/2000/svg\" height=\"24px\" viewBox=\"0 -960 960 960\">\n",
              "    <path d=\"M120-120v-720h720v720H120Zm60-500h600v-160H180v160Zm220 220h160v-160H400v160Zm0 220h160v-160H400v160ZM180-400h160v-160H180v160Zm440 0h160v-160H620v160ZM180-180h160v-160H180v160Zm440 0h160v-160H620v160Z\"/>\n",
              "  </svg>\n",
              "    </button>\n",
              "\n",
              "  <style>\n",
              "    .colab-df-container {\n",
              "      display:flex;\n",
              "      gap: 12px;\n",
              "    }\n",
              "\n",
              "    .colab-df-convert {\n",
              "      background-color: #E8F0FE;\n",
              "      border: none;\n",
              "      border-radius: 50%;\n",
              "      cursor: pointer;\n",
              "      display: none;\n",
              "      fill: #1967D2;\n",
              "      height: 32px;\n",
              "      padding: 0 0 0 0;\n",
              "      width: 32px;\n",
              "    }\n",
              "\n",
              "    .colab-df-convert:hover {\n",
              "      background-color: #E2EBFA;\n",
              "      box-shadow: 0px 1px 2px rgba(60, 64, 67, 0.3), 0px 1px 3px 1px rgba(60, 64, 67, 0.15);\n",
              "      fill: #174EA6;\n",
              "    }\n",
              "\n",
              "    .colab-df-buttons div {\n",
              "      margin-bottom: 4px;\n",
              "    }\n",
              "\n",
              "    [theme=dark] .colab-df-convert {\n",
              "      background-color: #3B4455;\n",
              "      fill: #D2E3FC;\n",
              "    }\n",
              "\n",
              "    [theme=dark] .colab-df-convert:hover {\n",
              "      background-color: #434B5C;\n",
              "      box-shadow: 0px 1px 3px 1px rgba(0, 0, 0, 0.15);\n",
              "      filter: drop-shadow(0px 1px 2px rgba(0, 0, 0, 0.3));\n",
              "      fill: #FFFFFF;\n",
              "    }\n",
              "  </style>\n",
              "\n",
              "    <script>\n",
              "      const buttonEl =\n",
              "        document.querySelector('#df-3524e0ee-226c-4909-b94c-c7acf3a48e06 button.colab-df-convert');\n",
              "      buttonEl.style.display =\n",
              "        google.colab.kernel.accessAllowed ? 'block' : 'none';\n",
              "\n",
              "      async function convertToInteractive(key) {\n",
              "        const element = document.querySelector('#df-3524e0ee-226c-4909-b94c-c7acf3a48e06');\n",
              "        const dataTable =\n",
              "          await google.colab.kernel.invokeFunction('convertToInteractive',\n",
              "                                                    [key], {});\n",
              "        if (!dataTable) return;\n",
              "\n",
              "        const docLinkHtml = 'Like what you see? Visit the ' +\n",
              "          '<a target=\"_blank\" href=https://colab.research.google.com/notebooks/data_table.ipynb>data table notebook</a>'\n",
              "          + ' to learn more about interactive tables.';\n",
              "        element.innerHTML = '';\n",
              "        dataTable['output_type'] = 'display_data';\n",
              "        await google.colab.output.renderOutput(dataTable, element);\n",
              "        const docLink = document.createElement('div');\n",
              "        docLink.innerHTML = docLinkHtml;\n",
              "        element.appendChild(docLink);\n",
              "      }\n",
              "    </script>\n",
              "  </div>\n",
              "\n",
              "\n",
              "<div id=\"df-4261effc-3b42-4d89-854e-9344146c1631\">\n",
              "  <button class=\"colab-df-quickchart\" onclick=\"quickchart('df-4261effc-3b42-4d89-854e-9344146c1631')\"\n",
              "            title=\"Suggest charts\"\n",
              "            style=\"display:none;\">\n",
              "\n",
              "<svg xmlns=\"http://www.w3.org/2000/svg\" height=\"24px\"viewBox=\"0 0 24 24\"\n",
              "     width=\"24px\">\n",
              "    <g>\n",
              "        <path d=\"M19 3H5c-1.1 0-2 .9-2 2v14c0 1.1.9 2 2 2h14c1.1 0 2-.9 2-2V5c0-1.1-.9-2-2-2zM9 17H7v-7h2v7zm4 0h-2V7h2v10zm4 0h-2v-4h2v4z\"/>\n",
              "    </g>\n",
              "</svg>\n",
              "  </button>\n",
              "\n",
              "<style>\n",
              "  .colab-df-quickchart {\n",
              "      --bg-color: #E8F0FE;\n",
              "      --fill-color: #1967D2;\n",
              "      --hover-bg-color: #E2EBFA;\n",
              "      --hover-fill-color: #174EA6;\n",
              "      --disabled-fill-color: #AAA;\n",
              "      --disabled-bg-color: #DDD;\n",
              "  }\n",
              "\n",
              "  [theme=dark] .colab-df-quickchart {\n",
              "      --bg-color: #3B4455;\n",
              "      --fill-color: #D2E3FC;\n",
              "      --hover-bg-color: #434B5C;\n",
              "      --hover-fill-color: #FFFFFF;\n",
              "      --disabled-bg-color: #3B4455;\n",
              "      --disabled-fill-color: #666;\n",
              "  }\n",
              "\n",
              "  .colab-df-quickchart {\n",
              "    background-color: var(--bg-color);\n",
              "    border: none;\n",
              "    border-radius: 50%;\n",
              "    cursor: pointer;\n",
              "    display: none;\n",
              "    fill: var(--fill-color);\n",
              "    height: 32px;\n",
              "    padding: 0;\n",
              "    width: 32px;\n",
              "  }\n",
              "\n",
              "  .colab-df-quickchart:hover {\n",
              "    background-color: var(--hover-bg-color);\n",
              "    box-shadow: 0 1px 2px rgba(60, 64, 67, 0.3), 0 1px 3px 1px rgba(60, 64, 67, 0.15);\n",
              "    fill: var(--button-hover-fill-color);\n",
              "  }\n",
              "\n",
              "  .colab-df-quickchart-complete:disabled,\n",
              "  .colab-df-quickchart-complete:disabled:hover {\n",
              "    background-color: var(--disabled-bg-color);\n",
              "    fill: var(--disabled-fill-color);\n",
              "    box-shadow: none;\n",
              "  }\n",
              "\n",
              "  .colab-df-spinner {\n",
              "    border: 2px solid var(--fill-color);\n",
              "    border-color: transparent;\n",
              "    border-bottom-color: var(--fill-color);\n",
              "    animation:\n",
              "      spin 1s steps(1) infinite;\n",
              "  }\n",
              "\n",
              "  @keyframes spin {\n",
              "    0% {\n",
              "      border-color: transparent;\n",
              "      border-bottom-color: var(--fill-color);\n",
              "      border-left-color: var(--fill-color);\n",
              "    }\n",
              "    20% {\n",
              "      border-color: transparent;\n",
              "      border-left-color: var(--fill-color);\n",
              "      border-top-color: var(--fill-color);\n",
              "    }\n",
              "    30% {\n",
              "      border-color: transparent;\n",
              "      border-left-color: var(--fill-color);\n",
              "      border-top-color: var(--fill-color);\n",
              "      border-right-color: var(--fill-color);\n",
              "    }\n",
              "    40% {\n",
              "      border-color: transparent;\n",
              "      border-right-color: var(--fill-color);\n",
              "      border-top-color: var(--fill-color);\n",
              "    }\n",
              "    60% {\n",
              "      border-color: transparent;\n",
              "      border-right-color: var(--fill-color);\n",
              "    }\n",
              "    80% {\n",
              "      border-color: transparent;\n",
              "      border-right-color: var(--fill-color);\n",
              "      border-bottom-color: var(--fill-color);\n",
              "    }\n",
              "    90% {\n",
              "      border-color: transparent;\n",
              "      border-bottom-color: var(--fill-color);\n",
              "    }\n",
              "  }\n",
              "</style>\n",
              "\n",
              "  <script>\n",
              "    async function quickchart(key) {\n",
              "      const quickchartButtonEl =\n",
              "        document.querySelector('#' + key + ' button');\n",
              "      quickchartButtonEl.disabled = true;  // To prevent multiple clicks.\n",
              "      quickchartButtonEl.classList.add('colab-df-spinner');\n",
              "      try {\n",
              "        const charts = await google.colab.kernel.invokeFunction(\n",
              "            'suggestCharts', [key], {});\n",
              "      } catch (error) {\n",
              "        console.error('Error during call to suggestCharts:', error);\n",
              "      }\n",
              "      quickchartButtonEl.classList.remove('colab-df-spinner');\n",
              "      quickchartButtonEl.classList.add('colab-df-quickchart-complete');\n",
              "    }\n",
              "    (() => {\n",
              "      let quickchartButtonEl =\n",
              "        document.querySelector('#df-4261effc-3b42-4d89-854e-9344146c1631 button');\n",
              "      quickchartButtonEl.style.display =\n",
              "        google.colab.kernel.accessAllowed ? 'block' : 'none';\n",
              "    })();\n",
              "  </script>\n",
              "</div>\n",
              "    </div>\n",
              "  </div>\n"
            ],
            "application/vnd.google.colaboratory.intrinsic+json": {
              "type": "dataframe",
              "variable_name": "df",
              "repr_error": "unhashable type: 'list'"
            }
          },
          "metadata": {},
          "execution_count": 16
        }
      ],
      "source": [
        "json_string = json.dumps(data_sample)\n",
        "df = pd.read_json(json_string)\n",
        "df.head()"
      ]
    },
    {
      "cell_type": "markdown",
      "id": "3afc15e4",
      "metadata": {
        "id": "3afc15e4"
      },
      "source": [
        "# Preprocessing"
      ]
    },
    {
      "cell_type": "code",
      "execution_count": 17,
      "id": "dd36da91",
      "metadata": {
        "id": "dd36da91"
      },
      "outputs": [],
      "source": [
        "#concate text and title\n",
        "df[\"title_text\"] = df[\"title\"] + \" \" +  df[\"article_text\"]"
      ]
    },
    {
      "cell_type": "code",
      "execution_count": 18,
      "id": "256bd6d1",
      "metadata": {
        "id": "256bd6d1"
      },
      "outputs": [],
      "source": [
        "\n",
        "#lowercase text\n",
        "df['title_text'] = df['title_text'].str.lower()\n",
        "\n",
        "# remove some unicode, for tabs and newline and return.\n",
        "# are there others?\n",
        "df['title_text'] = df['title_text'].apply(lambda x: re.sub(r'[\\n\\t\\r]', '', x))\n",
        "\n",
        "# remove punctuation, replace with space\n",
        "df['title_text'] = df['title_text'].apply(lambda x: re.sub(r'[^\\w\\s]', ' ', x))"
      ]
    },
    {
      "cell_type": "code",
      "execution_count": 19,
      "id": "2486227b",
      "metadata": {
        "id": "2486227b",
        "outputId": "df1de44e-39c4-4465-8c46-75b7371437a3",
        "colab": {
          "base_uri": "https://localhost:8080/"
        }
      },
      "outputs": [
        {
          "output_type": "stream",
          "name": "stdout",
          "text": [
            "{'my', 'while', \"that'll\", 'shan', 't', 'that', 'shouldn', 'herself', 'by', 'll', 'are', 'above', 'ain', 'up', 'just', \"mustn't\", 'he', 'or', 'has', 'if', \"needn't\", 'other', 'about', 'hadn', 'who', 'their', 'than', 'yourselves', \"didn't\", 'should', \"wasn't\", 'in', 'wouldn', 'too', 'each', 'own', \"it's\", 'against', 'i', 'not', 's', 'until', 'isn', 'as', 'o', 'me', 'have', 'ourselves', 'didn', 'again', 'don', 'does', 'haven', \"wouldn't\", \"you've\", 'and', 'ours', 're', 'a', 'was', \"couldn't\", 'to', 'on', 'during', 'needn', \"shan't\", \"she's\", 'being', 'with', 'all', 'over', 'these', 'we', 'an', \"don't\", 'himself', 'but', 'won', 'been', 'yours', 'can', 'what', \"you'll\", 'whom', 'before', \"shouldn't\", 'some', 'here', 'them', 'where', 'now', \"weren't\", \"hadn't\", 'had', 'further', 'into', 'do', \"won't\", 'were', 'doing', 'down', 'off', 'from', 'when', 've', 'both', 'am', \"you'd\", 'him', 'which', 'nor', 'they', \"should've\", 'there', 'hasn', \"you're\", 'this', 'm', 'having', 'it', 'the', 'will', 'few', 'themselves', 'our', 'such', 'mustn', 'of', 'no', 'yourself', 'ma', 'itself', 'your', 'below', 'how', 'after', 'same', 'd', 'for', 'then', 'couldn', 'its', 'only', 'hers', 'you', 'did', 'very', 'his', 'myself', 'those', 'wasn', 'aren', 'through', \"aren't\", 'so', 'because', 'more', 'be', \"isn't\", 'doesn', \"hasn't\", 'between', 'why', 'she', 'once', 'weren', 'at', 'out', 'theirs', 'is', 'y', \"doesn't\", 'mightn', 'under', \"mightn't\", 'her', 'any', \"haven't\", 'most'}\n"
          ]
        }
      ],
      "source": [
        "stop_words = set(stopwords.words('english'))\n",
        "print(stop_words)"
      ]
    },
    {
      "cell_type": "code",
      "execution_count": 20,
      "id": "80ff0164",
      "metadata": {
        "id": "80ff0164",
        "outputId": "79e66b54-1127-486f-b363-71526b8a40dd",
        "colab": {
          "base_uri": "https://localhost:8080/"
        }
      },
      "outputs": [
        {
          "output_type": "execute_result",
          "data": {
            "text/plain": [
              "179"
            ]
          },
          "metadata": {},
          "execution_count": 20
        }
      ],
      "source": [
        "len(stop_words)"
      ]
    },
    {
      "cell_type": "code",
      "execution_count": 21,
      "id": "2b6efc0a",
      "metadata": {
        "id": "2b6efc0a"
      },
      "outputs": [],
      "source": [
        "\n",
        "def remove_stopwords_and_lemmatize(text):\n",
        "\n",
        "    word_tokens = word_tokenize(text)\n",
        "    removed_stopword = [word for word in word_tokens if word not in stop_words]\n",
        "\n",
        "    lemmatizer = WordNetLemmatizer()\n",
        "    lemmatized_text = [lemmatizer.lemmatize(token) for token in removed_stopword]\n",
        "\n",
        "    return ' '.join(lemmatized_text[:50])\n",
        "\n",
        "df['title_text'] = df['title_text'].apply(remove_stopwords_and_lemmatize)\n"
      ]
    },
    {
      "cell_type": "code",
      "execution_count": 22,
      "id": "7acf8d0a",
      "metadata": {
        "id": "7acf8d0a"
      },
      "outputs": [],
      "source": [
        "# remove extra spaces\n",
        "df['title_text_clean'] = df['title_text'].str.replace(r'\\s+', ' ', regex=True)"
      ]
    },
    {
      "cell_type": "code",
      "execution_count": 23,
      "id": "8f0b0ec3",
      "metadata": {
        "id": "8f0b0ec3",
        "outputId": "96512320-6502-4cb0-ab70-435d433e07e1",
        "colab": {
          "base_uri": "https://localhost:8080/"
        }
      },
      "outputs": [
        {
          "output_type": "execute_result",
          "data": {
            "text/plain": [
              "0    trump dc hotel fall million short projected re...\n",
              "1    overnight tech microsoft want end fed secret h...\n",
              "2    another u motorcycle company considering movin...\n",
              "3    trump need summit mexico el salvador guatemala...\n",
              "4    u call emergency meeting un nuclear watchdog g...\n",
              "Name: title_text_clean, dtype: object"
            ]
          },
          "metadata": {},
          "execution_count": 23
        }
      ],
      "source": [
        "df['title_text_clean'].head()\n",
        "# US--> U?"
      ]
    },
    {
      "cell_type": "code",
      "execution_count": 25,
      "id": "dc18a02c",
      "metadata": {
        "id": "dc18a02c"
      },
      "outputs": [],
      "source": [
        "#cleaned sample\n",
        "\n",
        "#selected_columns = df[['title', 'text', 'title_text_clean']]\n",
        "df[['title', 'article_text', 'title_text_clean']].to_csv(\"/content/gdrive/MyDrive/Advanced ML/30_sample_articles_cleaned.csv\", index=False)"
      ]
    },
    {
      "cell_type": "markdown",
      "source": [
        "## Create embeddings"
      ],
      "metadata": {
        "id": "oZhBKO5U7GtH"
      },
      "id": "oZhBKO5U7GtH"
    },
    {
      "cell_type": "code",
      "source": [
        "df['title_text_clean'][1]"
      ],
      "metadata": {
        "colab": {
          "base_uri": "https://localhost:8080/",
          "height": 71
        },
        "id": "DZAMAAGl9wHt",
        "outputId": "62cb0630-4d90-4199-d6cd-2ec0836892a0"
      },
      "id": "DZAMAAGl9wHt",
      "execution_count": 31,
      "outputs": [
        {
          "output_type": "execute_result",
          "data": {
            "text/plain": [
              "'overnight tech microsoft want end fed secret hacking tool latest ransomware attack john oliver call civil tone net neutrality fight house vote cyber bill microsoft call government hacking practice heel widespread ransomware attack may used leaked national security agency hacking method microsoft calling government cease stockpiling secret mean bypassing software'"
            ],
            "application/vnd.google.colaboratory.intrinsic+json": {
              "type": "string"
            }
          },
          "metadata": {},
          "execution_count": 31
        }
      ]
    },
    {
      "cell_type": "code",
      "source": [
        "# Load the pre-trained BERT tokenizer\n",
        "tokenizer = BertTokenizer.from_pretrained('bert-base-uncased')\n",
        "\n",
        "# Example text\n",
        "text = 'overnight tech microsoft want end fed secret hacking tool latest ransomware attack john oliver call civil tone net neutrality fight house vote cyber bill microsoft call government hacking practice heel widespread ransomware attack may used leaked national security agency hacking method microsoft calling government cease stockpiling secret mean bypassing software'\n",
        "\n",
        "encoding = tokenizer.encode_plus(text, add_special_tokens = True, truncation = True, return_tensors = \"pt\")\n",
        "\n",
        "# Print the tokens\n",
        "print(\"Original Text:\", text)\n",
        "print(\"Tokenized Text:\", encoding)"
      ],
      "metadata": {
        "colab": {
          "base_uri": "https://localhost:8080/"
        },
        "id": "bIM1vuxg7NxY",
        "outputId": "50b37dee-eaff-4cf9-e2ef-a37d7d08c55f"
      },
      "id": "bIM1vuxg7NxY",
      "execution_count": 39,
      "outputs": [
        {
          "output_type": "stream",
          "name": "stdout",
          "text": [
            "Original Text: overnight tech microsoft want end fed secret hacking tool latest ransomware attack john oliver call civil tone net neutrality fight house vote cyber bill microsoft call government hacking practice heel widespread ransomware attack may used leaked national security agency hacking method microsoft calling government cease stockpiling secret mean bypassing software\n",
            "Tokenized Text: {'input_ids': tensor([[  101, 11585,  6627,  7513,  2215,  2203,  7349,  3595, 23707,  6994,\n",
            "          6745, 16540,  8059,  2886,  2198,  6291,  2655,  2942,  4309,  5658,\n",
            "         21083,  2954,  2160,  3789, 16941,  3021,  7513,  2655,  2231, 23707,\n",
            "          3218, 12073,  6923, 16540,  8059,  2886,  2089,  2109, 15748,  2120,\n",
            "          3036,  4034, 23707,  4118,  7513,  4214,  2231, 13236,  4518,  8197,\n",
            "          2989,  3595,  2812, 11826,  2075,  4007,   102]]), 'token_type_ids': tensor([[0, 0, 0, 0, 0, 0, 0, 0, 0, 0, 0, 0, 0, 0, 0, 0, 0, 0, 0, 0, 0, 0, 0, 0,\n",
            "         0, 0, 0, 0, 0, 0, 0, 0, 0, 0, 0, 0, 0, 0, 0, 0, 0, 0, 0, 0, 0, 0, 0, 0,\n",
            "         0, 0, 0, 0, 0, 0, 0, 0, 0]]), 'attention_mask': tensor([[1, 1, 1, 1, 1, 1, 1, 1, 1, 1, 1, 1, 1, 1, 1, 1, 1, 1, 1, 1, 1, 1, 1, 1,\n",
            "         1, 1, 1, 1, 1, 1, 1, 1, 1, 1, 1, 1, 1, 1, 1, 1, 1, 1, 1, 1, 1, 1, 1, 1,\n",
            "         1, 1, 1, 1, 1, 1, 1, 1, 1]])}\n"
          ]
        }
      ]
    }
  ],
  "metadata": {
    "kernelspec": {
      "display_name": "Python 3.10.13 ('capp30255')",
      "language": "python",
      "name": "python3"
    },
    "language_info": {
      "codemirror_mode": {
        "name": "ipython",
        "version": 3
      },
      "file_extension": ".py",
      "mimetype": "text/x-python",
      "name": "python",
      "nbconvert_exporter": "python",
      "pygments_lexer": "ipython3",
      "version": "3.10.13"
    },
    "vscode": {
      "interpreter": {
        "hash": "0f8cb61b81dc3ce2670cbaa0dd80498fa1179fcecf7966dc7a316b7b0ee2d652"
      }
    },
    "colab": {
      "provenance": []
    }
  },
  "nbformat": 4,
  "nbformat_minor": 5
}